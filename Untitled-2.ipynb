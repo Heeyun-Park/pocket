{
 "cells": [
  {
   "cell_type": "code",
   "execution_count": 2,
   "metadata": {},
   "outputs": [
    {
     "data": {
      "text/plain": [
       "((40506, 2861), (40506,), (17361, 2861))"
      ]
     },
     "execution_count": 2,
     "metadata": {},
     "output_type": "execute_result"
    }
   ],
   "source": [
    "import pandas as pd\n",
    "\n",
    "# 데이터 로드\n",
    "train_df = pd.read_csv('/Users/gmldbs/gitgit/pocket/train.csv')\n",
    "test_df = pd.read_csv('/Users/gmldbs/gitgit/pocket/test.csv')\n",
    "\n",
    "# 결측치 처리 (결측치가 너무 많은 경우, 해당 컬럼을 제거)\n",
    "missing_threshold = 0.5  # 50% 이상 결측치가 있는 경우 컬럼을 제거\n",
    "train_df = train_df.dropna(thresh=int(missing_threshold * len(train_df)), axis=1)\n",
    "test_df = test_df.dropna(thresh=int(missing_threshold * len(test_df)), axis=1)\n",
    "\n",
    "# 범주형 변수 인코딩\n",
    "train_df = pd.get_dummies(train_df)\n",
    "test_df = pd.get_dummies(test_df)\n",
    "\n",
    "# 학습과 테스트 데이터의 컬럼 일치화\n",
    "train_df, test_df = train_df.align(test_df, join='inner', axis=1)\n",
    "\n",
    "# 타겟 변수 추가\n",
    "train_df['target'] = pd.read_csv('/Users/gmldbs/gitgit/pocket/train.csv')['target']\n",
    "\n",
    "# 학습 데이터와 타겟 분리\n",
    "X_train = train_df.drop('target', axis=1)\n",
    "y_train = train_df['target']\n",
    "\n",
    "# 테스트 데이터에는 target이 없으므로 그대로 사용\n",
    "X_test = test_df\n",
    "\n",
    "X_train.shape, y_train.shape, X_test.shape\n"
   ]
  },
  {
   "cell_type": "code",
   "execution_count": null,
   "metadata": {},
   "outputs": [],
   "source": [
    "\n",
    "df_cled.to_csv('filename.csv', index=False)"
   ]
  }
 ],
 "metadata": {
  "kernelspec": {
   "display_name": "base",
   "language": "python",
   "name": "python3"
  },
  "language_info": {
   "codemirror_mode": {
    "name": "ipython",
    "version": 3
   },
   "file_extension": ".py",
   "mimetype": "text/x-python",
   "name": "python",
   "nbconvert_exporter": "python",
   "pygments_lexer": "ipython3",
   "version": "3.12.4"
  }
 },
 "nbformat": 4,
 "nbformat_minor": 2
}
