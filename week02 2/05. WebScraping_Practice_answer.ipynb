{
 "cells": [
  {
   "cell_type": "markdown",
   "id": "74c987b2",
   "metadata": {},
   "source": [
    "<span style = 'font-size:1.5em;line-height:1.5em'><b>1. </b>국민대학교 경영대학 AI빅데이터융합경영학과 소개 페이지에서 다음과 같은 텍스트를 추출하라.</span>\n",
    "\n",
    "\"AI빅데이터 역량과 비즈니스 마인드를 겸비한 디지털 경영 전문인력 양성\"\n",
    "\n",
    "\"AI와 빅데이터를 활용한 업무 자동화와 효율화는 기업 운영 전반에 비용 절감을 이끌고 있으며 이를 활용한 새로운 비즈니스 영역이 빠르게 확장되고 있습니다. 이에 따라 마케팅, 인사조직, 금융, 생산관리 등 현장 실무와 경영 환경이 빅데이터와 AI를 응용하는 방식으로 변화하고 있습니다. AI빅데이터융합경영학과는 산업 현장에 대응하는 비즈니스 이해와 협업 능력을 갖춘 창의적 혁신가, 빅데이터 기반의 문제해결 역량을 갖춘 분석 전문가, AI를 응용하고 활용할 줄 아는 융합형 전문가를 양성하는 것을 목표로 합니다.\""
   ]
  },
  {
   "cell_type": "code",
   "execution_count": 1,
   "id": "4bcbc156",
   "metadata": {},
   "outputs": [],
   "source": [
    "from bs4 import BeautifulSoup\n",
    "from urllib.request import urlopen\n",
    "# import urllib"
   ]
  },
  {
   "cell_type": "code",
   "execution_count": 2,
   "id": "f873b484",
   "metadata": {},
   "outputs": [],
   "source": [
    "url = 'https://www.kookmin.ac.kr/comm/menu/user/dcc49bd0de0a82d918456e893d7bb02e/content/index.do'\n",
    "url = 'https://biz.kookmin.ac.kr/undergraduate/ai/intro'\n",
    "html = urlopen(url)\n",
    "bs_obj = BeautifulSoup(html)"
   ]
  },
  {
   "cell_type": "markdown",
   "id": "ceee472c",
   "metadata": {},
   "source": [
    "- <span style = 'font-size:1.1em;line-height:1.5em'>첫번째 텍스트</span>"
   ]
  },
  {
   "cell_type": "code",
   "execution_count": 3,
   "id": "65bdd9bb",
   "metadata": {},
   "outputs": [
    {
     "data": {
      "text/plain": [
       "[<div class=\"undergraduate_contents\">\n",
       " <h5>AI빅데이터 역량과 비즈니스 마인드를  겸비한 디지털 경영 전문인력 양성</h5>\n",
       " </div>]"
      ]
     },
     "execution_count": 3,
     "metadata": {},
     "output_type": "execute_result"
    }
   ],
   "source": [
    "bs_obj.find_all('div',{'class':'undergraduate_contents'})"
   ]
  },
  {
   "cell_type": "code",
   "execution_count": 4,
   "id": "9c9c5004",
   "metadata": {},
   "outputs": [
    {
     "data": {
      "text/plain": [
       "'\\nAI빅데이터 역량과 비즈니스 마인드를  겸비한 디지털 경영 전문인력 양성\\n'"
      ]
     },
     "execution_count": 4,
     "metadata": {},
     "output_type": "execute_result"
    }
   ],
   "source": [
    "text1 = bs_obj.find_all('div',{'class':'undergraduate_contents'})[0].text\n",
    "text1"
   ]
  },
  {
   "cell_type": "code",
   "execution_count": 5,
   "id": "4691c18e",
   "metadata": {},
   "outputs": [],
   "source": [
    "text1 = text1.replace('\\n','')\n",
    "text1 = text1.replace('\\r','')"
   ]
  },
  {
   "cell_type": "code",
   "execution_count": 6,
   "id": "29d9de99",
   "metadata": {},
   "outputs": [
    {
     "name": "stdout",
     "output_type": "stream",
     "text": [
      "AI빅데이터 역량과 비즈니스 마인드를  겸비한 디지털 경영 전문인력 양성\n"
     ]
    }
   ],
   "source": [
    "print(text1)"
   ]
  },
  {
   "cell_type": "markdown",
   "id": "0b2c19e9",
   "metadata": {},
   "source": [
    "- <span style = 'font-size:1.1em;line-height:1.5em'>두번째 텍스트</span>"
   ]
  },
  {
   "cell_type": "code",
   "execution_count": 7,
   "id": "533bff2d",
   "metadata": {},
   "outputs": [
    {
     "data": {
      "text/plain": [
       "[<p class=\"undergraduate_txt\">\n",
       " \t\tAI와 빅데이터를 활용한 업무 자동화와 효율화는 기업 운영 전반에 비용 절감을 이끌고 있으며 이를 활용한 새로운 비즈니스 영역이 빠르게 확장되고 있습니다. 이에 따라 마케팅, 인사조직, 금융, 생산관리 등 현장 실무와 경영 환경이 빅데이터와 AI를 응용하는 방식으로 변화하고 있습니다. AI빅데이터융합경영학과는 산업 현장에 대응하는 비즈니스 이해와 협업 능력을 갖춘 창의적 혁신가, 빅데이터 기반의 문제해결 역량을 갖춘 분석 전문가, AI를 응용하고 활용할 줄 아는 융합형 전문가를 양성하는 것을 목표로 합니다. \n",
       " \t\t</p>,\n",
       " <p class=\"undergraduate_txt\">\n",
       "             4년간의 정규 커리큘럼을 마친 후 학생들은 다양한 산업에서 비즈니스애널리스트(비즈니스 현업 관점에서 데이터를 분석하여 응용, 도메인 지식이 중요한 역량), 데이터과학자(심화된 분석 역량을 갖춘 전문가, 데이터 엔지니어링이 가능하고 머신러닝, AI알고리즘, 통계 방법론을 적용하는 데이터 분석가), 빅데이터엔지니어(대용량 데이터의 수집·가공·처리(ETL)가 가능한 엔지니어), 데이터베이스관리자(데이터베이스를 설계하고 유지보수·운영이 가능한 전문가), 머신러닝엔지니어(머신러닝·AI 알고리즘을 구현하는 빅데이터 엔지니어), 데이터 기획자(데이터 관련 신기술을 개발·발굴 하고 조직의 데이터 트랜스포메이션의 방향 제시가 가능한 전문가) 등 기업 경영 일선에 필요한 인재로 활약하게 됩니다.\n",
       "             </p>]"
      ]
     },
     "execution_count": 7,
     "metadata": {},
     "output_type": "execute_result"
    }
   ],
   "source": [
    "bs_obj.find_all('p',{'class':'undergraduate_txt'})"
   ]
  },
  {
   "cell_type": "code",
   "execution_count": 8,
   "id": "045cbee8",
   "metadata": {},
   "outputs": [
    {
     "data": {
      "text/plain": [
       "'\\r\\n\\t\\tAI와 빅데이터를 활용한 업무 자동화와 효율화는 기업 운영 전반에 비용 절감을 이끌고 있으며 이를 활용한 새로운 비즈니스 영역이 빠르게 확장되고 있습니다. 이에 따라 마케팅, 인사조직, 금융, 생산관리 등 현장 실무와 경영 환경이 빅데이터와 AI를 응용하는 방식으로 변화하고 있습니다. AI빅데이터융합경영학과는 산업 현장에 대응하는 비즈니스 이해와 협업 능력을 갖춘 창의적 혁신가, 빅데이터 기반의 문제해결 역량을 갖춘 분석 전문가, AI를 응용하고 활용할 줄 아는 융합형 전문가를 양성하는 것을 목표로 합니다. \\r\\n\\t\\t'"
      ]
     },
     "execution_count": 8,
     "metadata": {},
     "output_type": "execute_result"
    }
   ],
   "source": [
    "text2 = bs_obj.find_all('p',{'class':'undergraduate_txt'})[0].text\n",
    "text2"
   ]
  },
  {
   "cell_type": "code",
   "execution_count": 9,
   "id": "2a97a84c",
   "metadata": {},
   "outputs": [],
   "source": [
    "text2 = text2.replace('\\n','')\n",
    "text2 = text2.replace('\\r','')\n",
    "text2 = text2.replace('\\t','')"
   ]
  },
  {
   "cell_type": "code",
   "execution_count": 10,
   "id": "1ed2452c",
   "metadata": {},
   "outputs": [
    {
     "data": {
      "text/plain": [
       "'AI와 빅데이터를 활용한 업무 자동화와 효율화는 기업 운영 전반에 비용 절감을 이끌고 있으며 이를 활용한 새로운 비즈니스 영역이 빠르게 확장되고 있습니다. 이에 따라 마케팅, 인사조직, 금융, 생산관리 등 현장 실무와 경영 환경이 빅데이터와 AI를 응용하는 방식으로 변화하고 있습니다. AI빅데이터융합경영학과는 산업 현장에 대응하는 비즈니스 이해와 협업 능력을 갖춘 창의적 혁신가, 빅데이터 기반의 문제해결 역량을 갖춘 분석 전문가, AI를 응용하고 활용할 줄 아는 융합형 전문가를 양성하는 것을 목표로 합니다. '"
      ]
     },
     "execution_count": 10,
     "metadata": {},
     "output_type": "execute_result"
    }
   ],
   "source": [
    "text2"
   ]
  },
  {
   "cell_type": "code",
   "execution_count": 11,
   "id": "33522454",
   "metadata": {},
   "outputs": [
    {
     "name": "stdout",
     "output_type": "stream",
     "text": [
      "AI빅데이터 역량과 비즈니스 마인드를  겸비한 디지털 경영 전문인력 양성\n",
      "AI와 빅데이터를 활용한 업무 자동화와 효율화는 기업 운영 전반에 비용 절감을 이끌고 있으며 이를 활용한 새로운 비즈니스 영역이 빠르게 확장되고 있습니다. 이에 따라 마케팅, 인사조직, 금융, 생산관리 등 현장 실무와 경영 환경이 빅데이터와 AI를 응용하는 방식으로 변화하고 있습니다. AI빅데이터융합경영학과는 산업 현장에 대응하는 비즈니스 이해와 협업 능력을 갖춘 창의적 혁신가, 빅데이터 기반의 문제해결 역량을 갖춘 분석 전문가, AI를 응용하고 활용할 줄 아는 융합형 전문가를 양성하는 것을 목표로 합니다. \n"
     ]
    }
   ],
   "source": [
    "print(text1)\n",
    "print(text2)"
   ]
  },
  {
   "cell_type": "markdown",
   "id": "a5bc328a",
   "metadata": {},
   "source": [
    "<span style = 'font-size:1.5em;line-height:1.5em'><b>2. </b>네이버 웹툰에서 '대학원 탈출일지' 175화에 해당하는 베스트 댓글 10개를 수집하세요.</span>"
   ]
  },
  {
   "cell_type": "code",
   "execution_count": 1,
   "id": "be3b451c",
   "metadata": {},
   "outputs": [
    {
     "name": "stderr",
     "output_type": "stream",
     "text": [
      "C:\\Users\\user\\AppData\\Local\\Temp\\ipykernel_17728\\2326390931.py:2: DeprecationWarning: executable_path has been deprecated, please pass in a Service object\n",
      "  driver = webdriver.Chrome('D:\\MyWorkspace\\chromedriver.exe')\n"
     ]
    }
   ],
   "source": [
    "from selenium import webdriver\n",
    "driver = webdriver.Chrome('D:\\MyWorkspace\\chromedriver.exe')\n",
    "url = 'https://comic.naver.com/webtoon/detail?titleId=790713&no=176&week=finish'\n",
    "driver.get(url)\n",
    "page = driver.page_source"
   ]
  },
  {
   "cell_type": "code",
   "execution_count": 13,
   "id": "34eb45cf",
   "metadata": {},
   "outputs": [],
   "source": [
    "bs_obj = BeautifulSoup(page, 'html.parser')\n",
    "results = bs_obj.find_all('span', {'class':\"u_cbox_contents\"})\n",
    "results10= [x.text.replace('\\n',' ') for x in results][:10]"
   ]
  },
  {
   "cell_type": "code",
   "execution_count": 14,
   "id": "5140c98c",
   "metadata": {},
   "outputs": [
    {
     "data": {
      "text/plain": [
       "['교수 오늘따라 왤캐 친절함?? 왤캐 실드쳐줌??감동인데????',\n",
       " '대학원 최초 ㄷㄷ',\n",
       " '이래서 박사들이 석사 디펜스 신경도 안 썼구나ㅋㅋㅋㅋㅋ',\n",
       " '교수님이 요다님 진짜 마음에 들어 하셨나보다...',\n",
       " '상을 받긴 했어도 저정도로 도와주는 거는 너무 이례적이여서 너무 놀랍네요;;',\n",
       " '너 취업도 안 됐는데 수상 실적도 있고,,, 박사 할 생각은 없니??',\n",
       " '좀 감동인데?',\n",
       " '평소에 잘하니까 저런 말 하겠지 작가님 진짜 유능한 듯새싹교수한테 스카웃 제의도 들어오고',\n",
       " '교수님 막을 거 다 막아주고 점심약속으로 빠른 퇴장.. 좋은데?',\n",
       " '교수님:집안 사정 때문에 박사안된애가 쉰다고?']"
      ]
     },
     "execution_count": 14,
     "metadata": {},
     "output_type": "execute_result"
    }
   ],
   "source": [
    "results10"
   ]
  },
  {
   "cell_type": "markdown",
   "id": "bdb38334",
   "metadata": {},
   "source": [
    "<span style = 'font-size:1.5em;line-height:1.5em'><b>3. </b>공공데이터포털(www.data.go.kr) 의 '한국부동산원_부동산 거래 현황 통계 조회 서비스' 데이터에서 2021년 한 해동안 월별 외국인의 거래 유형 현황을 추출하는 파이썬 코드를 작성하라. (단, API를 반드시 활용) '외국인거래 건수 조회'테이블을 활용하면 된다. 홈페이지에서 직접 뽑은 데이터와 비교를 해보자.</span>"
   ]
  },
  {
   "cell_type": "markdown",
   "id": "06f7a710",
   "metadata": {},
   "source": [
    "https://api.odcloud.kr/api/RealEstateTradingSvc/v1/getRealEstateTradingCountForeigner?page=1&perPage=10&returnType=JSON&cond%5BRESEARCH_DATE%3A%3ALTE%5D=202112&cond%5BRESEARCH_DATE%3A%3AGTE%5D=202101&cond%5BREGION_CD%3A%3AEQ%5D=11000&cond%5BDEAL_OBJ%3A%3AEQ%5D=01&serviceKey=TDplhvQnUOX1kvdvI7YjnVzaed2aIn%2BkOEhW6zklp4wuUvaj7ZqltJxRCs%2F3QWSurmb5baoUwFU7BNdmm7yaVA%3D%3D\n"
   ]
  },
  {
   "cell_type": "code",
   "execution_count": 1,
   "id": "b3d97671",
   "metadata": {},
   "outputs": [],
   "source": [
    "from bs4 import BeautifulSoup\n",
    "from urllib.request import urlopen"
   ]
  },
  {
   "cell_type": "code",
   "execution_count": 8,
   "id": "bfea80b4",
   "metadata": {},
   "outputs": [],
   "source": [
    "endpoint = 'https://api.odcloud.kr/api/RealEstateTradingSvc/v1/getRealEstateTradingCountForeigner'\n",
    "page = 1\n",
    "perpage = 12\n",
    "return_type = 'JSON'\n",
    "start_month = '202101'\n",
    "end_month = '202112'\n",
    "region = '11000'\n",
    "trading_type='01'\n",
    "service_key = # 여러분의 키를 입력하세요."
   ]
  },
  {
   "cell_type": "code",
   "execution_count": 9,
   "id": "5b71d173",
   "metadata": {},
   "outputs": [],
   "source": [
    "cond1 = f'cond%5BRESEARCH_DATE%3A%3ALTE%5D={end_month}'\n",
    "cond2 = f'cond%5BRESEARCH_DATE%3A%3AGTE%5D={start_month}&'\n",
    "cond3 = f'cond%5BREGION_CD%3A%3AEQ%5D={region}'\n",
    "cond4 = f'cond%5BDEAL_OBJ%3A%3AEQ%5D={trading_type}'\n",
    "\n",
    "url = f'{endpoint}?page={page}&perPage={perpage}&{cond1}&{cond2}&{cond3}&{cond4}&serviceKey={service_key}'"
   ]
  },
  {
   "cell_type": "code",
   "execution_count": 10,
   "id": "c118beb6",
   "metadata": {},
   "outputs": [],
   "source": [
    "html = urlopen(url)\n",
    "bs_obj = BeautifulSoup(html, 'html.parser')"
   ]
  },
  {
   "cell_type": "code",
   "execution_count": 11,
   "id": "10d63d60",
   "metadata": {},
   "outputs": [],
   "source": [
    "tmp = eval(bs_obj.text)"
   ]
  },
  {
   "cell_type": "code",
   "execution_count": 12,
   "id": "667fe4a2",
   "metadata": {
    "scrolled": true
   },
   "outputs": [
    {
     "data": {
      "text/plain": [
       "{'currentCount': 12,\n",
       " 'data': [{'DEAL_OBJ': '01',\n",
       "   'FOREIGNER_CNT': 390,\n",
       "   'LEVEL_NO': '0',\n",
       "   'REGION_CD': '11000',\n",
       "   'REGION_NM': '서울',\n",
       "   'RESEARCH_DATE': '202103'},\n",
       "  {'DEAL_OBJ': '01',\n",
       "   'FOREIGNER_CNT': 368,\n",
       "   'LEVEL_NO': '0',\n",
       "   'REGION_CD': '11000',\n",
       "   'REGION_NM': '서울',\n",
       "   'RESEARCH_DATE': '202104'},\n",
       "  {'DEAL_OBJ': '01',\n",
       "   'FOREIGNER_CNT': 385,\n",
       "   'LEVEL_NO': '0',\n",
       "   'REGION_CD': '11000',\n",
       "   'REGION_NM': '서울',\n",
       "   'RESEARCH_DATE': '202105'},\n",
       "  {'DEAL_OBJ': '01',\n",
       "   'FOREIGNER_CNT': 359,\n",
       "   'LEVEL_NO': '0',\n",
       "   'REGION_CD': '11000',\n",
       "   'REGION_NM': '서울',\n",
       "   'RESEARCH_DATE': '202101'},\n",
       "  {'DEAL_OBJ': '01',\n",
       "   'FOREIGNER_CNT': 370,\n",
       "   'LEVEL_NO': '0',\n",
       "   'REGION_CD': '11000',\n",
       "   'REGION_NM': '서울',\n",
       "   'RESEARCH_DATE': '202102'},\n",
       "  {'DEAL_OBJ': '01',\n",
       "   'FOREIGNER_CNT': 338,\n",
       "   'LEVEL_NO': '0',\n",
       "   'REGION_CD': '11000',\n",
       "   'REGION_NM': '서울',\n",
       "   'RESEARCH_DATE': '202106'},\n",
       "  {'DEAL_OBJ': '01',\n",
       "   'FOREIGNER_CNT': 277,\n",
       "   'LEVEL_NO': '0',\n",
       "   'REGION_CD': '11000',\n",
       "   'REGION_NM': '서울',\n",
       "   'RESEARCH_DATE': '202109'},\n",
       "  {'DEAL_OBJ': '01',\n",
       "   'FOREIGNER_CNT': 318,\n",
       "   'LEVEL_NO': '0',\n",
       "   'REGION_CD': '11000',\n",
       "   'REGION_NM': '서울',\n",
       "   'RESEARCH_DATE': '202107'},\n",
       "  {'DEAL_OBJ': '01',\n",
       "   'FOREIGNER_CNT': 256,\n",
       "   'LEVEL_NO': '0',\n",
       "   'REGION_CD': '11000',\n",
       "   'REGION_NM': '서울',\n",
       "   'RESEARCH_DATE': '202112'},\n",
       "  {'DEAL_OBJ': '01',\n",
       "   'FOREIGNER_CNT': 354,\n",
       "   'LEVEL_NO': '0',\n",
       "   'REGION_CD': '11000',\n",
       "   'REGION_NM': '서울',\n",
       "   'RESEARCH_DATE': '202110'},\n",
       "  {'DEAL_OBJ': '01',\n",
       "   'FOREIGNER_CNT': 312,\n",
       "   'LEVEL_NO': '0',\n",
       "   'REGION_CD': '11000',\n",
       "   'REGION_NM': '서울',\n",
       "   'RESEARCH_DATE': '202111'},\n",
       "  {'DEAL_OBJ': '01',\n",
       "   'FOREIGNER_CNT': 333,\n",
       "   'LEVEL_NO': '0',\n",
       "   'REGION_CD': '11000',\n",
       "   'REGION_NM': '서울',\n",
       "   'RESEARCH_DATE': '202108'}],\n",
       " 'matchCount': 12,\n",
       " 'page': 1,\n",
       " 'perPage': 12,\n",
       " 'totalCount': 283689}"
      ]
     },
     "execution_count": 12,
     "metadata": {},
     "output_type": "execute_result"
    }
   ],
   "source": [
    "tmp"
   ]
  },
  {
   "cell_type": "code",
   "execution_count": 13,
   "id": "9d34e2f1",
   "metadata": {},
   "outputs": [
    {
     "data": {
      "text/plain": [
       "dict"
      ]
     },
     "execution_count": 13,
     "metadata": {},
     "output_type": "execute_result"
    }
   ],
   "source": [
    "type(tmp)"
   ]
  },
  {
   "cell_type": "code",
   "execution_count": 14,
   "id": "1cacbb34",
   "metadata": {
    "scrolled": true
   },
   "outputs": [
    {
     "data": {
      "text/plain": [
       "[{'DEAL_OBJ': '01',\n",
       "  'FOREIGNER_CNT': 390,\n",
       "  'LEVEL_NO': '0',\n",
       "  'REGION_CD': '11000',\n",
       "  'REGION_NM': '서울',\n",
       "  'RESEARCH_DATE': '202103'},\n",
       " {'DEAL_OBJ': '01',\n",
       "  'FOREIGNER_CNT': 368,\n",
       "  'LEVEL_NO': '0',\n",
       "  'REGION_CD': '11000',\n",
       "  'REGION_NM': '서울',\n",
       "  'RESEARCH_DATE': '202104'},\n",
       " {'DEAL_OBJ': '01',\n",
       "  'FOREIGNER_CNT': 385,\n",
       "  'LEVEL_NO': '0',\n",
       "  'REGION_CD': '11000',\n",
       "  'REGION_NM': '서울',\n",
       "  'RESEARCH_DATE': '202105'},\n",
       " {'DEAL_OBJ': '01',\n",
       "  'FOREIGNER_CNT': 359,\n",
       "  'LEVEL_NO': '0',\n",
       "  'REGION_CD': '11000',\n",
       "  'REGION_NM': '서울',\n",
       "  'RESEARCH_DATE': '202101'},\n",
       " {'DEAL_OBJ': '01',\n",
       "  'FOREIGNER_CNT': 370,\n",
       "  'LEVEL_NO': '0',\n",
       "  'REGION_CD': '11000',\n",
       "  'REGION_NM': '서울',\n",
       "  'RESEARCH_DATE': '202102'},\n",
       " {'DEAL_OBJ': '01',\n",
       "  'FOREIGNER_CNT': 338,\n",
       "  'LEVEL_NO': '0',\n",
       "  'REGION_CD': '11000',\n",
       "  'REGION_NM': '서울',\n",
       "  'RESEARCH_DATE': '202106'},\n",
       " {'DEAL_OBJ': '01',\n",
       "  'FOREIGNER_CNT': 277,\n",
       "  'LEVEL_NO': '0',\n",
       "  'REGION_CD': '11000',\n",
       "  'REGION_NM': '서울',\n",
       "  'RESEARCH_DATE': '202109'},\n",
       " {'DEAL_OBJ': '01',\n",
       "  'FOREIGNER_CNT': 318,\n",
       "  'LEVEL_NO': '0',\n",
       "  'REGION_CD': '11000',\n",
       "  'REGION_NM': '서울',\n",
       "  'RESEARCH_DATE': '202107'},\n",
       " {'DEAL_OBJ': '01',\n",
       "  'FOREIGNER_CNT': 256,\n",
       "  'LEVEL_NO': '0',\n",
       "  'REGION_CD': '11000',\n",
       "  'REGION_NM': '서울',\n",
       "  'RESEARCH_DATE': '202112'},\n",
       " {'DEAL_OBJ': '01',\n",
       "  'FOREIGNER_CNT': 354,\n",
       "  'LEVEL_NO': '0',\n",
       "  'REGION_CD': '11000',\n",
       "  'REGION_NM': '서울',\n",
       "  'RESEARCH_DATE': '202110'},\n",
       " {'DEAL_OBJ': '01',\n",
       "  'FOREIGNER_CNT': 312,\n",
       "  'LEVEL_NO': '0',\n",
       "  'REGION_CD': '11000',\n",
       "  'REGION_NM': '서울',\n",
       "  'RESEARCH_DATE': '202111'},\n",
       " {'DEAL_OBJ': '01',\n",
       "  'FOREIGNER_CNT': 333,\n",
       "  'LEVEL_NO': '0',\n",
       "  'REGION_CD': '11000',\n",
       "  'REGION_NM': '서울',\n",
       "  'RESEARCH_DATE': '202108'}]"
      ]
     },
     "execution_count": 14,
     "metadata": {},
     "output_type": "execute_result"
    }
   ],
   "source": [
    "tmp['data']"
   ]
  },
  {
   "cell_type": "code",
   "execution_count": 15,
   "id": "f4191332",
   "metadata": {},
   "outputs": [],
   "source": [
    "result = dict()\n",
    "for monthly_data in tmp['data']:\n",
    "#     print(monthly_data['RESEARCH_DATE'])\n",
    "    key = monthly_data['RESEARCH_DATE']\n",
    "    value = monthly_data['FOREIGNER_CNT']\n",
    "    result[key] = value"
   ]
  },
  {
   "cell_type": "code",
   "execution_count": 16,
   "id": "e0d6d8ed",
   "metadata": {},
   "outputs": [
    {
     "data": {
      "text/plain": [
       "{'202103': 390,\n",
       " '202104': 368,\n",
       " '202105': 385,\n",
       " '202101': 359,\n",
       " '202102': 370,\n",
       " '202106': 338,\n",
       " '202109': 277,\n",
       " '202107': 318,\n",
       " '202112': 256,\n",
       " '202110': 354,\n",
       " '202111': 312,\n",
       " '202108': 333}"
      ]
     },
     "execution_count": 16,
     "metadata": {},
     "output_type": "execute_result"
    }
   ],
   "source": [
    "result"
   ]
  },
  {
   "cell_type": "code",
   "execution_count": 17,
   "id": "5d47e19f",
   "metadata": {},
   "outputs": [
    {
     "data": {
      "text/plain": [
       "{'202103': 390,\n",
       " '202104': 368,\n",
       " '202105': 385,\n",
       " '202101': 359,\n",
       " '202102': 370,\n",
       " '202106': 338,\n",
       " '202109': 277,\n",
       " '202107': 318,\n",
       " '202112': 256,\n",
       " '202110': 354,\n",
       " '202111': 312,\n",
       " '202108': 333}"
      ]
     },
     "execution_count": 17,
     "metadata": {},
     "output_type": "execute_result"
    }
   ],
   "source": [
    "result"
   ]
  },
  {
   "cell_type": "code",
   "execution_count": 18,
   "id": "d3956ef5",
   "metadata": {},
   "outputs": [
    {
     "name": "stdout",
     "output_type": "stream",
     "text": [
      "202101: 359\n",
      "202102: 370\n",
      "202103: 390\n",
      "202104: 368\n",
      "202105: 385\n",
      "202106: 338\n",
      "202107: 318\n",
      "202108: 333\n",
      "202109: 277\n",
      "202110: 354\n",
      "202111: 312\n",
      "202112: 256\n"
     ]
    }
   ],
   "source": [
    "for i in range(1,13):\n",
    "    year_month = f'2021{str(i).zfill(2)}'\n",
    "    if year_month not in result.keys():\n",
    "        print(f'{year_month}: 0')\n",
    "    else:\n",
    "        print(f'{year_month}: {result[year_month]}')"
   ]
  },
  {
   "cell_type": "markdown",
   "id": "a31bbe3a",
   "metadata": {},
   "source": [
    "<span style = 'font-size:1.5em;line-height:1.5em'><b>[문제 수정]4. </b>\"재벌집 막내아들\" 77화의 전체 댓글들 중 50개를 수집해보세요.</span>\n",
    "\n",
    "<span style = 'font-size:1.3em;line-height:1.5em'><b>Hint: </b>\"전체댓글\" 탭을 눌러도 15개 댓글밖에 보여지지 않습니다. \"더보기\"를 눌러야 댓글들을 더 볼 수 있습니다. selenium의 \"화면 조작\" 기능을 활용하여 \"전체댓글\"탭과 \"더보기\"탭을 클릭하는 동작을 수행해봅시다</span>\n"
   ]
  },
  {
   "cell_type": "code",
   "execution_count": 37,
   "id": "97eb80c5",
   "metadata": {},
   "outputs": [],
   "source": [
    "from selenium.webdriver.common.by import By\n",
    "from selenium import webdriver\n",
    "import time"
   ]
  },
  {
   "cell_type": "code",
   "execution_count": 38,
   "id": "72db32bf",
   "metadata": {},
   "outputs": [],
   "source": [
    "driver = webdriver.Chrome('D:\\MyWorkspace\\chromedriver.exe')\n",
    "\n",
    "# 페이지 로드를 위해 기다리는 시간\n",
    "driver.implicitly_wait(3)\n",
    "\n",
    "# scraping하려는 웹페이지 주소를 get()에 전달\n",
    "url = 'https://comic.naver.com/webtoon/detail?titleId=800770&no=77'\n",
    "driver.get(url)"
   ]
  },
  {
   "cell_type": "code",
   "execution_count": 39,
   "id": "2deea6f6",
   "metadata": {},
   "outputs": [],
   "source": [
    "all_reply = driver.find_element(By.ID, \n",
    "                                'cbox_module_wai_u_cbox_sort_option_tab2')\n",
    "# all_reply = driver.find_element(By.CLASS_NAME, 'u_cbox_select')\n",
    "all_reply.click()"
   ]
  },
  {
   "cell_type": "code",
   "execution_count": 40,
   "id": "14d87d08",
   "metadata": {},
   "outputs": [
    {
     "name": "stdout",
     "output_type": "stream",
     "text": [
      "13\n",
      "Clicked!\n",
      "28\n",
      "Clicked!\n",
      "43\n",
      "Clicked!\n",
      "57\n"
     ]
    }
   ],
   "source": [
    "while True:\n",
    "    search_results = driver.find_elements(By.CLASS_NAME, 'u_cbox_contents')\n",
    "    print(len(search_results))\n",
    "    if len(search_results) >= 50:\n",
    "        break\n",
    "    more_reply = driver.find_element(By.CLASS_NAME, 'u_cbox_btn_more')\n",
    "    more_reply.click()\n",
    "    time.sleep(1)\n",
    "    print('Clicked!')\n",
    "    "
   ]
  },
  {
   "cell_type": "code",
   "execution_count": 42,
   "id": "05240563",
   "metadata": {},
   "outputs": [],
   "source": [
    "results = [x.text for x in search_results]"
   ]
  },
  {
   "cell_type": "code",
   "execution_count": 43,
   "id": "3e9de811",
   "metadata": {},
   "outputs": [
    {
     "data": {
      "text/plain": [
       "57"
      ]
     },
     "execution_count": 43,
     "metadata": {},
     "output_type": "execute_result"
    }
   ],
   "source": [
    "len(results)"
   ]
  },
  {
   "cell_type": "code",
   "execution_count": 44,
   "id": "4dbaee44",
   "metadata": {},
   "outputs": [],
   "source": [
    "results = results[:50]"
   ]
  },
  {
   "cell_type": "code",
   "execution_count": 45,
   "id": "bd38fdee",
   "metadata": {},
   "outputs": [
    {
     "data": {
      "text/plain": [
       "['이야 이거 능력도 없는 놈이 가방모찌 데리고 골목대장놀이하고 돈이나 그런것은 가방모찌가 다 챙겨가네',\n",
       " '작가님 다 좋은데요 작업하실때 유리에 비친 그림자는 복붙은 아니지 않습니까?반대쪽 모습이 비쳐야 하지 않을까요?',\n",
       " '액션씬 하나없이 대사로만 이루어지는데도 이렇게 재미있을수 있다니 ㄷㄷㄷㄷ',\n",
       " '떼 쓰는 것 말고 아무것도 할 줄 모른다는 말을 저렇게 당당하게 하네...',\n",
       " '어린애 갖고노는 수준으로 다루네 ㅋㅋㅋㅋ',\n",
       " '영준이도 좀 더 지능캐인게 재미있는데.. 너무 머리 빈 재벌3세 느낌이라 캐릭터 구성이 아쉽네요ㅠ',\n",
       " '아 시작하자마자 \"깜박했다\"때문에 국어사전 찾아보고 왔네..깜빡하다가 맞는줄 알았는데 깜박,깜빡 둘다 맞는거였네 ㅋㅋㅋㅋㅋㅋ',\n",
       " '옥의 티인데... 유리에 테이블 비치는 컷에서 테이블이 반사되어있지가 않네요 그냥 복붙되어있음',\n",
       " '순양 할배가 왜 싫어하는지 알겠다 결혼해도 다른 여자랑 노는 걸 알텐데 설마 모르시겠냐.. 술이랑 가까이 하면서 그룹 경영에 더 배울 생각도 없고;',\n",
       " '숫자도 차트도 볼 줄 모른다는데 그냥 며느리 한테 순양 맞기면 오히려 며느리가 더 잘하는 거 아니냐;;',\n",
       " '늑대가 어떻게 개의 굴에 들어가냐고요? 들어가죠. 개 잡아먹으러.. ㅋㅋ',\n",
       " '집에 가고싶다',\n",
       " '진짜 그냥 남자 둘이 앉아서 얘기하고 있는 씬밖에 없는데 뭐가 이렇게 흥미진진하냐',\n",
       " '분석 못하니까 저래되지',\n",
       " '들었다 놨다. 들었다 놨다해... 제목은 모르겠고.. 왜 갑자기 이노래가 생각나지????',\n",
       " '액션신 하나없는데 몰입감이 말이 안 되네',\n",
       " '쟤는 겉모습만 20대지 사실상 50년을 넘게 ㅣ살았잖마',\n",
       " '실제가 아닌데 숨막혀.. 가진자들은 생각하는 레벨이 다른듯..- -',\n",
       " '우왕 천재 아니에요?나도 저렇게 센스있고 싶다...',\n",
       " \"그래서 '내가 임마 그러지 않아도 지분 주려고 했어!! ...응? 이게 아닌데...?' 하게 되는 거임?\",\n",
       " '와아 진짜 재미있다아..',\n",
       " '마내그 아버지랑 사우나도 했고 빞도 묵고 스웨디시 도같이했어 마',\n",
       " '너무너무 재밌다 ㅋㅋㅋㅋ 도준이 회장된것 까지 연재해주시죠….',\n",
       " '캬아~! 할말없게 만드네!! ㅋㅋㅋㅋㅋ',\n",
       " '그냥 가지고 노는구만ㅋㅋ',\n",
       " '정용진이 도준이 반의 반만 닮았어도 ㅉㅉ',\n",
       " '남자둘이 대화하는게 전부인데 왤캐 재밌냐',\n",
       " '숨막히게 잘 굴리고 있네',\n",
       " '하...분명 우리나라 대기업들 대부분이 오너승계했고 오너경영임. 이거 보니 정말 암울하다...나라도 이런 나라 투자 안해.',\n",
       " '속에 능구렁이 늙은 나이많은 남자? 아님 전생에 남아 있어서 그런지 모르겠는데 생각하는게 남다르다',\n",
       " '아이 저게 무슨.. 못해도 40대는 되어 보이는 구만 ㄷㄷ',\n",
       " '하 재밌다',\n",
       " '아... 이건 정말 드라마로 나와야 하는데 말이죠??',\n",
       " '사람에게는 특기가 하나씩은 있다. 그냥 조금 대화해보면 이사람이 사기 꾼인지 거짓말 하는지 느끼는 사람도 있고 그냥 쳐다 보기만해도 사람을 분별하는 사람도 있다',\n",
       " '와 도준이 마지막에 할아버지 느낌이있네 확신에 찬 눈빛과 입매가 닮음',\n",
       " '가지고 노네ㅋ',\n",
       " '보고가요',\n",
       " '난 널 믿었던만큼 난 내 와이프도 믿었기에',\n",
       " '살아온 세월로 치면 거의 50인 능구렁이가 스무살이랑 대화하니까 갖고 노네ㅋㅋㅋ',\n",
       " '아서라 미필은 군필 못이긴다',\n",
       " '완전 가지고 노는구만... ㅋㅋㅋㅋㅋ',\n",
       " '근데 도준이 진짜 군대 안감?',\n",
       " '남자 둘의 대화만 있다',\n",
       " '와.. 너무좋아 팩트폭력만 오가는 만화',\n",
       " '계속 그려주세요인기가 식었다고 급하게 완결내지마시고 항상 수요일 11시에 결제하며 보고있습니다',\n",
       " '지금 소설로는 몇회차인가요',\n",
       " '와 씨 작가님 빨리 다음화요 제발...',\n",
       " '쿠키는 100개나 남았으니 얼렁 올려쥬쇼',\n",
       " '짝짝짝👏! 🎣성공!!',\n",
       " '드라마보다 5만배 더 재밌구만기래']"
      ]
     },
     "execution_count": 45,
     "metadata": {},
     "output_type": "execute_result"
    }
   ],
   "source": [
    "results"
   ]
  },
  {
   "cell_type": "code",
   "execution_count": null,
   "id": "05024fab",
   "metadata": {},
   "outputs": [],
   "source": []
  }
 ],
 "metadata": {
  "kernelspec": {
   "display_name": "Python 3 (ipykernel)",
   "language": "python",
   "name": "python3"
  },
  "language_info": {
   "codemirror_mode": {
    "name": "ipython",
    "version": 3
   },
   "file_extension": ".py",
   "mimetype": "text/x-python",
   "name": "python",
   "nbconvert_exporter": "python",
   "pygments_lexer": "ipython3",
   "version": "3.9.19"
  }
 },
 "nbformat": 4,
 "nbformat_minor": 5
}
