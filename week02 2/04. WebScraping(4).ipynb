{
 "cells": [
  {
   "cell_type": "code",
   "execution_count": 1,
   "id": "94cdcd3c",
   "metadata": {},
   "outputs": [],
   "source": [
    "from bs4 import BeautifulSoup\n",
    "from urllib.request import urlopen"
   ]
  },
  {
   "cell_type": "code",
   "execution_count": 2,
   "id": "e13b9573",
   "metadata": {},
   "outputs": [],
   "source": [
    "endpoint = 'https://api.odcloud.kr/api/RealEstateTradingSvc/v1/getRealEstateTradingCount'\n",
    "service_key = # 여러분의 서비스 키를 입력하세요.\n",
    "page = 1\n",
    "perpage = 12\n",
    "start_month = '202101'\n",
    "end_month = '202112'\n",
    "region = '11000'\n",
    "trading_type='05'"
   ]
  },
  {
   "cell_type": "code",
   "execution_count": 3,
   "id": "e19a4adf",
   "metadata": {},
   "outputs": [],
   "source": [
    "cond1 = f'cond%5BRESEARCH_DATE%3A%3ALTE%5D={end_month}'\n",
    "cond2 = f'cond%5BRESEARCH_DATE%3A%3AGTE%5D={start_month}&'\n",
    "cond3 = f'cond%5BREGION_CD%3A%3AEQ%5D={region}'\n",
    "cond4 = f'cond%5BDEAL_OBJ%3A%3AEQ%5D={trading_type}'\n",
    "\n",
    "url = f'{endpoint}?page={page}&perPage={perpage}&{cond1}&{cond2}&{cond3}&{cond4}&serviceKey={service_key}'"
   ]
  },
  {
   "cell_type": "code",
   "execution_count": 4,
   "id": "349fea46",
   "metadata": {},
   "outputs": [
    {
     "data": {
      "text/plain": [
       "'cond%5BREGION_CD%3A%3AEQ%5D=11000'"
      ]
     },
     "execution_count": 4,
     "metadata": {},
     "output_type": "execute_result"
    }
   ],
   "source": [
    "cond3"
   ]
  },
  {
   "cell_type": "code",
   "execution_count": 5,
   "id": "c7db1c0f",
   "metadata": {},
   "outputs": [
    {
     "name": "stdout",
     "output_type": "stream",
     "text": [
      "https://api.odcloud.kr/api/RealEstateTradingSvc/v1/getRealEstateTradingCount?page=1&perPage=12&cond%5BRESEARCH_DATE%3A%3ALTE%5D=202112&cond%5BRESEARCH_DATE%3A%3AGTE%5D=202101&&cond%5BREGION_CD%3A%3AEQ%5D=11000&cond%5BDEAL_OBJ%3A%3AEQ%5D=05&serviceKey=TDplhvQnUOX1kvdvI7YjnVzaed2aIn%2BkOEhW6zklp4wuUvaj7ZqltJxRCs%2F3QWSurmb5baoUwFU7BNdmm7yaVA%3D%3D\n"
     ]
    }
   ],
   "source": [
    "print(url)"
   ]
  },
  {
   "cell_type": "code",
   "execution_count": 6,
   "id": "a753dccb",
   "metadata": {},
   "outputs": [],
   "source": [
    "# cond1 = f'cond%5BRESEARCH_DATE%3A%3ALT%5D={end_month}'\n",
    "# cond2 = f'cond%5BRESEARCH_DATE%3A%3AGTE%5D={start_month}&'\n",
    "# cond3 = f'cond%5BREGION_CD%3A%3AEQ%5D={region}'\n",
    "# cond4 = f'cond%5BDEAL_OBJ%3A%3AEQ%5D={trading_type}'\n",
    "\n",
    "# url = f'{endpoint}?page={page}&perPage={perpage}&{cond1}&{cond2}&{cond3}&{cond4}&serviceKey={service_key}'"
   ]
  },
  {
   "cell_type": "markdown",
   "id": "284e6dc2",
   "metadata": {},
   "source": [
    "### 시군구 표준 코드\n",
    "https://jamdol.tistory.com/91"
   ]
  },
  {
   "cell_type": "code",
   "execution_count": 7,
   "id": "cc70b980",
   "metadata": {},
   "outputs": [],
   "source": [
    "html = urlopen(url)\n",
    "bs_obj = BeautifulSoup(html, 'html.parser')"
   ]
  },
  {
   "cell_type": "code",
   "execution_count": 8,
   "id": "eda9d2f6",
   "metadata": {},
   "outputs": [
    {
     "data": {
      "text/plain": [
       "{\"currentCount\":12,\"data\":[{\"ALL_CNT\":9428,\"DEAL_OBJ\":\"05\",\"LEVEL_NO\":\"0\",\"REGION_CD\":\"11000\",\"REGION_NM\":\"서울\",\"RESEARCH_DATE\":\"202105\"},{\"ALL_CNT\":8336,\"DEAL_OBJ\":\"05\",\"LEVEL_NO\":\"0\",\"REGION_CD\":\"11000\",\"REGION_NM\":\"서울\",\"RESEARCH_DATE\":\"202103\"},{\"ALL_CNT\":11709,\"DEAL_OBJ\":\"05\",\"LEVEL_NO\":\"0\",\"REGION_CD\":\"11000\",\"REGION_NM\":\"서울\",\"RESEARCH_DATE\":\"202104\"},{\"ALL_CNT\":8804,\"DEAL_OBJ\":\"05\",\"LEVEL_NO\":\"0\",\"REGION_CD\":\"11000\",\"REGION_NM\":\"서울\",\"RESEARCH_DATE\":\"202102\"},{\"ALL_CNT\":14004,\"DEAL_OBJ\":\"05\",\"LEVEL_NO\":\"0\",\"REGION_CD\":\"11000\",\"REGION_NM\":\"서울\",\"RESEARCH_DATE\":\"202101\"},{\"ALL_CNT\":5759,\"DEAL_OBJ\":\"05\",\"LEVEL_NO\":\"0\",\"REGION_CD\":\"11000\",\"REGION_NM\":\"서울\",\"RESEARCH_DATE\":\"202109\"},{\"ALL_CNT\":7421,\"DEAL_OBJ\":\"05\",\"LEVEL_NO\":\"0\",\"REGION_CD\":\"11000\",\"REGION_NM\":\"서울\",\"RESEARCH_DATE\":\"202106\"},{\"ALL_CNT\":4316,\"DEAL_OBJ\":\"05\",\"LEVEL_NO\":\"0\",\"REGION_CD\":\"11000\",\"REGION_NM\":\"서울\",\"RESEARCH_DATE\":\"202110\"},{\"ALL_CNT\":7848,\"DEAL_OBJ\":\"05\",\"LEVEL_NO\":\"0\",\"REGION_CD\":\"11000\",\"REGION_NM\":\"서울\",\"RESEARCH_DATE\":\"202107\"},{\"ALL_CNT\":6655,\"DEAL_OBJ\":\"05\",\"LEVEL_NO\":\"0\",\"REGION_CD\":\"11000\",\"REGION_NM\":\"서울\",\"RESEARCH_DATE\":\"202108\"},{\"ALL_CNT\":4931,\"DEAL_OBJ\":\"05\",\"LEVEL_NO\":\"0\",\"REGION_CD\":\"11000\",\"REGION_NM\":\"서울\",\"RESEARCH_DATE\":\"202112\"},{\"ALL_CNT\":4437,\"DEAL_OBJ\":\"05\",\"LEVEL_NO\":\"0\",\"REGION_CD\":\"11000\",\"REGION_NM\":\"서울\",\"RESEARCH_DATE\":\"202111\"}],\"matchCount\":12,\"page\":1,\"perPage\":12,\"totalCount\":438339}"
      ]
     },
     "execution_count": 8,
     "metadata": {},
     "output_type": "execute_result"
    }
   ],
   "source": [
    "bs_obj"
   ]
  },
  {
   "cell_type": "code",
   "execution_count": 9,
   "id": "601aa072",
   "metadata": {},
   "outputs": [
    {
     "name": "stdout",
     "output_type": "stream",
     "text": [
      "{\"currentCount\":12,\"data\":[{\"ALL_CNT\":9428,\"DEAL_OBJ\":\"05\",\"LEVEL_NO\":\"0\",\"REGION_CD\":\"11000\",\"REGION_NM\":\"서울\",\"RESEARCH_DATE\":\"202105\"},{\"ALL_CNT\":8336,\"DEAL_OBJ\":\"05\",\"LEVEL_NO\":\"0\",\"REGION_CD\":\"11000\",\"REGION_NM\":\"서울\",\"RESEARCH_DATE\":\"202103\"},{\"ALL_CNT\":11709,\"DEAL_OBJ\":\"05\",\"LEVEL_NO\":\"0\",\"REGION_CD\":\"11000\",\"REGION_NM\":\"서울\",\"RESEARCH_DATE\":\"202104\"},{\"ALL_CNT\":8804,\"DEAL_OBJ\":\"05\",\"LEVEL_NO\":\"0\",\"REGION_CD\":\"11000\",\"REGION_NM\":\"서울\",\"RESEARCH_DATE\":\"202102\"},{\"ALL_CNT\":14004,\"DEAL_OBJ\":\"05\",\"LEVEL_NO\":\"0\",\"REGION_CD\":\"11000\",\"REGION_NM\":\"서울\",\"RESEARCH_DATE\":\"202101\"},{\"ALL_CNT\":5759,\"DEAL_OBJ\":\"05\",\"LEVEL_NO\":\"0\",\"REGION_CD\":\"11000\",\"REGION_NM\":\"서울\",\"RESEARCH_DATE\":\"202109\"},{\"ALL_CNT\":7421,\"DEAL_OBJ\":\"05\",\"LEVEL_NO\":\"0\",\"REGION_CD\":\"11000\",\"REGION_NM\":\"서울\",\"RESEARCH_DATE\":\"202106\"},{\"ALL_CNT\":4316,\"DEAL_OBJ\":\"05\",\"LEVEL_NO\":\"0\",\"REGION_CD\":\"11000\",\"REGION_NM\":\"서울\",\"RESEARCH_DATE\":\"202110\"},{\"ALL_CNT\":7848,\"DEAL_OBJ\":\"05\",\"LEVEL_NO\":\"0\",\"REGION_CD\":\"11000\",\"REGION_NM\":\"서울\",\"RESEARCH_DATE\":\"202107\"},{\"ALL_CNT\":6655,\"DEAL_OBJ\":\"05\",\"LEVEL_NO\":\"0\",\"REGION_CD\":\"11000\",\"REGION_NM\":\"서울\",\"RESEARCH_DATE\":\"202108\"},{\"ALL_CNT\":4931,\"DEAL_OBJ\":\"05\",\"LEVEL_NO\":\"0\",\"REGION_CD\":\"11000\",\"REGION_NM\":\"서울\",\"RESEARCH_DATE\":\"202112\"},{\"ALL_CNT\":4437,\"DEAL_OBJ\":\"05\",\"LEVEL_NO\":\"0\",\"REGION_CD\":\"11000\",\"REGION_NM\":\"서울\",\"RESEARCH_DATE\":\"202111\"}],\"matchCount\":12,\"page\":1,\"perPage\":12,\"totalCount\":438339}\n",
      "\n",
      "<class 'bs4.BeautifulSoup'>\n"
     ]
    }
   ],
   "source": [
    "print(bs_obj)\n",
    "print(type(bs_obj))"
   ]
  },
  {
   "cell_type": "code",
   "execution_count": 10,
   "id": "690be06e",
   "metadata": {},
   "outputs": [
    {
     "name": "stdout",
     "output_type": "stream",
     "text": [
      "{\"currentCount\":12,\"data\":[{\"ALL_CNT\":9428,\"DEAL_OBJ\":\"05\",\"LEVEL_NO\":\"0\",\"REGION_CD\":\"11000\",\"REGION_NM\":\"서울\",\"RESEARCH_DATE\":\"202105\"},{\"ALL_CNT\":8336,\"DEAL_OBJ\":\"05\",\"LEVEL_NO\":\"0\",\"REGION_CD\":\"11000\",\"REGION_NM\":\"서울\",\"RESEARCH_DATE\":\"202103\"},{\"ALL_CNT\":11709,\"DEAL_OBJ\":\"05\",\"LEVEL_NO\":\"0\",\"REGION_CD\":\"11000\",\"REGION_NM\":\"서울\",\"RESEARCH_DATE\":\"202104\"},{\"ALL_CNT\":8804,\"DEAL_OBJ\":\"05\",\"LEVEL_NO\":\"0\",\"REGION_CD\":\"11000\",\"REGION_NM\":\"서울\",\"RESEARCH_DATE\":\"202102\"},{\"ALL_CNT\":14004,\"DEAL_OBJ\":\"05\",\"LEVEL_NO\":\"0\",\"REGION_CD\":\"11000\",\"REGION_NM\":\"서울\",\"RESEARCH_DATE\":\"202101\"},{\"ALL_CNT\":5759,\"DEAL_OBJ\":\"05\",\"LEVEL_NO\":\"0\",\"REGION_CD\":\"11000\",\"REGION_NM\":\"서울\",\"RESEARCH_DATE\":\"202109\"},{\"ALL_CNT\":7421,\"DEAL_OBJ\":\"05\",\"LEVEL_NO\":\"0\",\"REGION_CD\":\"11000\",\"REGION_NM\":\"서울\",\"RESEARCH_DATE\":\"202106\"},{\"ALL_CNT\":4316,\"DEAL_OBJ\":\"05\",\"LEVEL_NO\":\"0\",\"REGION_CD\":\"11000\",\"REGION_NM\":\"서울\",\"RESEARCH_DATE\":\"202110\"},{\"ALL_CNT\":7848,\"DEAL_OBJ\":\"05\",\"LEVEL_NO\":\"0\",\"REGION_CD\":\"11000\",\"REGION_NM\":\"서울\",\"RESEARCH_DATE\":\"202107\"},{\"ALL_CNT\":6655,\"DEAL_OBJ\":\"05\",\"LEVEL_NO\":\"0\",\"REGION_CD\":\"11000\",\"REGION_NM\":\"서울\",\"RESEARCH_DATE\":\"202108\"},{\"ALL_CNT\":4931,\"DEAL_OBJ\":\"05\",\"LEVEL_NO\":\"0\",\"REGION_CD\":\"11000\",\"REGION_NM\":\"서울\",\"RESEARCH_DATE\":\"202112\"},{\"ALL_CNT\":4437,\"DEAL_OBJ\":\"05\",\"LEVEL_NO\":\"0\",\"REGION_CD\":\"11000\",\"REGION_NM\":\"서울\",\"RESEARCH_DATE\":\"202111\"}],\"matchCount\":12,\"page\":1,\"perPage\":12,\"totalCount\":438339}\n",
      "\n",
      "<class 'str'>\n"
     ]
    }
   ],
   "source": [
    "print(bs_obj.text)\n",
    "print(type(bs_obj.text))"
   ]
  },
  {
   "cell_type": "markdown",
   "id": "904bff92",
   "metadata": {},
   "source": [
    "### 여기서 ALL_CNT에 해당하는 데이터만 추출하기"
   ]
  },
  {
   "cell_type": "markdown",
   "id": "631fc9d7",
   "metadata": {},
   "source": [
    "#### 방법 2: eval()함수를 사용하여 dict형태의 문자열을 실제 dict로 변경해서 탐색"
   ]
  },
  {
   "cell_type": "code",
   "execution_count": 11,
   "id": "95ad092f",
   "metadata": {},
   "outputs": [
    {
     "data": {
      "text/plain": [
       "str"
      ]
     },
     "execution_count": 11,
     "metadata": {},
     "output_type": "execute_result"
    }
   ],
   "source": [
    "type(bs_obj.text)"
   ]
  },
  {
   "cell_type": "code",
   "execution_count": 12,
   "id": "a51fdef4",
   "metadata": {},
   "outputs": [],
   "source": [
    "result = eval(bs_obj.text)"
   ]
  },
  {
   "cell_type": "code",
   "execution_count": 13,
   "id": "30d75b6e",
   "metadata": {},
   "outputs": [
    {
     "data": {
      "text/plain": [
       "dict"
      ]
     },
     "execution_count": 13,
     "metadata": {},
     "output_type": "execute_result"
    }
   ],
   "source": [
    "type(result)"
   ]
  },
  {
   "cell_type": "code",
   "execution_count": 14,
   "id": "308717d1",
   "metadata": {},
   "outputs": [],
   "source": [
    "result2 = result['data']"
   ]
  },
  {
   "cell_type": "code",
   "execution_count": 15,
   "id": "3ec0353a",
   "metadata": {
    "scrolled": true
   },
   "outputs": [
    {
     "data": {
      "text/plain": [
       "[{'ALL_CNT': 9428,\n",
       "  'DEAL_OBJ': '05',\n",
       "  'LEVEL_NO': '0',\n",
       "  'REGION_CD': '11000',\n",
       "  'REGION_NM': '서울',\n",
       "  'RESEARCH_DATE': '202105'},\n",
       " {'ALL_CNT': 8336,\n",
       "  'DEAL_OBJ': '05',\n",
       "  'LEVEL_NO': '0',\n",
       "  'REGION_CD': '11000',\n",
       "  'REGION_NM': '서울',\n",
       "  'RESEARCH_DATE': '202103'},\n",
       " {'ALL_CNT': 11709,\n",
       "  'DEAL_OBJ': '05',\n",
       "  'LEVEL_NO': '0',\n",
       "  'REGION_CD': '11000',\n",
       "  'REGION_NM': '서울',\n",
       "  'RESEARCH_DATE': '202104'},\n",
       " {'ALL_CNT': 8804,\n",
       "  'DEAL_OBJ': '05',\n",
       "  'LEVEL_NO': '0',\n",
       "  'REGION_CD': '11000',\n",
       "  'REGION_NM': '서울',\n",
       "  'RESEARCH_DATE': '202102'},\n",
       " {'ALL_CNT': 14004,\n",
       "  'DEAL_OBJ': '05',\n",
       "  'LEVEL_NO': '0',\n",
       "  'REGION_CD': '11000',\n",
       "  'REGION_NM': '서울',\n",
       "  'RESEARCH_DATE': '202101'},\n",
       " {'ALL_CNT': 5759,\n",
       "  'DEAL_OBJ': '05',\n",
       "  'LEVEL_NO': '0',\n",
       "  'REGION_CD': '11000',\n",
       "  'REGION_NM': '서울',\n",
       "  'RESEARCH_DATE': '202109'},\n",
       " {'ALL_CNT': 7421,\n",
       "  'DEAL_OBJ': '05',\n",
       "  'LEVEL_NO': '0',\n",
       "  'REGION_CD': '11000',\n",
       "  'REGION_NM': '서울',\n",
       "  'RESEARCH_DATE': '202106'},\n",
       " {'ALL_CNT': 4316,\n",
       "  'DEAL_OBJ': '05',\n",
       "  'LEVEL_NO': '0',\n",
       "  'REGION_CD': '11000',\n",
       "  'REGION_NM': '서울',\n",
       "  'RESEARCH_DATE': '202110'},\n",
       " {'ALL_CNT': 7848,\n",
       "  'DEAL_OBJ': '05',\n",
       "  'LEVEL_NO': '0',\n",
       "  'REGION_CD': '11000',\n",
       "  'REGION_NM': '서울',\n",
       "  'RESEARCH_DATE': '202107'},\n",
       " {'ALL_CNT': 6655,\n",
       "  'DEAL_OBJ': '05',\n",
       "  'LEVEL_NO': '0',\n",
       "  'REGION_CD': '11000',\n",
       "  'REGION_NM': '서울',\n",
       "  'RESEARCH_DATE': '202108'},\n",
       " {'ALL_CNT': 4931,\n",
       "  'DEAL_OBJ': '05',\n",
       "  'LEVEL_NO': '0',\n",
       "  'REGION_CD': '11000',\n",
       "  'REGION_NM': '서울',\n",
       "  'RESEARCH_DATE': '202112'},\n",
       " {'ALL_CNT': 4437,\n",
       "  'DEAL_OBJ': '05',\n",
       "  'LEVEL_NO': '0',\n",
       "  'REGION_CD': '11000',\n",
       "  'REGION_NM': '서울',\n",
       "  'RESEARCH_DATE': '202111'}]"
      ]
     },
     "execution_count": 15,
     "metadata": {},
     "output_type": "execute_result"
    }
   ],
   "source": [
    "result2"
   ]
  },
  {
   "cell_type": "code",
   "execution_count": 16,
   "id": "7a54ff51",
   "metadata": {},
   "outputs": [
    {
     "name": "stdout",
     "output_type": "stream",
     "text": [
      "9428 202105\n",
      "8336 202103\n",
      "11709 202104\n",
      "8804 202102\n",
      "14004 202101\n",
      "5759 202109\n",
      "7421 202106\n",
      "4316 202110\n",
      "7848 202107\n",
      "6655 202108\n",
      "4931 202112\n",
      "4437 202111\n"
     ]
    }
   ],
   "source": [
    "for item in result2:\n",
    "    print(item['ALL_CNT'], item['RESEARCH_DATE'])"
   ]
  },
  {
   "cell_type": "code",
   "execution_count": 17,
   "id": "329e82f9",
   "metadata": {
    "scrolled": true
   },
   "outputs": [
    {
     "data": {
      "text/plain": [
       "{'ALL_CNT': 8336,\n",
       " 'DEAL_OBJ': '05',\n",
       " 'LEVEL_NO': '0',\n",
       " 'REGION_CD': '11000',\n",
       " 'REGION_NM': '서울',\n",
       " 'RESEARCH_DATE': '202103'}"
      ]
     },
     "execution_count": 17,
     "metadata": {},
     "output_type": "execute_result"
    }
   ],
   "source": [
    "result['data'][1]"
   ]
  },
  {
   "cell_type": "code",
   "execution_count": 18,
   "id": "a334d3a7",
   "metadata": {
    "scrolled": true
   },
   "outputs": [
    {
     "name": "stdout",
     "output_type": "stream",
     "text": [
      "{'currentCount': 12, 'data': [{'ALL_CNT': 9428, 'DEAL_OBJ': '05', 'LEVEL_NO': '0', 'REGION_CD': '11000', 'REGION_NM': '서울', 'RESEARCH_DATE': '202105'}, {'ALL_CNT': 8336, 'DEAL_OBJ': '05', 'LEVEL_NO': '0', 'REGION_CD': '11000', 'REGION_NM': '서울', 'RESEARCH_DATE': '202103'}, {'ALL_CNT': 11709, 'DEAL_OBJ': '05', 'LEVEL_NO': '0', 'REGION_CD': '11000', 'REGION_NM': '서울', 'RESEARCH_DATE': '202104'}, {'ALL_CNT': 8804, 'DEAL_OBJ': '05', 'LEVEL_NO': '0', 'REGION_CD': '11000', 'REGION_NM': '서울', 'RESEARCH_DATE': '202102'}, {'ALL_CNT': 14004, 'DEAL_OBJ': '05', 'LEVEL_NO': '0', 'REGION_CD': '11000', 'REGION_NM': '서울', 'RESEARCH_DATE': '202101'}, {'ALL_CNT': 5759, 'DEAL_OBJ': '05', 'LEVEL_NO': '0', 'REGION_CD': '11000', 'REGION_NM': '서울', 'RESEARCH_DATE': '202109'}, {'ALL_CNT': 7421, 'DEAL_OBJ': '05', 'LEVEL_NO': '0', 'REGION_CD': '11000', 'REGION_NM': '서울', 'RESEARCH_DATE': '202106'}, {'ALL_CNT': 4316, 'DEAL_OBJ': '05', 'LEVEL_NO': '0', 'REGION_CD': '11000', 'REGION_NM': '서울', 'RESEARCH_DATE': '202110'}, {'ALL_CNT': 7848, 'DEAL_OBJ': '05', 'LEVEL_NO': '0', 'REGION_CD': '11000', 'REGION_NM': '서울', 'RESEARCH_DATE': '202107'}, {'ALL_CNT': 6655, 'DEAL_OBJ': '05', 'LEVEL_NO': '0', 'REGION_CD': '11000', 'REGION_NM': '서울', 'RESEARCH_DATE': '202108'}, {'ALL_CNT': 4931, 'DEAL_OBJ': '05', 'LEVEL_NO': '0', 'REGION_CD': '11000', 'REGION_NM': '서울', 'RESEARCH_DATE': '202112'}, {'ALL_CNT': 4437, 'DEAL_OBJ': '05', 'LEVEL_NO': '0', 'REGION_CD': '11000', 'REGION_NM': '서울', 'RESEARCH_DATE': '202111'}], 'matchCount': 12, 'page': 1, 'perPage': 12, 'totalCount': 438339}\n",
      "<class 'dict'>\n"
     ]
    }
   ],
   "source": [
    "print(result)\n",
    "print(type(result))"
   ]
  },
  {
   "cell_type": "code",
   "execution_count": 19,
   "id": "9f8c453f",
   "metadata": {},
   "outputs": [
    {
     "name": "stdout",
     "output_type": "stream",
     "text": [
      "[{'ALL_CNT': 9428, 'DEAL_OBJ': '05', 'LEVEL_NO': '0', 'REGION_CD': '11000', 'REGION_NM': '서울', 'RESEARCH_DATE': '202105'}, {'ALL_CNT': 8336, 'DEAL_OBJ': '05', 'LEVEL_NO': '0', 'REGION_CD': '11000', 'REGION_NM': '서울', 'RESEARCH_DATE': '202103'}, {'ALL_CNT': 11709, 'DEAL_OBJ': '05', 'LEVEL_NO': '0', 'REGION_CD': '11000', 'REGION_NM': '서울', 'RESEARCH_DATE': '202104'}, {'ALL_CNT': 8804, 'DEAL_OBJ': '05', 'LEVEL_NO': '0', 'REGION_CD': '11000', 'REGION_NM': '서울', 'RESEARCH_DATE': '202102'}, {'ALL_CNT': 14004, 'DEAL_OBJ': '05', 'LEVEL_NO': '0', 'REGION_CD': '11000', 'REGION_NM': '서울', 'RESEARCH_DATE': '202101'}, {'ALL_CNT': 5759, 'DEAL_OBJ': '05', 'LEVEL_NO': '0', 'REGION_CD': '11000', 'REGION_NM': '서울', 'RESEARCH_DATE': '202109'}, {'ALL_CNT': 7421, 'DEAL_OBJ': '05', 'LEVEL_NO': '0', 'REGION_CD': '11000', 'REGION_NM': '서울', 'RESEARCH_DATE': '202106'}, {'ALL_CNT': 4316, 'DEAL_OBJ': '05', 'LEVEL_NO': '0', 'REGION_CD': '11000', 'REGION_NM': '서울', 'RESEARCH_DATE': '202110'}, {'ALL_CNT': 7848, 'DEAL_OBJ': '05', 'LEVEL_NO': '0', 'REGION_CD': '11000', 'REGION_NM': '서울', 'RESEARCH_DATE': '202107'}, {'ALL_CNT': 6655, 'DEAL_OBJ': '05', 'LEVEL_NO': '0', 'REGION_CD': '11000', 'REGION_NM': '서울', 'RESEARCH_DATE': '202108'}, {'ALL_CNT': 4931, 'DEAL_OBJ': '05', 'LEVEL_NO': '0', 'REGION_CD': '11000', 'REGION_NM': '서울', 'RESEARCH_DATE': '202112'}, {'ALL_CNT': 4437, 'DEAL_OBJ': '05', 'LEVEL_NO': '0', 'REGION_CD': '11000', 'REGION_NM': '서울', 'RESEARCH_DATE': '202111'}]\n"
     ]
    },
    {
     "data": {
      "text/plain": [
       "list"
      ]
     },
     "execution_count": 19,
     "metadata": {},
     "output_type": "execute_result"
    }
   ],
   "source": [
    "#### key를 사용할 수 있음\n",
    "print(result['data'])\n",
    "type(result['data'])"
   ]
  },
  {
   "cell_type": "code",
   "execution_count": 20,
   "id": "53876d06",
   "metadata": {},
   "outputs": [
    {
     "name": "stdout",
     "output_type": "stream",
     "text": [
      "{'ALL_CNT': 9428, 'DEAL_OBJ': '05', 'LEVEL_NO': '0', 'REGION_CD': '11000', 'REGION_NM': '서울', 'RESEARCH_DATE': '202105'}\n"
     ]
    },
    {
     "data": {
      "text/plain": [
       "dict"
      ]
     },
     "execution_count": 20,
     "metadata": {},
     "output_type": "execute_result"
    }
   ],
   "source": [
    "print(result['data'][0])\n",
    "type(result['data'][0])"
   ]
  },
  {
   "cell_type": "code",
   "execution_count": 21,
   "id": "28ed6c4b",
   "metadata": {},
   "outputs": [
    {
     "data": {
      "text/plain": [
       "9428"
      ]
     },
     "execution_count": 21,
     "metadata": {},
     "output_type": "execute_result"
    }
   ],
   "source": [
    "result['data'][0]['ALL_CNT']"
   ]
  }
 ],
 "metadata": {
  "kernelspec": {
   "display_name": "Python 3 (ipykernel)",
   "language": "python",
   "name": "python3"
  },
  "language_info": {
   "codemirror_mode": {
    "name": "ipython",
    "version": 3
   },
   "file_extension": ".py",
   "mimetype": "text/x-python",
   "name": "python",
   "nbconvert_exporter": "python",
   "pygments_lexer": "ipython3",
   "version": "3.9.12"
  }
 },
 "nbformat": 4,
 "nbformat_minor": 5
}
