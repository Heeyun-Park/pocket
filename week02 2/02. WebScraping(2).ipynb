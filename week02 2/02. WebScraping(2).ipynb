{
 "cells": [
  {
   "cell_type": "markdown",
   "id": "554834c6",
   "metadata": {},
   "source": [
    "- <span style = 'font-size:0.9em;line-height:1.5em'>이 실습자료는 '웹 크롤링 & 데이터 분석 with 파이썬'에서 제공하는 실습 페이지를 활용합니다.</span>\n",
    "- <span style = 'font-size:0.9em;line-height:1.5em'>https://ai-dev.tistory.com/1</span>\n",
    "- <span style = 'font-size:0.9em;line-height:1.5em'>참고: https://github.com/losskatsu/WebCrawling/tree/main/source_code</span>"
   ]
  },
  {
   "cell_type": "markdown",
   "id": "f1d89528",
   "metadata": {},
   "source": [
    "# Web Scraping Practice (1)"
   ]
  },
  {
   "cell_type": "markdown",
   "id": "a9f7e413",
   "metadata": {},
   "source": [
    "## 실제 웹페이지에 접속해서 HTML문서 불러오기"
   ]
  },
  {
   "cell_type": "code",
   "execution_count": 1,
   "id": "02f03baf",
   "metadata": {},
   "outputs": [],
   "source": [
    "from urllib.request import urlopen"
   ]
  },
  {
   "cell_type": "code",
   "execution_count": 2,
   "id": "2ecb3a73",
   "metadata": {},
   "outputs": [],
   "source": [
    "url = 'https://ai-dev.tistory.com/1'"
   ]
  },
  {
   "cell_type": "code",
   "execution_count": 3,
   "id": "a3ab2bb4",
   "metadata": {},
   "outputs": [],
   "source": [
    "html = urlopen(url)"
   ]
  },
  {
   "cell_type": "code",
   "execution_count": 4,
   "id": "6430afa4",
   "metadata": {},
   "outputs": [
    {
     "data": {
      "text/plain": [
       "<http.client.HTTPResponse at 0x20596421ee0>"
      ]
     },
     "execution_count": 4,
     "metadata": {},
     "output_type": "execute_result"
    }
   ],
   "source": [
    "html"
   ]
  },
  {
   "cell_type": "code",
   "execution_count": 5,
   "id": "9f417632",
   "metadata": {},
   "outputs": [
    {
     "data": {
      "text/plain": [
       "b'<!doctype html>\\n<html lang=\"ko\">\\n\\n                                                                                <head>\\n                <script type=\"text/javascript\">if (!window.T) { window.T = {} }\\nwindow.T.config = {\"TOP_SSL_URL\":\"https://www.tistory.com\",\"PREVIEW\":false,\"ROLE\":\"guest\",\"PREV_PAGE\":\"\",\"NEXT_PAGE\":\"\",\"BLOG\":{\"id\":4442027,\"name\":\"ai-dev\",\"title\":\"\\xec\\x9d\\xb8\\xea\\xb3\\xb5\\xec\\xa7\\x80\\xeb\\x8a\\xa5 \\xea\\xb0\\x9c\\xeb\\xb0\\x9c\\xec\\x9d\\x98 \\xeb\\xaa\\xa8\\xeb\\x93\\xa0 \\xea\\xb2\\x83\",\"isDormancy\":false,\"nickName\":\"\\xeb\\xa1\\x9c\\xec\\x8a\\xa4\\xec\\xb9\\xb4\\xec\\xb8\\xa0\",\"status\":\"open\",\"profileStatus\":\"normal\"},\"NEED_COMMENT_LOGIN\":false,\"COMMENT_LOGIN_CONFIRM_MESSAGE\":\"\",\"LOGIN_URL\":\"https://www.tistory.com/auth/login/?redirectUrl=https://ai-dev.tistory.com/1\",\"DEFAULT_URL\":\"https://ai-dev.tistory.com\",\"USER\":{\"name\":null,\"homepage\":null,\"id\":0,\"profileImage\":null},\"SUBSCRIPTION\":{\"status\":\"none\",\"isConnected\":false,\"isPending\":false,\"isWait\":false,\"isProcessing\":false,\"isNone\":true},\"IS_LOGIN\":false,\"HAS_BLOG\":false,\"IS_SUPPORT\":false,\"TOP_URL\":\"http://www.tistory.com\",\"JOIN_URL\":\"https://www.tistory.com/member/join\",\"ROLE_GROUP\":\"visitor\"};\\nwindow.T.entryInfo = {\"entryId\":1,\"isAuthor\":false,\"categoryId\":836119,\"categoryLabel\":\"\\xed\\x81\\xac\\xeb\\xa1\\xa4\\xeb\\xa7\\x81\"};\\nwindow.appInfo = {\"domain\":\"tistory.com\",\"topUrl\":\"https://www.tistory.com\",\"loginUrl\":\"https://www.tistory.com/auth/login\",\"logoutUrl\":\"https://www.tistory.com/auth/logout\"};\\nwindow.initData = {};\\n\\nwindow.TistoryBlog = {\\n    basePath: \"\",\\n    url: \"https://ai-dev.tistory.com\",\\n    tistoryUrl: \"https://ai-dev.tistory.com\",\\n    manageUrl: \"https://ai-dev.tistory.com/manage\",\\n    token: \"oBeuS+sXSSYE4cfnivIhXHJ2/jYK9j5mZy6ah9Xz3gJARjN9/XQ8WC8Uw080QPMR\"\\n};\\nvar servicePath = \"\";\\nvar blogURL = \"\";</script>\\n\\n                \\n                \\n                \\n                        <!-- BusinessLicenseInfo - START -->\\n        \\n            <link href=\"https://tistory1.daumcdn.net/tistory_admin/userblog/tistory-20727ff99067657a6f16db1ece6ce2f18c274e00/static/plugin/BusinessLicenseInfo/style.css\" rel=\"stylesheet\" type=\"text/css\"/>\\n\\n            <script>function switchFold(entryId) {\\n    var businessLayer = document.getElementById(\"businessInfoLayer_\" + entryId);\\n\\n    if (businessLayer) {\\n        if (businessLayer.className.indexOf(\"unfold_license\") > 0) {\\n            businessLayer.className = \"business_license_layer\";\\n        } else {\\n            businessLayer.className = \"business_license_layer unfold_license\";\\n        }\\n    }\\n}\\n</script>\\n\\n        \\n        <!-- BusinessLicenseInfo - END -->\\n        <!-- DaumShow - START -->\\n        <style type=\"text/css\">#daumSearchBox {\\n    height: 21px;\\n    background-image: url(//i1.daumcdn.net/imgsrc.search/search_all/show/tistory/plugin/bg_search2_2.gif);\\n    margin: 5px auto;\\n    padding: 0;\\n}\\n\\n#daumSearchBox input {\\n    background: none;\\n    margin: 0;\\n    padding: 0;\\n    border: 0;\\n}\\n\\n#daumSearchBox #daumLogo {\\n    width: 34px;\\n    height: 21px;\\n    float: left;\\n    margin-right: 5px;\\n    background-image: url(//i1.daumcdn.net/img-media/tistory/img/bg_search1_2_2010ci.gif);\\n}\\n\\n#daumSearchBox #show_q {\\n    background-color: transparent;\\n    border: none;\\n    font: 12px Gulim, Sans-serif;\\n    color: #555;\\n    margin-top: 4px;\\n    margin-right: 15px;\\n    float: left;\\n}\\n\\n#daumSearchBox #show_btn {\\n    background-image: url(//i1.daumcdn.net/imgsrc.search/search_all/show/tistory/plugin/bt_search_2.gif);\\n    width: 37px;\\n    height: 21px;\\n    float: left;\\n    margin: 0;\\n    cursor: pointer;\\n    text-indent: -1000em;\\n}\\n</style>\\n\\n        <!-- DaumShow - END -->\\n\\n<!-- System - START -->\\n\\n<!-- System - END -->\\n\\n        <!-- TistoryProfileLayer - START -->\\n        <link href=\"https://tistory1.daumcdn.net/tistory_admin/userblog/tistory-20727ff99067657a6f16db1ece6ce2f18c274e00/static/plugin/TistoryProfileLayer/style.css\" rel=\"stylesheet\" type=\"text/css\"/>\\n<script type=\"text/javascript\" src=\"https://tistory1.daumcdn.net/tistory_admin/userblog/tistory-20727ff99067657a6f16db1ece6ce2f18c274e00/static/plugin/TistoryProfileLayer/script.js\"></script>\\n\\n        <!-- TistoryProfileLayer - END -->\\n\\n                \\n                <meta http-equiv=\"X-UA-Compatible\" content=\"IE=Edge\">\\n<meta name=\"format-detection\" content=\"telephone=no\">\\n<script src=\"//t1.daumcdn.net/tistory_admin/lib/jquery/jquery-3.5.1.min.js\" integrity=\"sha256-9/aliU8dGd2tb6OSsuzixeV4y/faTqgFtohetphbbj0=\" crossorigin=\"anonymous\"></script>\\n<script src=\"//t1.daumcdn.net/tistory_admin/lib/lightbox/js/lightbox-v2.10.0.min.js\" defer></script>\\n<script type=\"text/javascript\" src=\"//t1.daumcdn.net/tiara/js/v1/tiara.min.js\"></script><meta name=\"referrer\" content=\"always\"/>\\n<meta name=\"google-adsense-platform-account\" content=\"ca-host-pub-9691043933427338\"/>\\n<meta name=\"google-adsense-platform-domain\" content=\"tistory.com\"/>\\n<meta name=\"description\" content=\"Hello, world!\"/>\\n<meta property=\"og:type\" content=\"article\"/>\\n<meta property=\"og:url\" content=\"https://ai-dev.tistory.com/1\"/>\\n<meta property=\"og.article.author\" content=\"\\xeb\\xa1\\x9c\\xec\\x8a\\xa4\\xec\\xb9\\xb4\\xec\\xb8\\xa0\"/>\\n<meta property=\"og:site_name\" content=\"\\xec\\x9d\\xb8\\xea\\xb3\\xb5\\xec\\xa7\\x80\\xeb\\x8a\\xa5 \\xea\\xb0\\x9c\\xeb\\xb0\\x9c\\xec\\x9d\\x98 \\xeb\\xaa\\xa8\\xeb\\x93\\xa0 \\xea\\xb2\\x83\"/>\\n<meta property=\"og:title\" content=\"\\xed\\x81\\xac\\xeb\\xa1\\xa4\\xeb\\xa7\\x81\\xec\\x9d\\x98 \\xec\\x84\\xb8\\xea\\xb3\\x84\\xec\\x97\\x90 \\xec\\x98\\xa4\\xec\\x8b\\xa0 \\xea\\xb2\\x83\\xec\\x9d\\x84 \\xed\\x99\\x98\\xec\\x98\\x81\\xed\\x95\\xa9\\xeb\\x8b\\x88\\xeb\\x8b\\xa4.\"/>\\n<meta name=\"by\" content=\"\\xeb\\xa1\\x9c\\xec\\x8a\\xa4\\xec\\xb9\\xb4\\xec\\xb8\\xa0\"/>\\n<meta property=\"og:description\" content=\"Hello, world!\"/>\\n<meta property=\"og:image\" content=\"https://img1.daumcdn.net/thumb/R800x0/?scode=mtistory2&fname=https%3A%2F%2Ft1.daumcdn.net%2Ftistory_admin%2Fstatic%2Fimages%2FopenGraph%2Fopengraph.png\"/>\\n<meta name=\"twitter:card\" content=\"summary_large_image\"/>\\n<meta name=\"twitter:site\" content=\"@TISTORY\"/>\\n<meta name=\"twitter:title\" content=\"\\xed\\x81\\xac\\xeb\\xa1\\xa4\\xeb\\xa7\\x81\\xec\\x9d\\x98 \\xec\\x84\\xb8\\xea\\xb3\\x84\\xec\\x97\\x90 \\xec\\x98\\xa4\\xec\\x8b\\xa0 \\xea\\xb2\\x83\\xec\\x9d\\x84 \\xed\\x99\\x98\\xec\\x98\\x81\\xed\\x95\\xa9\\xeb\\x8b\\x88\\xeb\\x8b\\xa4.\"/>\\n<meta name=\"twitter:description\" content=\"Hello, world!\"/>\\n<meta property=\"twitter:image\" content=\"https://img1.daumcdn.net/thumb/R800x0/?scode=mtistory2&fname=https%3A%2F%2Ft1.daumcdn.net%2Ftistory_admin%2Fstatic%2Fimages%2FopenGraph%2Fopengraph.png\"/>\\n<meta content=\"https://ai-dev.tistory.com/1\" property=\"dg:plink\" content=\"https://ai-dev.tistory.com/1\"/>\\n<meta name=\"plink\"/>\\n<meta name=\"title\" content=\"\\xed\\x81\\xac\\xeb\\xa1\\xa4\\xeb\\xa7\\x81\\xec\\x9d\\x98 \\xec\\x84\\xb8\\xea\\xb3\\x84\\xec\\x97\\x90 \\xec\\x98\\xa4\\xec\\x8b\\xa0 \\xea\\xb2\\x83\\xec\\x9d\\x84 \\xed\\x99\\x98\\xec\\x98\\x81\\xed\\x95\\xa9\\xeb\\x8b\\x88\\xeb\\x8b\\xa4.\"/>\\n<meta name=\"article:media_name\" content=\"\\xec\\x9d\\xb8\\xea\\xb3\\xb5\\xec\\xa7\\x80\\xeb\\x8a\\xa5 \\xea\\xb0\\x9c\\xeb\\xb0\\x9c\\xec\\x9d\\x98 \\xeb\\xaa\\xa8\\xeb\\x93\\xa0 \\xea\\xb2\\x83\"/>\\n<meta property=\"article:mobile_url\" content=\"https://ai-dev.tistory.com/m/1\"/>\\n<meta property=\"article:pc_url\" content=\"https://ai-dev.tistory.com/1\"/>\\n<meta property=\"article:mobile_view_url\" content=\"https://ai-dev.tistory.com/m/1\"/>\\n<meta property=\"article:pc_view_url\" content=\"https://ai-dev.tistory.com/1\"/>\\n<meta property=\"article:talk_channel_view_url\" content=\"https://ai-dev.tistory.com/m/1\"/>\\n<meta property=\"article:pc_service_home\" content=\"https://www.tistory.com\"/>\\n<meta property=\"article:mobile_service_home\" content=\"https://www.tistory.com/m\"/>\\n<meta property=\"article:txid\" content=\"4442027_1\"/>\\n<meta property=\"article:published_time\" content=\"2021-01-21T14:06:56+09:00\"/>\\n<meta property=\"og:regDate\" content=\"20210121020656\"/>\\n<meta property=\"article:modified_time\" content=\"2021-01-21T14:06:56+09:00\"/>\\n<link rel=\"icon\" sizes=\"any\" href=\"https://t1.daumcdn.net/tistory_admin/favicon/tistory_favicon_32x32.ico\"/>\\n<link rel=\"icon\" type=\"image/svg+xml\" href=\"https://t1.daumcdn.net/tistory_admin/top_v2/bi-tistory-favicon.svg\"/>\\n<link rel=\"apple-touch-icon\" href=\"https://t1.daumcdn.net/tistory_admin/top_v2/tistory-apple-touch-favicon.png\"/>\\n<link rel=\"stylesheet\" type=\"text/css\" href=\"https://t1.daumcdn.net/tistory_admin/lib/lightbox/css/lightbox.min.css\"/>\\n<link rel=\"stylesheet\" type=\"text/css\" href=\"https://tistory1.daumcdn.net/tistory_admin/userblog/tistory-20727ff99067657a6f16db1ece6ce2f18c274e00/static/style/font.css\"/>\\n<link rel=\"stylesheet\" type=\"text/css\" href=\"https://tistory1.daumcdn.net/tistory_admin/userblog/tistory-20727ff99067657a6f16db1ece6ce2f18c274e00/static/style/content.css\"/>\\n<link rel=\"stylesheet\" type=\"text/css\" href=\"https://tistory1.daumcdn.net/tistory_admin/userblog/tistory-20727ff99067657a6f16db1ece6ce2f18c274e00/static/style/uselessPMargin.css\"/>\\n<script type=\"text/javascript\">(function() {\\n    var tjQuery = jQuery.noConflict(true);\\n    window.tjQuery = tjQuery;\\n    window.orgjQuery = window.jQuery; window.jQuery = tjQuery;\\n    window.jQuery = window.orgjQuery; delete window.orgjQuery;\\n})()</script>\\n<script type=\"text/javascript\" src=\"https://tistory1.daumcdn.net/tistory_admin/userblog/tistory-20727ff99067657a6f16db1ece6ce2f18c274e00/static/script/base.js\"></script>\\n<script type=\"text/javascript\" src=\"//developers.kakao.com/sdk/js/kakao.min.js\"></script>\\n\\n                \\n  <meta charset=\"UTF-8\">\\n  <meta name=\"viewport\"\\n    content=\"user-scalable=no, initial-scale=1.0, maximum-scale=1.0, minimum-scale=1.0, width=device-width\">\\n  <title>\\xed\\x81\\xac\\xeb\\xa1\\xa4\\xeb\\xa7\\x81\\xec\\x9d\\x98 \\xec\\x84\\xb8\\xea\\xb3\\x84\\xec\\x97\\x90 \\xec\\x98\\xa4\\xec\\x8b\\xa0 \\xea\\xb2\\x83\\xec\\x9d\\x84 \\xed\\x99\\x98\\xec\\x98\\x81\\xed\\x95\\xa9\\xeb\\x8b\\x88\\xeb\\x8b\\xa4.</title>\\n  <link rel=\"stylesheet\" href=\"https://tistory1.daumcdn.net/tistory/0/pg_Poster/style.css\">\\n  <script src=\"//t1.daumcdn.net/tistory_admin/lib/jquery/jquery-1.12.4.min.js\"></script>\\n\\n                \\n                \\n                <style type=\"text/css\">.another_category {\\n    border: 1px solid #E5E5E5;\\n    padding: 10px 10px 5px;\\n    margin: 10px 0;\\n    clear: both;\\n}\\n\\n.another_category h4 {\\n    font-size: 12px !important;\\n    margin: 0 !important;\\n    border-bottom: 1px solid #E5E5E5 !important;\\n    padding: 2px 0 6px !important;\\n}\\n\\n.another_category h4 a {\\n    font-weight: bold !important;\\n}\\n\\n.another_category table {\\n    table-layout: fixed;\\n    border-collapse: collapse;\\n    width: 100% !important;\\n    margin-top: 10px !important;\\n}\\n\\n* html .another_category table {\\n    width: auto !important;\\n}\\n\\n*:first-child + html .another_category table {\\n    width: auto !important;\\n}\\n\\n.another_category th, .another_category td {\\n    padding: 0 0 4px !important;\\n}\\n\\n.another_category th {\\n    text-align: left;\\n    font-size: 12px !important;\\n    font-weight: normal;\\n    word-break: break-all;\\n    overflow: hidden;\\n    line-height: 1.5;\\n}\\n\\n.another_category td {\\n    text-align: right;\\n    width: 80px;\\n    font-size: 11px;\\n}\\n\\n.another_category th a {\\n    font-weight: normal;\\n    text-decoration: none;\\n    border: none !important;\\n}\\n\\n.another_category th a.current {\\n    font-weight: bold;\\n    text-decoration: none !important;\\n    border-bottom: 1px solid !important;\\n}\\n\\n.another_category th span {\\n    font-weight: normal;\\n    text-decoration: none;\\n    font: 10px Tahoma, Sans-serif;\\n    border: none !important;\\n}\\n\\n.another_category_color_gray, .another_category_color_gray h4 {\\n    border-color: #E5E5E5 !important;\\n}\\n\\n.another_category_color_gray * {\\n    color: #909090 !important;\\n}\\n\\n.another_category_color_gray th a.current {\\n    border-color: #909090 !important;\\n}\\n\\n.another_category_color_gray h4, .another_category_color_gray h4 a {\\n    color: #737373 !important;\\n}\\n\\n.another_category_color_red, .another_category_color_red h4 {\\n    border-color: #F6D4D3 !important;\\n}\\n\\n.another_category_color_red * {\\n    color: #E86869 !important;\\n}\\n\\n.another_category_color_red th a.current {\\n    border-color: #E86869 !important;\\n}\\n\\n.another_category_color_red h4, .another_category_color_red h4 a {\\n    color: #ED0908 !important;\\n}\\n\\n.another_category_color_green, .another_category_color_green h4 {\\n    border-color: #CCE7C8 !important;\\n}\\n\\n.another_category_color_green * {\\n    color: #64C05B !important;\\n}\\n\\n.another_category_color_green th a.current {\\n    border-color: #64C05B !important;\\n}\\n\\n.another_category_color_green h4, .another_category_color_green h4 a {\\n    color: #3EA731 !important;\\n}\\n\\n.another_category_color_blue, .another_category_color_blue h4 {\\n    border-color: #C8DAF2 !important;\\n}\\n\\n.another_category_color_blue * {\\n    color: #477FD6 !important;\\n}\\n\\n.another_category_color_blue th a.current {\\n    border-color: #477FD6 !important;\\n}\\n\\n.another_category_color_blue h4, .another_category_color_blue h4 a {\\n    color: #1960CA !important;\\n}\\n\\n.another_category_color_violet, .another_category_color_violet h4 {\\n    border-color: #E1CEEC !important;\\n}\\n\\n.another_category_color_violet * {\\n    color: #9D64C5 !important;\\n}\\n\\n.another_category_color_violet th a.current {\\n    border-color: #9D64C5 !important;\\n}\\n\\n.another_category_color_violet h4, .another_category_color_violet h4 a {\\n    color: #7E2CB5 !important;\\n}\\n</style>\\n\\n                \\n                <link rel=\"stylesheet\" type=\"text/css\" href=\"https://tistory1.daumcdn.net/tistory_admin/userblog/tistory-20727ff99067657a6f16db1ece6ce2f18c274e00/static/style/revenue.css\"/>\\n<link rel=\"canonical\" href=\"https://ai-dev.tistory.com/1\"/>\\n\\n<!-- BEGIN STRUCTURED_DATA -->\\n<script type=\"application/ld+json\">\\n    {\"@context\":\"http://schema.org\",\"@type\":\"BlogPosting\",\"mainEntityOfPage\":{\"@id\":\"https://ai-dev.tistory.com/1\",\"name\":null},\"url\":\"https://ai-dev.tistory.com/1\",\"headline\":\"\\xed\\x81\\xac\\xeb\\xa1\\xa4\\xeb\\xa7\\x81\\xec\\x9d\\x98 \\xec\\x84\\xb8\\xea\\xb3\\x84\\xec\\x97\\x90 \\xec\\x98\\xa4\\xec\\x8b\\xa0 \\xea\\xb2\\x83\\xec\\x9d\\x84 \\xed\\x99\\x98\\xec\\x98\\x81\\xed\\x95\\xa9\\xeb\\x8b\\x88\\xeb\\x8b\\xa4.\",\"description\":\"Hello, world!\",\"author\":{\"@type\":\"Person\",\"name\":\"\\xeb\\xa1\\x9c\\xec\\x8a\\xa4\\xec\\xb9\\xb4\\xec\\xb8\\xa0\",\"logo\":null},\"image\":{\"@type\":\"ImageObject\",\"url\":\"https://img1.daumcdn.net/thumb/R800x0/?scode=mtistory2&fname=https%3A%2F%2Ft1.daumcdn.net%2Ftistory_admin%2Fstatic%2Fimages%2FopenGraph%2Fopengraph.png\",\"width\":\"800px\",\"height\":\"800px\"},\"datePublished\":\"20210121T14:06:56\",\"dateModified\":\"20210121T14:06:56\",\"publisher\":{\"@type\":\"Organization\",\"name\":\"TISTORY\",\"logo\":{\"@type\":\"ImageObject\",\"url\":\"https://t1.daumcdn.net/tistory_admin/static/images/openGraph/opengraph.png\",\"width\":\"800px\",\"height\":\"800px\"}}}\\n</script>\\n<!-- END STRUCTURED_DATA -->\\n<link rel=\"stylesheet\" type=\"text/css\" href=\"https://tistory1.daumcdn.net/tistory_admin/userblog/tistory-20727ff99067657a6f16db1ece6ce2f18c274e00/static/style/dialog.css\"/>\\n<link rel=\"stylesheet\" type=\"text/css\" href=\"//t1.daumcdn.net/tistory_admin/www/style/top/font.css\"/>\\n<link rel=\"stylesheet\" type=\"text/css\" href=\"https://tistory1.daumcdn.net/tistory_admin/userblog/tistory-20727ff99067657a6f16db1ece6ce2f18c274e00/static/style/postBtn.css\"/>\\n<link rel=\"stylesheet\" type=\"text/css\" href=\"https://tistory1.daumcdn.net/tistory_admin/userblog/tistory-20727ff99067657a6f16db1ece6ce2f18c274e00/static/style/comment.css\"/>\\n<link rel=\"stylesheet\" type=\"text/css\" href=\"https://tistory1.daumcdn.net/tistory_admin/userblog/tistory-20727ff99067657a6f16db1ece6ce2f18c274e00/static/style/tistory.css\"/>\\n<script type=\"text/javascript\" src=\"https://tistory1.daumcdn.net/tistory_admin/userblog/tistory-20727ff99067657a6f16db1ece6ce2f18c274e00/static/script/common.js\"></script>\\n<script type=\"text/javascript\" src=\"https://tistory1.daumcdn.net/tistory_admin/userblog/tistory-20727ff99067657a6f16db1ece6ce2f18c274e00/static/script/comment.js\" defer=\"\"></script>\\n\\n                \\n                </head>\\n\\n                                                <body id=\"tt-body-page\"\\n  class=\"color-gray post-type-text paging-view-more\">\\n                \\n                \\n                \\n  \\n    <div id=\"acc-nav\">\\n      <a href=\"#content\">\\xeb\\xb3\\xb8\\xeb\\xac\\xb8 \\xeb\\xb0\\x94\\xeb\\xa1\\x9c\\xea\\xb0\\x80\\xea\\xb8\\xb0</a>\\n    </div>\\n    <div id=\"wrap\">\\n      <header id=\"header\">\\n        <h1><a href=\"https://ai-dev.tistory.com/\">\\xec\\x9d\\xb8\\xea\\xb3\\xb5\\xec\\xa7\\x80\\xeb\\x8a\\xa5 \\xea\\xb0\\x9c\\xeb\\xb0\\x9c\\xec\\x9d\\x98 \\xeb\\xaa\\xa8\\xeb\\x93\\xa0 \\xea\\xb2\\x83</a></h1>\\n        <button type=\"button\" class=\"mobile-menu\"><span>\\xeb\\xa9\\x94\\xeb\\x89\\xb4</span></button>\\n        <div class=\"menu\">\\n          <nav id=\"gnb\">\\n            <ul class=\"tt_category\"><li class=\"\"><a href=\"/category\" class=\"link_tit\"> \\xeb\\xb6\\x84\\xeb\\xa5\\x98 \\xec\\xa0\\x84\\xec\\xb2\\xb4\\xeb\\xb3\\xb4\\xea\\xb8\\xb0 <span class=\"c_cnt\">(2)</span> </a>\\n  <ul class=\"category_list\"><li class=\"\"><a href=\"/category/%ED%81%AC%EB%A1%A4%EB%A7%81\" class=\"link_item\"> \\xed\\x81\\xac\\xeb\\xa1\\xa4\\xeb\\xa7\\x81 <span class=\"c_cnt\">(2)</span> </a></li>\\n</ul>\\n</li>\\n</ul>\\n\\n          </nav>\\n          <div class=\"social-link\">\\n            \\n            \\n            \\n            \\n          </div>\\n          <p>POWERED BY TISTORY</p>\\n        </div>\\n        <div class=\"search\">\\n          \\n            <label for=\"search\" class=\"screen_out\">\\xeb\\xb8\\x94\\xeb\\xa1\\x9c\\xea\\xb7\\xb8 \\xeb\\x82\\xb4 \\xea\\xb2\\x80\\xec\\x83\\x89</label>\\n            <input id=\"search\" type=\"text\" name=\"search\" value=\"\"\\n              placeholder=\"\\xea\\xb2\\x80\\xec\\x83\\x89\\xeb\\x82\\xb4\\xec\\x9a\\xa9\\xec\\x9d\\x84 \\xec\\x9e\\x85\\xeb\\xa0\\xa5\\xed\\x95\\x98\\xec\\x84\\xb8\\xec\\x9a\\x94.\" onkeypress=\"if (event.keyCode == 13) { try {\\n    window.location.href = \\'/search\\' + \\'/\\' + looseURIEncode(document.getElementsByName(\\'search\\')[0].value);\\n    document.getElementsByName(\\'search\\')[0].value = \\'\\';\\n    return false;\\n} catch (e) {} }\">\\n            <button type=\"submit\" onclick=\"try {\\n    window.location.href = \\'/search\\' + \\'/\\' + looseURIEncode(document.getElementsByName(\\'search\\')[0].value);\\n    document.getElementsByName(\\'search\\')[0].value = \\'\\';\\n    return false;\\n} catch (e) {}\">\\xea\\xb2\\x80\\xec\\x83\\x89</button>\\n          \\n        </div>\\n      </header>\\n      <hr>\\n      <section class=\"container\">\\n        \\n        <article id=\"content\">\\n          \\n\\n          \\n\\n          \\n\\n          \\n\\n          <div class=\"inner\">\\n            \\n\\n                \\n        \\n  \\n  \\n    <div class=\"hgroup\">\\n      <div class=\"category\">\\xed\\x81\\xac\\xeb\\xa1\\xa4\\xeb\\xa7\\x81</div>\\n      <h1>\\xed\\x81\\xac\\xeb\\xa1\\xa4\\xeb\\xa7\\x81\\xec\\x9d\\x98 \\xec\\x84\\xb8\\xea\\xb3\\x84\\xec\\x97\\x90 \\xec\\x98\\xa4\\xec\\x8b\\xa0 \\xea\\xb2\\x83\\xec\\x9d\\x84 \\xed\\x99\\x98\\xec\\x98\\x81\\xed\\x95\\xa9\\xeb\\x8b\\x88\\xeb\\x8b\\xa4. </h1>\\n      <div class=\"post-meta\">\\n        <span class=\"author\">\\xeb\\xa1\\x9c\\xec\\x8a\\xa4\\xec\\xb9\\xb4\\xec\\xb8\\xa0</span>\\n        <span class=\"date\">2021. 1. 21. 14:06</span>\\n        \\n      </div>\\n    </div>\\n    <div class=\"entry-content\" id=\"article-view\">\\n                  <!-- System - START -->\\n\\n<!-- System - END -->\\n\\n            <div class=\"tt_article_useless_p_margin contents_style\"><p>Hello, world!</p></div>\\n            <!-- System - START -->\\n\\n<!-- System - END -->\\n\\n                    <div class=\"container_postbtn #post_button_group\">\\n  <div class=\"postbtn_like\"><script>window.ReactionButtonType = \\'reaction\\';\\nwindow.ReactionApiUrl = \\'//ai-dev.tistory.com/reaction\\';\\nwindow.ReactionReqBody = {\\n    entryId: 1\\n}</script>\\n<div class=\"wrap_btn\" id=\"reaction-1\"></div>\\n<script src=\"https://tistory1.daumcdn.net/tistory_admin/userblog/tistory-20727ff99067657a6f16db1ece6ce2f18c274e00/static/script/reaction-button-container.min.js\"></script><div class=\"wrap_btn wrap_btn_share\"><button type=\"button\" class=\"btn_post sns_btn btn_share\" aria-expanded=\"false\" data-thumbnail-url=\"https://t1.daumcdn.net/tistory_admin/static/images/openGraph/opengraph.png\" data-title=\"\\xed\\x81\\xac\\xeb\\xa1\\xa4\\xeb\\xa7\\x81\\xec\\x9d\\x98 \\xec\\x84\\xb8\\xea\\xb3\\x84\\xec\\x97\\x90 \\xec\\x98\\xa4\\xec\\x8b\\xa0 \\xea\\xb2\\x83\\xec\\x9d\\x84 \\xed\\x99\\x98\\xec\\x98\\x81\\xed\\x95\\xa9\\xeb\\x8b\\x88\\xeb\\x8b\\xa4.\" data-description=\"Hello, world!\" data-profile-image=\"https://t1.daumcdn.net/tistory_admin/static/manage/images/r3/default_L.png\" data-profile-name=\"\\xeb\\xa1\\x9c\\xec\\x8a\\xa4\\xec\\xb9\\xb4\\xec\\xb8\\xa0\" data-pc-url=\"https://ai-dev.tistory.com/1\" data-relative-pc-url=\"/1\" data-blog-title=\"\\xec\\x9d\\xb8\\xea\\xb3\\xb5\\xec\\xa7\\x80\\xeb\\x8a\\xa5 \\xea\\xb0\\x9c\\xeb\\xb0\\x9c\\xec\\x9d\\x98 \\xeb\\xaa\\xa8\\xeb\\x93\\xa0 \\xea\\xb2\\x83\"><span class=\"ico_postbtn ico_share\">\\xea\\xb3\\xb5\\xec\\x9c\\xa0\\xed\\x95\\x98\\xea\\xb8\\xb0</span></button>\\n  <div class=\"layer_post\" id=\"tistorySnsLayer\"></div>\\n</div><div class=\"wrap_btn wrap_btn_etc\" data-entry-id=\"1\" data-entry-visibility=\"public\" data-category-visibility=\"public\"><button type=\"button\" class=\"btn_post btn_etc2\" aria-expanded=\"false\"><span class=\"ico_postbtn ico_etc\">\\xea\\xb2\\x8c\\xec\\x8b\\x9c\\xea\\xb8\\x80 \\xea\\xb4\\x80\\xeb\\xa6\\xac</span></button>\\n  <div class=\"layer_post\" id=\"tistoryEtcLayer\"></div>\\n</div></div>\\n<button type=\"button\" class=\"btn_menu_toolbar btn_subscription  #subscribe\" data-blog-id=\"4442027\" data-url=\"https://ai-dev.tistory.com/1\" data-device=\"web_pc\"><em class=\"txt_state\">\\xea\\xb5\\xac\\xeb\\x8f\\x85\\xed\\x95\\x98\\xea\\xb8\\xb0</em><strong class=\"txt_tool_id\">\\xec\\x9d\\xb8\\xea\\xb3\\xb5\\xec\\xa7\\x80\\xeb\\x8a\\xa5 \\xea\\xb0\\x9c\\xeb\\xb0\\x9c\\xec\\x9d\\x98 \\xeb\\xaa\\xa8\\xeb\\x93\\xa0 \\xea\\xb2\\x83</strong><span class=\"img_common_tistory ico_check_type1\"></span></button>  <div data-tistory-react-app=\"SupportButton\"></div>\\n</div>\\n\\n                    <!-- PostListinCategory - START -->\\n<div class=\"another_category another_category_color_gray\">\\n  <h4>\\'<a href=\"/category/%ED%81%AC%EB%A1%A4%EB%A7%81\">\\xed\\x81\\xac\\xeb\\xa1\\xa4\\xeb\\xa7\\x81</a>\\' \\xec\\xb9\\xb4\\xed\\x85\\x8c\\xea\\xb3\\xa0\\xeb\\xa6\\xac\\xec\\x9d\\x98 \\xeb\\x8b\\xa4\\xeb\\xa5\\xb8 \\xea\\xb8\\x80</h4>\\n  <table>\\n    <tr>\\n      <th><a href=\"/2\">\\xed\\x81\\xac\\xeb\\xa1\\xa4\\xeb\\xa7\\x81 \\xec\\x98\\x88\\xec\\xa0\\x9c \\xed\\x8e\\x98\\xec\\x9d\\xb4\\xec\\xa7\\x80 - 02</a>&nbsp;&nbsp;<span>(6)</span></th>\\n      <td>2021.08.08</td>\\n    </tr>\\n  </table>\\n</div>\\n\\n<!-- PostListinCategory - END -->\\n\\n    </div>\\n    \\n\\n    \\n      <div class=\"related-articles\">\\n        <h2><strong>\\'\\xed\\x81\\xac\\xeb\\xa1\\xa4\\xeb\\xa7\\x81\\'</strong> Related Articles</h2>\\n        <ul>\\n          \\n            <li>\\n              <a href=\"/2?category=836119\">\\n                <span class=\"thum\">\\n                  \\n                </span>\\n                <span class=\"title\">\\xed\\x81\\xac\\xeb\\xa1\\xa4\\xeb\\xa7\\x81 \\xec\\x98\\x88\\xec\\xa0\\x9c \\xed\\x8e\\x98\\xec\\x9d\\xb4\\xec\\xa7\\x80 - 02</span>\\n              </a>\\n            </li>\\n          \\n        </ul>\\n      </div>\\n    \\n\\n    <div data-tistory-react-app=\"Namecard\"></div><div id=\"entry1Comment\">\\n      <div class=\"comments\">\\n        <div data-tistory-react-app=\"Comment\"></div>\\n\\n      </div>\\n    </div>\\n<script type=\"text/javascript\">loadedComments[1]=true;\\nfindFragmentAndHighlight(1);</script>\\n\\n\\n  \\n\\n        \\n    \\n          </div>\\n\\n          \\n\\n          \\n\\n          \\n\\n        </article>\\n      </section>\\n      <hr>\\n      \\n      <footer id=\"footer\">\\n        <p class=\"copyright\">DESIGN BY <a href=\"#\">TISTORY</a> <a href=\"https://ai-dev.tistory.com/manage\" class=\"admin\">\\xea\\xb4\\x80\\xeb\\xa6\\xac\\xec\\x9e\\x90</a></p>\\n      </footer>\\n    </div>\\n    <script src=\"https://tistory1.daumcdn.net/tistory/0/pg_Poster/images/script.js\"></script>\\n  \\n<div class=\"#menubar menu_toolbar \">\\n  <h2 class=\"screen_out\">\\xed\\x8b\\xb0\\xec\\x8a\\xa4\\xed\\x86\\xa0\\xeb\\xa6\\xac\\xed\\x88\\xb4\\xeb\\xb0\\x94</h2>\\n</div>\\n<div class=\"#menubar menu_toolbar \"></div>\\n<div class=\"layer_tooltip\">\\n  <div class=\"inner_layer_tooltip\">\\n    <p class=\"desc_g\"></p>\\n  </div>\\n</div>\\n<iframe id=\"editEntry\" style=\"position:absolute;width:1px;height:1px;left:-100px;top:-100px\" src=\"//ai-dev.tistory.com/api\"></iframe>\\n\\n                <!-- DragSearchHandler - START -->\\n<script src=\"//search1.daumcdn.net/search/statics/common/js/g/search_dragselection.min.js\"></script>\\n\\n<!-- DragSearchHandler - END -->\\n\\n                \\n                <script>            (function (win, doc, src) {\\n    win.Wpm = win.Wpm || function (name, param) {\\n        win.Wpm.queue = win.Wpm.queue || [];\\n        const { queue } = win.Wpm;\\n        queue.push([name, param]);\\n    };\\n    const script = doc.createElement(\\'script\\');\\n    script.src = src;\\n    script.async = 1;\\n    const [elem] = doc.getElementsByTagName(\\'script\\');\\n    elem.parentNode.insertBefore(script, elem);\\n})(window, document, \\'https://t1.kakaocdn.net/malibu_prod/normal_wpm.js\\');\\n            const APP_KEY = \\'fd21bd1c091849f9a2555e49c43a73dd\\';\\n            Wpm(\\'appKey\\', APP_KEY);</script>\\n<script type=\"text/javascript\">(function($) {\\n    $(document).ready(function() {\\n        lightbox.options.fadeDuration = 200;\\n        lightbox.options.resizeDuration = 200;\\n        lightbox.options.wrapAround = false;\\n        lightbox.options.albumLabel = \"%1 / %2\";\\n    })\\n})(tjQuery);</script>\\n<div style=\"margin:0; padding:0; border:none; background:none; float:none; clear:none; z-index:0\"></div>\\n<script type=\"text/javascript\" src=\"https://tistory1.daumcdn.net/tistory_admin/userblog/tistory-20727ff99067657a6f16db1ece6ce2f18c274e00/static/script/common.js\"></script>\\n<script type=\"text/javascript\">window.roosevelt_params_queue = window.roosevelt_params_queue || [{channel_id: \\'dk\\', channel_label: \\'{tistory}\\'}]</script>\\n<script type=\"text/javascript\" src=\"//t1.daumcdn.net/midas/rt/dk_bt/roosevelt_dk_bt.js\" async=\"async\"></script>\\n<script type=\"text/javascript\" src=\"https://tistory1.daumcdn.net/tistory_admin/userblog/tistory-20727ff99067657a6f16db1ece6ce2f18c274e00/static/script/menubar.min.js\"></script>\\n\\n                \\n                <script>window.tiara = {\"svcDomain\":\"user.tistory.com\",\"section\":\"\\xea\\xb8\\x80\\xeb\\xb7\\xb0\",\"trackPage\":\"\\xea\\xb8\\x80\\xeb\\xb7\\xb0_\\xeb\\xb3\\xb4\\xea\\xb8\\xb0\",\"page\":\"\\xea\\xb8\\x80\\xeb\\xb7\\xb0\",\"key\":\"4442027-1\",\"customProps\":{\"userId\":\"0\",\"blogId\":\"4442027\",\"entryId\":\"1\",\"role\":\"guest\",\"trackPage\":\"\\xea\\xb8\\x80\\xeb\\xb7\\xb0_\\xeb\\xb3\\xb4\\xea\\xb8\\xb0\",\"filterTarget\":false},\"entry\":{\"entryId\":\"1\",\"categoryName\":\"\\xed\\x81\\xac\\xeb\\xa1\\xa4\\xeb\\xa7\\x81\",\"categoryId\":\"836119\",\"author\":\"4727327\",\"image\":\"\",\"plink\":\"/1\",\"tags\":[]},\"kakaoAppKey\":\"3e6ddd834b023f24221217e370daed18\",\"appUserId\":\"null\"}</script>\\n<script type=\"module\" src=\"https://t1.daumcdn.net/tistory_admin/frontend/tiara/v1.0.0/index.js\"></script>\\n<script src=\"https://t1.daumcdn.net/tistory_admin/frontend/tiara/v1.0.0/polyfills-legacy.min.js\" nomodule=\"true\" defer=\"true\"></script>\\n<script src=\"https://t1.daumcdn.net/tistory_admin/frontend/tiara/v1.0.0/index-legacy.js\" nomodule=\"true\" defer=\"true\"></script>\\n\\n                </body>\\n\\n</html>'"
      ]
     },
     "execution_count": 5,
     "metadata": {},
     "output_type": "execute_result"
    }
   ],
   "source": [
    "html.read()"
   ]
  },
  {
   "cell_type": "markdown",
   "id": "82e06413",
   "metadata": {},
   "source": [
    "## 예제 (1): 글 제목 정보 scraping하기"
   ]
  },
  {
   "cell_type": "code",
   "execution_count": 6,
   "id": "1aabc494",
   "metadata": {},
   "outputs": [],
   "source": [
    "from urllib.request import urlopen\n",
    "from bs4 import BeautifulSoup"
   ]
  },
  {
   "cell_type": "code",
   "execution_count": 7,
   "id": "871fb80f",
   "metadata": {},
   "outputs": [],
   "source": [
    "url = 'https://ai-dev.tistory.com/1'\n",
    "html = urlopen(url)\n",
    "bs_obj = BeautifulSoup(html, 'html.parser')"
   ]
  },
  {
   "cell_type": "code",
   "execution_count": 8,
   "id": "f2923471",
   "metadata": {},
   "outputs": [
    {
     "name": "stdout",
     "output_type": "stream",
     "text": [
      "<!DOCTYPE html>\n",
      "\n",
      "<html lang=\"ko\">\n",
      "<head>\n",
      "<script type=\"text/javascript\">if (!window.T) { window.T = {} }\n",
      "window.T.config = {\"TOP_SSL_URL\":\"https://www.tistory.com\",\"PREVIEW\":false,\"ROLE\":\"guest\",\"PREV_PAGE\":\"\",\"NEXT_PAGE\":\"\",\"BLOG\":{\"id\":4442027,\"name\":\"ai-dev\",\"title\":\"인공지능 개발의 모든 것\",\"isDormancy\":false,\"nickName\":\"로스카츠\",\"status\":\"open\",\"profileStatus\":\"normal\"},\"NEED_COMMENT_LOGIN\":false,\"COMMENT_LOGIN_CONFIRM_MESSAGE\":\"\",\"LOGIN_URL\":\"https://www.tistory.com/auth/login/?redirectUrl=https://ai-dev.tistory.com/1\",\"DEFAULT_URL\":\"https://ai-dev.tistory.com\",\"USER\":{\"name\":null,\"homepage\":null,\"id\":0,\"profileImage\":null},\"SUBSCRIPTION\":{\"status\":\"none\",\"isConnected\":false,\"isPending\":false,\"isWait\":false,\"isProcessing\":false,\"isNone\":true},\"IS_LOGIN\":false,\"HAS_BLOG\":false,\"IS_SUPPORT\":false,\"TOP_URL\":\"http://www.tistory.com\",\"JOIN_URL\":\"https://www.tistory.com/member/join\",\"ROLE_GROUP\":\"visitor\"};\n",
      "window.T.entryInfo = {\"entryId\":1,\"isAuthor\":false,\"categoryId\":836119,\"categoryLabel\":\"크롤링\"};\n",
      "window.appInfo = {\"domain\":\"tistory.com\",\"topUrl\":\"https://www.tistory.com\",\"loginUrl\":\"https://www.tistory.com/auth/login\",\"logoutUrl\":\"https://www.tistory.com/auth/logout\"};\n",
      "window.initData = {};\n",
      "\n",
      "window.TistoryBlog = {\n",
      "    basePath: \"\",\n",
      "    url: \"https://ai-dev.tistory.com\",\n",
      "    tistoryUrl: \"https://ai-dev.tistory.com\",\n",
      "    manageUrl: \"https://ai-dev.tistory.com/manage\",\n",
      "    token: \"wmL6HVhhe/Bc+0v3+B5etje+WtQswuHu8Hy/mADV3kkI67L/nB9upNU7X2R2G45Y\"\n",
      "};\n",
      "var servicePath = \"\";\n",
      "var blogURL = \"\";</script>\n",
      "<!-- BusinessLicenseInfo - START -->\n",
      "<link href=\"https://tistory1.daumcdn.net/tistory_admin/userblog/tistory-20727ff99067657a6f16db1ece6ce2f18c274e00/static/plugin/BusinessLicenseInfo/style.css\" rel=\"stylesheet\" type=\"text/css\"/>\n",
      "<script>function switchFold(entryId) {\n",
      "    var businessLayer = document.getElementById(\"businessInfoLayer_\" + entryId);\n",
      "\n",
      "    if (businessLayer) {\n",
      "        if (businessLayer.className.indexOf(\"unfold_license\") > 0) {\n",
      "            businessLayer.className = \"business_license_layer\";\n",
      "        } else {\n",
      "            businessLayer.className = \"business_license_layer unfold_license\";\n",
      "        }\n",
      "    }\n",
      "}\n",
      "</script>\n",
      "<!-- BusinessLicenseInfo - END -->\n",
      "<!-- DaumShow - START -->\n",
      "<style type=\"text/css\">#daumSearchBox {\n",
      "    height: 21px;\n",
      "    background-image: url(//i1.daumcdn.net/imgsrc.search/search_all/show/tistory/plugin/bg_search2_2.gif);\n",
      "    margin: 5px auto;\n",
      "    padding: 0;\n",
      "}\n",
      "\n",
      "#daumSearchBox input {\n",
      "    background: none;\n",
      "    margin: 0;\n",
      "    padding: 0;\n",
      "    border: 0;\n",
      "}\n",
      "\n",
      "#daumSearchBox #daumLogo {\n",
      "    width: 34px;\n",
      "    height: 21px;\n",
      "    float: left;\n",
      "    margin-right: 5px;\n",
      "    background-image: url(//i1.daumcdn.net/img-media/tistory/img/bg_search1_2_2010ci.gif);\n",
      "}\n",
      "\n",
      "#daumSearchBox #show_q {\n",
      "    background-color: transparent;\n",
      "    border: none;\n",
      "    font: 12px Gulim, Sans-serif;\n",
      "    color: #555;\n",
      "    margin-top: 4px;\n",
      "    margin-right: 15px;\n",
      "    float: left;\n",
      "}\n",
      "\n",
      "#daumSearchBox #show_btn {\n",
      "    background-image: url(//i1.daumcdn.net/imgsrc.search/search_all/show/tistory/plugin/bt_search_2.gif);\n",
      "    width: 37px;\n",
      "    height: 21px;\n",
      "    float: left;\n",
      "    margin: 0;\n",
      "    cursor: pointer;\n",
      "    text-indent: -1000em;\n",
      "}\n",
      "</style>\n",
      "<!-- DaumShow - END -->\n",
      "<!-- System - START -->\n",
      "<!-- System - END -->\n",
      "<!-- TistoryProfileLayer - START -->\n",
      "<link href=\"https://tistory1.daumcdn.net/tistory_admin/userblog/tistory-20727ff99067657a6f16db1ece6ce2f18c274e00/static/plugin/TistoryProfileLayer/style.css\" rel=\"stylesheet\" type=\"text/css\"/>\n",
      "<script src=\"https://tistory1.daumcdn.net/tistory_admin/userblog/tistory-20727ff99067657a6f16db1ece6ce2f18c274e00/static/plugin/TistoryProfileLayer/script.js\" type=\"text/javascript\"></script>\n",
      "<!-- TistoryProfileLayer - END -->\n",
      "<meta content=\"IE=Edge\" http-equiv=\"X-UA-Compatible\"/>\n",
      "<meta content=\"telephone=no\" name=\"format-detection\"/>\n",
      "<script crossorigin=\"anonymous\" integrity=\"sha256-9/aliU8dGd2tb6OSsuzixeV4y/faTqgFtohetphbbj0=\" src=\"//t1.daumcdn.net/tistory_admin/lib/jquery/jquery-3.5.1.min.js\"></script>\n",
      "<script defer=\"\" src=\"//t1.daumcdn.net/tistory_admin/lib/lightbox/js/lightbox-v2.10.0.min.js\"></script>\n",
      "<script src=\"//t1.daumcdn.net/tiara/js/v1/tiara.min.js\" type=\"text/javascript\"></script><meta content=\"always\" name=\"referrer\">\n",
      "<meta content=\"ca-host-pub-9691043933427338\" name=\"google-adsense-platform-account\">\n",
      "<meta content=\"tistory.com\" name=\"google-adsense-platform-domain\"/>\n",
      "<meta content=\"Hello, world!\" name=\"description\"/>\n",
      "<meta content=\"article\" property=\"og:type\"/>\n",
      "<meta content=\"https://ai-dev.tistory.com/1\" property=\"og:url\"/>\n",
      "<meta content=\"로스카츠\" property=\"og.article.author\"/>\n",
      "<meta content=\"인공지능 개발의 모든 것\" property=\"og:site_name\"/>\n",
      "<meta content=\"크롤링의 세계에 오신 것을 환영합니다.\" property=\"og:title\"/>\n",
      "<meta content=\"로스카츠\" name=\"by\"/>\n",
      "<meta content=\"Hello, world!\" property=\"og:description\"/>\n",
      "<meta content=\"https://img1.daumcdn.net/thumb/R800x0/?scode=mtistory2&amp;fname=https%3A%2F%2Ft1.daumcdn.net%2Ftistory_admin%2Fstatic%2Fimages%2FopenGraph%2Fopengraph.png\" property=\"og:image\"/>\n",
      "<meta content=\"summary_large_image\" name=\"twitter:card\"/>\n",
      "<meta content=\"@TISTORY\" name=\"twitter:site\"/>\n",
      "<meta content=\"크롤링의 세계에 오신 것을 환영합니다.\" name=\"twitter:title\"/>\n",
      "<meta content=\"Hello, world!\" name=\"twitter:description\"/>\n",
      "<meta content=\"https://img1.daumcdn.net/thumb/R800x0/?scode=mtistory2&amp;fname=https%3A%2F%2Ft1.daumcdn.net%2Ftistory_admin%2Fstatic%2Fimages%2FopenGraph%2Fopengraph.png\" property=\"twitter:image\"/>\n",
      "<meta content=\"https://ai-dev.tistory.com/1\" property=\"dg:plink\"/>\n",
      "<meta name=\"plink\"/>\n",
      "<meta content=\"크롤링의 세계에 오신 것을 환영합니다.\" name=\"title\"/>\n",
      "<meta content=\"인공지능 개발의 모든 것\" name=\"article:media_name\"/>\n",
      "<meta content=\"https://ai-dev.tistory.com/m/1\" property=\"article:mobile_url\"/>\n",
      "<meta content=\"https://ai-dev.tistory.com/1\" property=\"article:pc_url\"/>\n",
      "<meta content=\"https://ai-dev.tistory.com/m/1\" property=\"article:mobile_view_url\"/>\n",
      "<meta content=\"https://ai-dev.tistory.com/1\" property=\"article:pc_view_url\"/>\n",
      "<meta content=\"https://ai-dev.tistory.com/m/1\" property=\"article:talk_channel_view_url\"/>\n",
      "<meta content=\"https://www.tistory.com\" property=\"article:pc_service_home\"/>\n",
      "<meta content=\"https://www.tistory.com/m\" property=\"article:mobile_service_home\"/>\n",
      "<meta content=\"4442027_1\" property=\"article:txid\"/>\n",
      "<meta content=\"2021-01-21T14:06:56+09:00\" property=\"article:published_time\"/>\n",
      "<meta content=\"20210121020656\" property=\"og:regDate\"/>\n",
      "<meta content=\"2021-01-21T14:06:56+09:00\" property=\"article:modified_time\"/>\n",
      "<link href=\"https://t1.daumcdn.net/tistory_admin/favicon/tistory_favicon_32x32.ico\" rel=\"icon\" sizes=\"any\"/>\n",
      "<link href=\"https://t1.daumcdn.net/tistory_admin/top_v2/bi-tistory-favicon.svg\" rel=\"icon\" type=\"image/svg+xml\"/>\n",
      "<link href=\"https://t1.daumcdn.net/tistory_admin/top_v2/tistory-apple-touch-favicon.png\" rel=\"apple-touch-icon\"/>\n",
      "<link href=\"https://t1.daumcdn.net/tistory_admin/lib/lightbox/css/lightbox.min.css\" rel=\"stylesheet\" type=\"text/css\"/>\n",
      "<link href=\"https://tistory1.daumcdn.net/tistory_admin/userblog/tistory-20727ff99067657a6f16db1ece6ce2f18c274e00/static/style/font.css\" rel=\"stylesheet\" type=\"text/css\"/>\n",
      "<link href=\"https://tistory1.daumcdn.net/tistory_admin/userblog/tistory-20727ff99067657a6f16db1ece6ce2f18c274e00/static/style/content.css\" rel=\"stylesheet\" type=\"text/css\"/>\n",
      "<link href=\"https://tistory1.daumcdn.net/tistory_admin/userblog/tistory-20727ff99067657a6f16db1ece6ce2f18c274e00/static/style/uselessPMargin.css\" rel=\"stylesheet\" type=\"text/css\"/>\n",
      "<script type=\"text/javascript\">(function() {\n",
      "    var tjQuery = jQuery.noConflict(true);\n",
      "    window.tjQuery = tjQuery;\n",
      "    window.orgjQuery = window.jQuery; window.jQuery = tjQuery;\n",
      "    window.jQuery = window.orgjQuery; delete window.orgjQuery;\n",
      "})()</script>\n",
      "<script src=\"https://tistory1.daumcdn.net/tistory_admin/userblog/tistory-20727ff99067657a6f16db1ece6ce2f18c274e00/static/script/base.js\" type=\"text/javascript\"></script>\n",
      "<script src=\"//developers.kakao.com/sdk/js/kakao.min.js\" type=\"text/javascript\"></script>\n",
      "<meta charset=\"utf-8\"/>\n",
      "<meta content=\"user-scalable=no, initial-scale=1.0, maximum-scale=1.0, minimum-scale=1.0, width=device-width\" name=\"viewport\"/>\n",
      "<title>크롤링의 세계에 오신 것을 환영합니다.</title>\n",
      "<link href=\"https://tistory1.daumcdn.net/tistory/0/pg_Poster/style.css\" rel=\"stylesheet\"/>\n",
      "<script src=\"//t1.daumcdn.net/tistory_admin/lib/jquery/jquery-1.12.4.min.js\"></script>\n",
      "<style type=\"text/css\">.another_category {\n",
      "    border: 1px solid #E5E5E5;\n",
      "    padding: 10px 10px 5px;\n",
      "    margin: 10px 0;\n",
      "    clear: both;\n",
      "}\n",
      "\n",
      ".another_category h4 {\n",
      "    font-size: 12px !important;\n",
      "    margin: 0 !important;\n",
      "    border-bottom: 1px solid #E5E5E5 !important;\n",
      "    padding: 2px 0 6px !important;\n",
      "}\n",
      "\n",
      ".another_category h4 a {\n",
      "    font-weight: bold !important;\n",
      "}\n",
      "\n",
      ".another_category table {\n",
      "    table-layout: fixed;\n",
      "    border-collapse: collapse;\n",
      "    width: 100% !important;\n",
      "    margin-top: 10px !important;\n",
      "}\n",
      "\n",
      "* html .another_category table {\n",
      "    width: auto !important;\n",
      "}\n",
      "\n",
      "*:first-child + html .another_category table {\n",
      "    width: auto !important;\n",
      "}\n",
      "\n",
      ".another_category th, .another_category td {\n",
      "    padding: 0 0 4px !important;\n",
      "}\n",
      "\n",
      ".another_category th {\n",
      "    text-align: left;\n",
      "    font-size: 12px !important;\n",
      "    font-weight: normal;\n",
      "    word-break: break-all;\n",
      "    overflow: hidden;\n",
      "    line-height: 1.5;\n",
      "}\n",
      "\n",
      ".another_category td {\n",
      "    text-align: right;\n",
      "    width: 80px;\n",
      "    font-size: 11px;\n",
      "}\n",
      "\n",
      ".another_category th a {\n",
      "    font-weight: normal;\n",
      "    text-decoration: none;\n",
      "    border: none !important;\n",
      "}\n",
      "\n",
      ".another_category th a.current {\n",
      "    font-weight: bold;\n",
      "    text-decoration: none !important;\n",
      "    border-bottom: 1px solid !important;\n",
      "}\n",
      "\n",
      ".another_category th span {\n",
      "    font-weight: normal;\n",
      "    text-decoration: none;\n",
      "    font: 10px Tahoma, Sans-serif;\n",
      "    border: none !important;\n",
      "}\n",
      "\n",
      ".another_category_color_gray, .another_category_color_gray h4 {\n",
      "    border-color: #E5E5E5 !important;\n",
      "}\n",
      "\n",
      ".another_category_color_gray * {\n",
      "    color: #909090 !important;\n",
      "}\n",
      "\n",
      ".another_category_color_gray th a.current {\n",
      "    border-color: #909090 !important;\n",
      "}\n",
      "\n",
      ".another_category_color_gray h4, .another_category_color_gray h4 a {\n",
      "    color: #737373 !important;\n",
      "}\n",
      "\n",
      ".another_category_color_red, .another_category_color_red h4 {\n",
      "    border-color: #F6D4D3 !important;\n",
      "}\n",
      "\n",
      ".another_category_color_red * {\n",
      "    color: #E86869 !important;\n",
      "}\n",
      "\n",
      ".another_category_color_red th a.current {\n",
      "    border-color: #E86869 !important;\n",
      "}\n",
      "\n",
      ".another_category_color_red h4, .another_category_color_red h4 a {\n",
      "    color: #ED0908 !important;\n",
      "}\n",
      "\n",
      ".another_category_color_green, .another_category_color_green h4 {\n",
      "    border-color: #CCE7C8 !important;\n",
      "}\n",
      "\n",
      ".another_category_color_green * {\n",
      "    color: #64C05B !important;\n",
      "}\n",
      "\n",
      ".another_category_color_green th a.current {\n",
      "    border-color: #64C05B !important;\n",
      "}\n",
      "\n",
      ".another_category_color_green h4, .another_category_color_green h4 a {\n",
      "    color: #3EA731 !important;\n",
      "}\n",
      "\n",
      ".another_category_color_blue, .another_category_color_blue h4 {\n",
      "    border-color: #C8DAF2 !important;\n",
      "}\n",
      "\n",
      ".another_category_color_blue * {\n",
      "    color: #477FD6 !important;\n",
      "}\n",
      "\n",
      ".another_category_color_blue th a.current {\n",
      "    border-color: #477FD6 !important;\n",
      "}\n",
      "\n",
      ".another_category_color_blue h4, .another_category_color_blue h4 a {\n",
      "    color: #1960CA !important;\n",
      "}\n",
      "\n",
      ".another_category_color_violet, .another_category_color_violet h4 {\n",
      "    border-color: #E1CEEC !important;\n",
      "}\n",
      "\n",
      ".another_category_color_violet * {\n",
      "    color: #9D64C5 !important;\n",
      "}\n",
      "\n",
      ".another_category_color_violet th a.current {\n",
      "    border-color: #9D64C5 !important;\n",
      "}\n",
      "\n",
      ".another_category_color_violet h4, .another_category_color_violet h4 a {\n",
      "    color: #7E2CB5 !important;\n",
      "}\n",
      "</style>\n",
      "<link href=\"https://tistory1.daumcdn.net/tistory_admin/userblog/tistory-20727ff99067657a6f16db1ece6ce2f18c274e00/static/style/revenue.css\" rel=\"stylesheet\" type=\"text/css\">\n",
      "<link href=\"https://ai-dev.tistory.com/1\" rel=\"canonical\"/>\n",
      "<!-- BEGIN STRUCTURED_DATA -->\n",
      "<script type=\"application/ld+json\">\n",
      "    {\"@context\":\"http://schema.org\",\"@type\":\"BlogPosting\",\"mainEntityOfPage\":{\"@id\":\"https://ai-dev.tistory.com/1\",\"name\":null},\"url\":\"https://ai-dev.tistory.com/1\",\"headline\":\"크롤링의 세계에 오신 것을 환영합니다.\",\"description\":\"Hello, world!\",\"author\":{\"@type\":\"Person\",\"name\":\"로스카츠\",\"logo\":null},\"image\":{\"@type\":\"ImageObject\",\"url\":\"https://img1.daumcdn.net/thumb/R800x0/?scode=mtistory2&fname=https%3A%2F%2Ft1.daumcdn.net%2Ftistory_admin%2Fstatic%2Fimages%2FopenGraph%2Fopengraph.png\",\"width\":\"800px\",\"height\":\"800px\"},\"datePublished\":\"20210121T14:06:56\",\"dateModified\":\"20210121T14:06:56\",\"publisher\":{\"@type\":\"Organization\",\"name\":\"TISTORY\",\"logo\":{\"@type\":\"ImageObject\",\"url\":\"https://t1.daumcdn.net/tistory_admin/static/images/openGraph/opengraph.png\",\"width\":\"800px\",\"height\":\"800px\"}}}\n",
      "</script>\n",
      "<!-- END STRUCTURED_DATA -->\n",
      "<link href=\"https://tistory1.daumcdn.net/tistory_admin/userblog/tistory-20727ff99067657a6f16db1ece6ce2f18c274e00/static/style/dialog.css\" rel=\"stylesheet\" type=\"text/css\"/>\n",
      "<link href=\"//t1.daumcdn.net/tistory_admin/www/style/top/font.css\" rel=\"stylesheet\" type=\"text/css\"/>\n",
      "<link href=\"https://tistory1.daumcdn.net/tistory_admin/userblog/tistory-20727ff99067657a6f16db1ece6ce2f18c274e00/static/style/postBtn.css\" rel=\"stylesheet\" type=\"text/css\"/>\n",
      "<link href=\"https://tistory1.daumcdn.net/tistory_admin/userblog/tistory-20727ff99067657a6f16db1ece6ce2f18c274e00/static/style/comment.css\" rel=\"stylesheet\" type=\"text/css\"/>\n",
      "<link href=\"https://tistory1.daumcdn.net/tistory_admin/userblog/tistory-20727ff99067657a6f16db1ece6ce2f18c274e00/static/style/tistory.css\" rel=\"stylesheet\" type=\"text/css\"/>\n",
      "<script src=\"https://tistory1.daumcdn.net/tistory_admin/userblog/tistory-20727ff99067657a6f16db1ece6ce2f18c274e00/static/script/common.js\" type=\"text/javascript\"></script>\n",
      "<script defer=\"\" src=\"https://tistory1.daumcdn.net/tistory_admin/userblog/tistory-20727ff99067657a6f16db1ece6ce2f18c274e00/static/script/comment.js\" type=\"text/javascript\"></script>\n",
      "</link></meta></meta></head>\n",
      "<body class=\"color-gray post-type-text paging-view-more\" id=\"tt-body-page\">\n",
      "<div id=\"acc-nav\">\n",
      "<a href=\"#content\">본문 바로가기</a>\n",
      "</div>\n",
      "<div id=\"wrap\">\n",
      "<header id=\"header\">\n",
      "<h1><a href=\"https://ai-dev.tistory.com/\">인공지능 개발의 모든 것</a></h1>\n",
      "<button class=\"mobile-menu\" type=\"button\"><span>메뉴</span></button>\n",
      "<div class=\"menu\">\n",
      "<nav id=\"gnb\">\n",
      "<ul class=\"tt_category\"><li class=\"\"><a class=\"link_tit\" href=\"/category\"> 분류 전체보기 <span class=\"c_cnt\">(2)</span> </a>\n",
      "<ul class=\"category_list\"><li class=\"\"><a class=\"link_item\" href=\"/category/%ED%81%AC%EB%A1%A4%EB%A7%81\"> 크롤링 <span class=\"c_cnt\">(2)</span> </a></li>\n",
      "</ul>\n",
      "</li>\n",
      "</ul>\n",
      "</nav>\n",
      "<div class=\"social-link\">\n",
      "</div>\n",
      "<p>POWERED BY TISTORY</p>\n",
      "</div>\n",
      "<div class=\"search\">\n",
      "<label class=\"screen_out\" for=\"search\">블로그 내 검색</label>\n",
      "<input id=\"search\" name=\"search\" onkeypress=\"if (event.keyCode == 13) { try {\n",
      "    window.location.href = '/search' + '/' + looseURIEncode(document.getElementsByName('search')[0].value);\n",
      "    document.getElementsByName('search')[0].value = '';\n",
      "    return false;\n",
      "} catch (e) {} }\" placeholder=\"검색내용을 입력하세요.\" type=\"text\" value=\"\"/>\n",
      "<button onclick=\"try {\n",
      "    window.location.href = '/search' + '/' + looseURIEncode(document.getElementsByName('search')[0].value);\n",
      "    document.getElementsByName('search')[0].value = '';\n",
      "    return false;\n",
      "} catch (e) {}\" type=\"submit\">검색</button>\n",
      "</div>\n",
      "</header>\n",
      "<hr/>\n",
      "<section class=\"container\">\n",
      "<article id=\"content\">\n",
      "<div class=\"inner\">\n",
      "<div class=\"hgroup\">\n",
      "<div class=\"category\">크롤링</div>\n",
      "<h1>크롤링의 세계에 오신 것을 환영합니다. </h1>\n",
      "<div class=\"post-meta\">\n",
      "<span class=\"author\">로스카츠</span>\n",
      "<span class=\"date\">2021. 1. 21. 14:06</span>\n",
      "</div>\n",
      "</div>\n",
      "<div class=\"entry-content\" id=\"article-view\">\n",
      "<!-- System - START -->\n",
      "<!-- System - END -->\n",
      "<div class=\"tt_article_useless_p_margin contents_style\"><p>Hello, world!</p></div>\n",
      "<!-- System - START -->\n",
      "<!-- System - END -->\n",
      "<div class=\"container_postbtn #post_button_group\">\n",
      "<div class=\"postbtn_like\"><script>window.ReactionButtonType = 'reaction';\n",
      "window.ReactionApiUrl = '//ai-dev.tistory.com/reaction';\n",
      "window.ReactionReqBody = {\n",
      "    entryId: 1\n",
      "}</script>\n",
      "<div class=\"wrap_btn\" id=\"reaction-1\"></div>\n",
      "<script src=\"https://tistory1.daumcdn.net/tistory_admin/userblog/tistory-20727ff99067657a6f16db1ece6ce2f18c274e00/static/script/reaction-button-container.min.js\"></script><div class=\"wrap_btn wrap_btn_share\"><button aria-expanded=\"false\" class=\"btn_post sns_btn btn_share\" data-blog-title=\"인공지능 개발의 모든 것\" data-description=\"Hello, world!\" data-pc-url=\"https://ai-dev.tistory.com/1\" data-profile-image=\"https://t1.daumcdn.net/tistory_admin/static/manage/images/r3/default_L.png\" data-profile-name=\"로스카츠\" data-relative-pc-url=\"/1\" data-thumbnail-url=\"https://t1.daumcdn.net/tistory_admin/static/images/openGraph/opengraph.png\" data-title=\"크롤링의 세계에 오신 것을 환영합니다.\" type=\"button\"><span class=\"ico_postbtn ico_share\">공유하기</span></button>\n",
      "<div class=\"layer_post\" id=\"tistorySnsLayer\"></div>\n",
      "</div><div class=\"wrap_btn wrap_btn_etc\" data-category-visibility=\"public\" data-entry-id=\"1\" data-entry-visibility=\"public\"><button aria-expanded=\"false\" class=\"btn_post btn_etc2\" type=\"button\"><span class=\"ico_postbtn ico_etc\">게시글 관리</span></button>\n",
      "<div class=\"layer_post\" id=\"tistoryEtcLayer\"></div>\n",
      "</div></div>\n",
      "<button class=\"btn_menu_toolbar btn_subscription #subscribe\" data-blog-id=\"4442027\" data-device=\"web_pc\" data-url=\"https://ai-dev.tistory.com/1\" type=\"button\"><em class=\"txt_state\">구독하기</em><strong class=\"txt_tool_id\">인공지능 개발의 모든 것</strong><span class=\"img_common_tistory ico_check_type1\"></span></button> <div data-tistory-react-app=\"SupportButton\"></div>\n",
      "</div>\n",
      "<!-- PostListinCategory - START -->\n",
      "<div class=\"another_category another_category_color_gray\">\n",
      "<h4>'<a href=\"/category/%ED%81%AC%EB%A1%A4%EB%A7%81\">크롤링</a>' 카테고리의 다른 글</h4>\n",
      "<table>\n",
      "<tr>\n",
      "<th><a href=\"/2\">크롤링 예제 페이지 - 02</a>  <span>(6)</span></th>\n",
      "<td>2021.08.08</td>\n",
      "</tr>\n",
      "</table>\n",
      "</div>\n",
      "<!-- PostListinCategory - END -->\n",
      "</div>\n",
      "<div class=\"related-articles\">\n",
      "<h2><strong>'크롤링'</strong> Related Articles</h2>\n",
      "<ul>\n",
      "<li>\n",
      "<a href=\"/2?category=836119\">\n",
      "<span class=\"thum\">\n",
      "</span>\n",
      "<span class=\"title\">크롤링 예제 페이지 - 02</span>\n",
      "</a>\n",
      "</li>\n",
      "</ul>\n",
      "</div>\n",
      "<div data-tistory-react-app=\"Namecard\"></div><div id=\"entry1Comment\">\n",
      "<div class=\"comments\">\n",
      "<div data-tistory-react-app=\"Comment\"></div>\n",
      "</div>\n",
      "</div>\n",
      "<script type=\"text/javascript\">loadedComments[1]=true;\n",
      "findFragmentAndHighlight(1);</script>\n",
      "</div>\n",
      "</article>\n",
      "</section>\n",
      "<hr/>\n",
      "<footer id=\"footer\">\n",
      "<p class=\"copyright\">DESIGN BY <a href=\"#\">TISTORY</a> <a class=\"admin\" href=\"https://ai-dev.tistory.com/manage\">관리자</a></p>\n",
      "</footer>\n",
      "</div>\n",
      "<script src=\"https://tistory1.daumcdn.net/tistory/0/pg_Poster/images/script.js\"></script>\n",
      "<div class=\"#menubar menu_toolbar\">\n",
      "<h2 class=\"screen_out\">티스토리툴바</h2>\n",
      "</div>\n",
      "<div class=\"#menubar menu_toolbar\"></div>\n",
      "<div class=\"layer_tooltip\">\n",
      "<div class=\"inner_layer_tooltip\">\n",
      "<p class=\"desc_g\"></p>\n",
      "</div>\n",
      "</div>\n",
      "<iframe id=\"editEntry\" src=\"//ai-dev.tistory.com/api\" style=\"position:absolute;width:1px;height:1px;left:-100px;top:-100px\"></iframe>\n",
      "<!-- DragSearchHandler - START -->\n",
      "<script src=\"//search1.daumcdn.net/search/statics/common/js/g/search_dragselection.min.js\"></script>\n",
      "<!-- DragSearchHandler - END -->\n",
      "<script>            (function (win, doc, src) {\n",
      "    win.Wpm = win.Wpm || function (name, param) {\n",
      "        win.Wpm.queue = win.Wpm.queue || [];\n",
      "        const { queue } = win.Wpm;\n",
      "        queue.push([name, param]);\n",
      "    };\n",
      "    const script = doc.createElement('script');\n",
      "    script.src = src;\n",
      "    script.async = 1;\n",
      "    const [elem] = doc.getElementsByTagName('script');\n",
      "    elem.parentNode.insertBefore(script, elem);\n",
      "})(window, document, 'https://t1.kakaocdn.net/malibu_prod/normal_wpm.js');\n",
      "            const APP_KEY = 'fd21bd1c091849f9a2555e49c43a73dd';\n",
      "            Wpm('appKey', APP_KEY);</script>\n",
      "<script type=\"text/javascript\">(function($) {\n",
      "    $(document).ready(function() {\n",
      "        lightbox.options.fadeDuration = 200;\n",
      "        lightbox.options.resizeDuration = 200;\n",
      "        lightbox.options.wrapAround = false;\n",
      "        lightbox.options.albumLabel = \"%1 / %2\";\n",
      "    })\n",
      "})(tjQuery);</script>\n",
      "<div style=\"margin:0; padding:0; border:none; background:none; float:none; clear:none; z-index:0\"></div>\n",
      "<script src=\"https://tistory1.daumcdn.net/tistory_admin/userblog/tistory-20727ff99067657a6f16db1ece6ce2f18c274e00/static/script/common.js\" type=\"text/javascript\"></script>\n",
      "<script type=\"text/javascript\">window.roosevelt_params_queue = window.roosevelt_params_queue || [{channel_id: 'dk', channel_label: '{tistory}'}]</script>\n",
      "<script async=\"async\" src=\"//t1.daumcdn.net/midas/rt/dk_bt/roosevelt_dk_bt.js\" type=\"text/javascript\"></script>\n",
      "<script src=\"https://tistory1.daumcdn.net/tistory_admin/userblog/tistory-20727ff99067657a6f16db1ece6ce2f18c274e00/static/script/menubar.min.js\" type=\"text/javascript\"></script>\n",
      "<script>window.tiara = {\"svcDomain\":\"user.tistory.com\",\"section\":\"글뷰\",\"trackPage\":\"글뷰_보기\",\"page\":\"글뷰\",\"key\":\"4442027-1\",\"customProps\":{\"userId\":\"0\",\"blogId\":\"4442027\",\"entryId\":\"1\",\"role\":\"guest\",\"trackPage\":\"글뷰_보기\",\"filterTarget\":false},\"entry\":{\"entryId\":\"1\",\"categoryName\":\"크롤링\",\"categoryId\":\"836119\",\"author\":\"4727327\",\"image\":\"\",\"plink\":\"/1\",\"tags\":[]},\"kakaoAppKey\":\"3e6ddd834b023f24221217e370daed18\",\"appUserId\":\"null\"}</script>\n",
      "<script src=\"https://t1.daumcdn.net/tistory_admin/frontend/tiara/v1.0.0/index.js\" type=\"module\"></script>\n",
      "<script defer=\"true\" nomodule=\"true\" src=\"https://t1.daumcdn.net/tistory_admin/frontend/tiara/v1.0.0/polyfills-legacy.min.js\"></script>\n",
      "<script defer=\"true\" nomodule=\"true\" src=\"https://t1.daumcdn.net/tistory_admin/frontend/tiara/v1.0.0/index-legacy.js\"></script>\n",
      "</body>\n",
      "</html>\n"
     ]
    }
   ],
   "source": [
    "print(bs_obj)"
   ]
  },
  {
   "cell_type": "code",
   "execution_count": 9,
   "id": "fb361465",
   "metadata": {},
   "outputs": [
    {
     "name": "stdout",
     "output_type": "stream",
     "text": [
      "[<h1><a href=\"https://ai-dev.tistory.com/\">인공지능 개발의 모든 것</a></h1>, <h1>크롤링의 세계에 오신 것을 환영합니다. </h1>]\n"
     ]
    }
   ],
   "source": [
    "title = bs_obj.find_all('h1')\n",
    "print(title)"
   ]
  },
  {
   "cell_type": "markdown",
   "id": "31189fe9",
   "metadata": {},
   "source": [
    "- <span style = 'font-size:1.2em;line-height:1.5em'>우리가 원하는건 홈페이지의 제목이 아닌 글의 제목</span>"
   ]
  },
  {
   "cell_type": "code",
   "execution_count": 10,
   "id": "957f7aa7",
   "metadata": {},
   "outputs": [
    {
     "name": "stdout",
     "output_type": "stream",
     "text": [
      "크롤링의 세계에 오신 것을 환영합니다. \n"
     ]
    }
   ],
   "source": [
    "print(title[1].text)"
   ]
  },
  {
   "cell_type": "markdown",
   "id": "3ac1581e",
   "metadata": {},
   "source": [
    "## 예제 (2): 본문 정보 scraping하기"
   ]
  },
  {
   "cell_type": "code",
   "execution_count": 11,
   "id": "ece9f950",
   "metadata": {},
   "outputs": [
    {
     "name": "stdout",
     "output_type": "stream",
     "text": [
      "[<p>POWERED BY TISTORY</p>, <p>Hello, world!</p>, <p class=\"copyright\">DESIGN BY <a href=\"#\">TISTORY</a> <a class=\"admin\" href=\"https://ai-dev.tistory.com/manage\">관리자</a></p>, <p class=\"desc_g\"></p>]\n"
     ]
    }
   ],
   "source": [
    "contents = bs_obj.find_all('p')\n",
    "print(contents)"
   ]
  },
  {
   "cell_type": "markdown",
   "id": "66fa4847",
   "metadata": {},
   "source": [
    "- <span style = 'font-size:1.2em;line-height:1.5em'><b>[KOR]</b> 우리가 원하는건 글의 본문</span>"
   ]
  },
  {
   "cell_type": "code",
   "execution_count": 12,
   "id": "5fe7fa49",
   "metadata": {},
   "outputs": [
    {
     "name": "stdout",
     "output_type": "stream",
     "text": [
      "Hello, world!\n"
     ]
    }
   ],
   "source": [
    "print(contents[1].text)"
   ]
  },
  {
   "cell_type": "markdown",
   "id": "e9390fa5",
   "metadata": {},
   "source": [
    "# Web Scraping Practice (2)"
   ]
  },
  {
   "cell_type": "code",
   "execution_count": 13,
   "id": "5a0e93fe",
   "metadata": {},
   "outputs": [],
   "source": [
    "from urllib.request import urlopen\n",
    "from bs4 import BeautifulSoup"
   ]
  },
  {
   "cell_type": "code",
   "execution_count": 14,
   "id": "02c1d4f4",
   "metadata": {},
   "outputs": [],
   "source": [
    "url = 'https://ai-dev.tistory.com/2'\n",
    "html = urlopen(url)\n",
    "bs_obj = BeautifulSoup(html, 'html.parser')"
   ]
  },
  {
   "cell_type": "markdown",
   "id": "87bc4779",
   "metadata": {},
   "source": [
    "## 예제 (1) table정보 scraping하기"
   ]
  },
  {
   "cell_type": "markdown",
   "id": "be97c283",
   "metadata": {},
   "source": [
    "### 방법1: table태그를 이용한 방법"
   ]
  },
  {
   "cell_type": "code",
   "execution_count": 15,
   "id": "8cc86bd6",
   "metadata": {},
   "outputs": [],
   "source": [
    "table = bs_obj.find_all('table')"
   ]
  },
  {
   "cell_type": "code",
   "execution_count": 16,
   "id": "568b9044",
   "metadata": {
    "scrolled": true
   },
   "outputs": [
    {
     "data": {
      "text/plain": [
       "[<table border=\"1\" data-ke-align=\"alignLeft\" data-ke-style=\"style1\" style=\"border-collapse: collapse; width: 100%;\">\n",
       " <tbody>\n",
       " <tr>\n",
       " <td style=\"width: 33.3333%; text-align: center;\">상품</td>\n",
       " <td style=\"width: 33.3333%; text-align: center;\">색상</td>\n",
       " <td style=\"width: 33.3333%; text-align: center;\">가격</td>\n",
       " </tr>\n",
       " <tr>\n",
       " <td style=\"width: 33.3333%; text-align: center;\">셔츠1</td>\n",
       " <td style=\"width: 33.3333%; text-align: center;\">빨강</td>\n",
       " <td style=\"width: 33.3333%; text-align: center;\">20000</td>\n",
       " </tr>\n",
       " <tr>\n",
       " <td style=\"width: 33.3333%; text-align: center;\">셔츠2</td>\n",
       " <td style=\"width: 33.3333%; text-align: center;\">파랑</td>\n",
       " <td style=\"width: 33.3333%; text-align: center;\">19000</td>\n",
       " </tr>\n",
       " <tr>\n",
       " <td style=\"width: 33.3333%; text-align: center;\">셔츠3</td>\n",
       " <td style=\"width: 33.3333%; text-align: center;\">초록</td>\n",
       " <td style=\"width: 33.3333%; text-align: center;\">18000</td>\n",
       " </tr>\n",
       " <tr>\n",
       " <td style=\"width: 33.3333%; text-align: center;\">바지1</td>\n",
       " <td style=\"width: 33.3333%; text-align: center;\">검정</td>\n",
       " <td style=\"width: 33.3333%; text-align: center;\">50000</td>\n",
       " </tr>\n",
       " <tr>\n",
       " <td style=\"width: 33.3333%; text-align: center;\">바지2</td>\n",
       " <td style=\"width: 33.3333%; text-align: center;\">파랑</td>\n",
       " <td style=\"width: 33.3333%; text-align: center;\">51000</td>\n",
       " </tr>\n",
       " </tbody>\n",
       " </table>,\n",
       " <table>\n",
       " <tr>\n",
       " <th><a href=\"/1\">크롤링의 세계에 오신 것을 환영합니다.</a>  <span>(6)</span></th>\n",
       " <td>2021.01.21</td>\n",
       " </tr>\n",
       " </table>]"
      ]
     },
     "execution_count": 16,
     "metadata": {},
     "output_type": "execute_result"
    }
   ],
   "source": [
    "table"
   ]
  },
  {
   "cell_type": "code",
   "execution_count": 17,
   "id": "24c06ddd",
   "metadata": {
    "scrolled": true
   },
   "outputs": [
    {
     "data": {
      "text/plain": [
       "<table border=\"1\" data-ke-align=\"alignLeft\" data-ke-style=\"style1\" style=\"border-collapse: collapse; width: 100%;\">\n",
       "<tbody>\n",
       "<tr>\n",
       "<td style=\"width: 33.3333%; text-align: center;\">상품</td>\n",
       "<td style=\"width: 33.3333%; text-align: center;\">색상</td>\n",
       "<td style=\"width: 33.3333%; text-align: center;\">가격</td>\n",
       "</tr>\n",
       "<tr>\n",
       "<td style=\"width: 33.3333%; text-align: center;\">셔츠1</td>\n",
       "<td style=\"width: 33.3333%; text-align: center;\">빨강</td>\n",
       "<td style=\"width: 33.3333%; text-align: center;\">20000</td>\n",
       "</tr>\n",
       "<tr>\n",
       "<td style=\"width: 33.3333%; text-align: center;\">셔츠2</td>\n",
       "<td style=\"width: 33.3333%; text-align: center;\">파랑</td>\n",
       "<td style=\"width: 33.3333%; text-align: center;\">19000</td>\n",
       "</tr>\n",
       "<tr>\n",
       "<td style=\"width: 33.3333%; text-align: center;\">셔츠3</td>\n",
       "<td style=\"width: 33.3333%; text-align: center;\">초록</td>\n",
       "<td style=\"width: 33.3333%; text-align: center;\">18000</td>\n",
       "</tr>\n",
       "<tr>\n",
       "<td style=\"width: 33.3333%; text-align: center;\">바지1</td>\n",
       "<td style=\"width: 33.3333%; text-align: center;\">검정</td>\n",
       "<td style=\"width: 33.3333%; text-align: center;\">50000</td>\n",
       "</tr>\n",
       "<tr>\n",
       "<td style=\"width: 33.3333%; text-align: center;\">바지2</td>\n",
       "<td style=\"width: 33.3333%; text-align: center;\">파랑</td>\n",
       "<td style=\"width: 33.3333%; text-align: center;\">51000</td>\n",
       "</tr>\n",
       "</tbody>\n",
       "</table>"
      ]
     },
     "execution_count": 17,
     "metadata": {},
     "output_type": "execute_result"
    }
   ],
   "source": [
    "table[0]"
   ]
  },
  {
   "cell_type": "markdown",
   "id": "3e14542c",
   "metadata": {},
   "source": [
    "- <span style = 'font-size:1.2em;line-height:1.5em'>우리가 원하는건 table내의 텍스트들</span>\n",
    "    - <span style = 'font-size:1.0em;line-height:1.5em'>더 정확하게는 <b>\\<td></b>태그 내의 텍스트들</span>"
   ]
  },
  {
   "cell_type": "code",
   "execution_count": 18,
   "id": "6c1a8128",
   "metadata": {},
   "outputs": [
    {
     "data": {
      "text/plain": [
       "bs4.element.Tag"
      ]
     },
     "execution_count": 18,
     "metadata": {},
     "output_type": "execute_result"
    }
   ],
   "source": [
    "type(table[0])"
   ]
  },
  {
   "cell_type": "code",
   "execution_count": 19,
   "id": "b5a0628f",
   "metadata": {},
   "outputs": [],
   "source": [
    "td = table[0].find_all('td')"
   ]
  },
  {
   "cell_type": "code",
   "execution_count": 20,
   "id": "323f76cb",
   "metadata": {
    "scrolled": true
   },
   "outputs": [
    {
     "data": {
      "text/plain": [
       "[<td style=\"width: 33.3333%; text-align: center;\">상품</td>,\n",
       " <td style=\"width: 33.3333%; text-align: center;\">색상</td>,\n",
       " <td style=\"width: 33.3333%; text-align: center;\">가격</td>,\n",
       " <td style=\"width: 33.3333%; text-align: center;\">셔츠1</td>,\n",
       " <td style=\"width: 33.3333%; text-align: center;\">빨강</td>,\n",
       " <td style=\"width: 33.3333%; text-align: center;\">20000</td>,\n",
       " <td style=\"width: 33.3333%; text-align: center;\">셔츠2</td>,\n",
       " <td style=\"width: 33.3333%; text-align: center;\">파랑</td>,\n",
       " <td style=\"width: 33.3333%; text-align: center;\">19000</td>,\n",
       " <td style=\"width: 33.3333%; text-align: center;\">셔츠3</td>,\n",
       " <td style=\"width: 33.3333%; text-align: center;\">초록</td>,\n",
       " <td style=\"width: 33.3333%; text-align: center;\">18000</td>,\n",
       " <td style=\"width: 33.3333%; text-align: center;\">바지1</td>,\n",
       " <td style=\"width: 33.3333%; text-align: center;\">검정</td>,\n",
       " <td style=\"width: 33.3333%; text-align: center;\">50000</td>,\n",
       " <td style=\"width: 33.3333%; text-align: center;\">바지2</td>,\n",
       " <td style=\"width: 33.3333%; text-align: center;\">파랑</td>,\n",
       " <td style=\"width: 33.3333%; text-align: center;\">51000</td>]"
      ]
     },
     "execution_count": 20,
     "metadata": {},
     "output_type": "execute_result"
    }
   ],
   "source": [
    "td"
   ]
  },
  {
   "cell_type": "code",
   "execution_count": 21,
   "id": "e060d405",
   "metadata": {},
   "outputs": [
    {
     "name": "stdout",
     "output_type": "stream",
     "text": [
      "상품\n",
      "색상\n",
      "가격\n",
      "셔츠1\n",
      "빨강\n",
      "20000\n",
      "셔츠2\n",
      "파랑\n",
      "19000\n",
      "셔츠3\n",
      "초록\n",
      "18000\n",
      "바지1\n",
      "검정\n",
      "50000\n",
      "바지2\n",
      "파랑\n",
      "51000\n"
     ]
    }
   ],
   "source": [
    "for x in td:\n",
    "    print(x.text)"
   ]
  },
  {
   "cell_type": "markdown",
   "id": "d94cc28f",
   "metadata": {},
   "source": [
    "### 방법2: 바로 \\<td>태그를 이용\n",
    "### Method 2: Use <\\td> tag"
   ]
  },
  {
   "cell_type": "code",
   "execution_count": 22,
   "id": "0c5582bc",
   "metadata": {},
   "outputs": [],
   "source": [
    "td = bs_obj.find_all('td')"
   ]
  },
  {
   "cell_type": "code",
   "execution_count": 23,
   "id": "7f5e0a0c",
   "metadata": {},
   "outputs": [
    {
     "data": {
      "text/plain": [
       "[<td style=\"width: 33.3333%; text-align: center;\">상품</td>,\n",
       " <td style=\"width: 33.3333%; text-align: center;\">색상</td>,\n",
       " <td style=\"width: 33.3333%; text-align: center;\">가격</td>,\n",
       " <td style=\"width: 33.3333%; text-align: center;\">셔츠1</td>,\n",
       " <td style=\"width: 33.3333%; text-align: center;\">빨강</td>,\n",
       " <td style=\"width: 33.3333%; text-align: center;\">20000</td>,\n",
       " <td style=\"width: 33.3333%; text-align: center;\">셔츠2</td>,\n",
       " <td style=\"width: 33.3333%; text-align: center;\">파랑</td>,\n",
       " <td style=\"width: 33.3333%; text-align: center;\">19000</td>,\n",
       " <td style=\"width: 33.3333%; text-align: center;\">셔츠3</td>,\n",
       " <td style=\"width: 33.3333%; text-align: center;\">초록</td>,\n",
       " <td style=\"width: 33.3333%; text-align: center;\">18000</td>,\n",
       " <td style=\"width: 33.3333%; text-align: center;\">바지1</td>,\n",
       " <td style=\"width: 33.3333%; text-align: center;\">검정</td>,\n",
       " <td style=\"width: 33.3333%; text-align: center;\">50000</td>,\n",
       " <td style=\"width: 33.3333%; text-align: center;\">바지2</td>,\n",
       " <td style=\"width: 33.3333%; text-align: center;\">파랑</td>,\n",
       " <td style=\"width: 33.3333%; text-align: center;\">51000</td>,\n",
       " <td>2021.01.21</td>]"
      ]
     },
     "execution_count": 23,
     "metadata": {},
     "output_type": "execute_result"
    }
   ],
   "source": [
    "td"
   ]
  },
  {
   "cell_type": "markdown",
   "id": "98083912",
   "metadata": {},
   "source": [
    "- <span style = 'font-size:1.2em;line-height:1.5em'>태그의 속성 정보를 이용해서 더 specific하게 뽑아냅시다</span>"
   ]
  },
  {
   "cell_type": "code",
   "execution_count": 24,
   "id": "9e6ec550",
   "metadata": {},
   "outputs": [],
   "source": [
    "td = bs_obj.find_all('td', {\"style\" : \"width: 33.3333%; text-align: center;\"})"
   ]
  },
  {
   "cell_type": "code",
   "execution_count": 25,
   "id": "45376ffe",
   "metadata": {},
   "outputs": [
    {
     "data": {
      "text/plain": [
       "[<td style=\"width: 33.3333%; text-align: center;\">상품</td>,\n",
       " <td style=\"width: 33.3333%; text-align: center;\">색상</td>,\n",
       " <td style=\"width: 33.3333%; text-align: center;\">가격</td>,\n",
       " <td style=\"width: 33.3333%; text-align: center;\">셔츠1</td>,\n",
       " <td style=\"width: 33.3333%; text-align: center;\">빨강</td>,\n",
       " <td style=\"width: 33.3333%; text-align: center;\">20000</td>,\n",
       " <td style=\"width: 33.3333%; text-align: center;\">셔츠2</td>,\n",
       " <td style=\"width: 33.3333%; text-align: center;\">파랑</td>,\n",
       " <td style=\"width: 33.3333%; text-align: center;\">19000</td>,\n",
       " <td style=\"width: 33.3333%; text-align: center;\">셔츠3</td>,\n",
       " <td style=\"width: 33.3333%; text-align: center;\">초록</td>,\n",
       " <td style=\"width: 33.3333%; text-align: center;\">18000</td>,\n",
       " <td style=\"width: 33.3333%; text-align: center;\">바지1</td>,\n",
       " <td style=\"width: 33.3333%; text-align: center;\">검정</td>,\n",
       " <td style=\"width: 33.3333%; text-align: center;\">50000</td>,\n",
       " <td style=\"width: 33.3333%; text-align: center;\">바지2</td>,\n",
       " <td style=\"width: 33.3333%; text-align: center;\">파랑</td>,\n",
       " <td style=\"width: 33.3333%; text-align: center;\">51000</td>]"
      ]
     },
     "execution_count": 25,
     "metadata": {},
     "output_type": "execute_result"
    }
   ],
   "source": [
    "td"
   ]
  },
  {
   "cell_type": "code",
   "execution_count": 26,
   "id": "86e8c40c",
   "metadata": {},
   "outputs": [
    {
     "name": "stdout",
     "output_type": "stream",
     "text": [
      "상품\n",
      "색상\n",
      "가격\n",
      "셔츠1\n",
      "빨강\n",
      "20000\n",
      "셔츠2\n",
      "파랑\n",
      "19000\n",
      "셔츠3\n",
      "초록\n",
      "18000\n",
      "바지1\n",
      "검정\n",
      "50000\n",
      "바지2\n",
      "파랑\n",
      "51000\n"
     ]
    }
   ],
   "source": [
    "for x in td:\n",
    "    print(x.text)"
   ]
  },
  {
   "cell_type": "markdown",
   "id": "cc3f4af8",
   "metadata": {},
   "source": [
    "## 예제 (2): 목록 정보 scraping 하기"
   ]
  },
  {
   "cell_type": "code",
   "execution_count": 27,
   "id": "04b2ba08",
   "metadata": {},
   "outputs": [],
   "source": [
    "url = 'https://ai-dev.tistory.com/2'\n",
    "html = urlopen(url)\n",
    "bs_obj = BeautifulSoup(html, 'html.parser')"
   ]
  },
  {
   "cell_type": "markdown",
   "id": "bd02c63d",
   "metadata": {},
   "source": [
    "### \\<ul>태그를 활용한 접근"
   ]
  },
  {
   "cell_type": "code",
   "execution_count": 28,
   "id": "f64a5b7e",
   "metadata": {},
   "outputs": [],
   "source": [
    "ul = bs_obj.find_all('ul')"
   ]
  },
  {
   "cell_type": "code",
   "execution_count": 29,
   "id": "4c4fe919",
   "metadata": {},
   "outputs": [
    {
     "name": "stdout",
     "output_type": "stream",
     "text": [
      "[<ul class=\"tt_category\"><li class=\"\"><a class=\"link_tit\" href=\"/category\"> 분류 전체보기 <span class=\"c_cnt\">(2)</span> </a>\n",
      "<ul class=\"category_list\"><li class=\"\"><a class=\"link_item\" href=\"/category/%ED%81%AC%EB%A1%A4%EB%A7%81\"> 크롤링 <span class=\"c_cnt\">(2)</span> </a></li>\n",
      "</ul>\n",
      "</li>\n",
      "</ul>, <ul class=\"category_list\"><li class=\"\"><a class=\"link_item\" href=\"/category/%ED%81%AC%EB%A1%A4%EB%A7%81\"> 크롤링 <span class=\"c_cnt\">(2)</span> </a></li>\n",
      "</ul>, <ul data-ke-list-type=\"disc\" style=\"list-style-type: disc;\">\n",
      "<li>모니터</li>\n",
      "<li>CPU</li>\n",
      "<li>메모리</li>\n",
      "<li>그래픽카드</li>\n",
      "<li>하드디스크</li>\n",
      "<li>키보드</li>\n",
      "<li>마우스</li>\n",
      "</ul>, <ul>\n",
      "<li>\n",
      "<a href=\"/1?category=836119\">\n",
      "<span class=\"thum\">\n",
      "</span>\n",
      "<span class=\"title\">크롤링의 세계에 오신 것을 환영합니다.</span>\n",
      "</a>\n",
      "</li>\n",
      "</ul>]\n"
     ]
    }
   ],
   "source": [
    "print(ul)"
   ]
  },
  {
   "cell_type": "markdown",
   "id": "aab93318",
   "metadata": {},
   "source": [
    "- <span style = 'font-size:1.2em;line-height:1.5em'>태그의 속성 정보를 이용해서 더 specific하게 뽑아냅시다</span>"
   ]
  },
  {
   "cell_type": "code",
   "execution_count": 30,
   "id": "35ef2946",
   "metadata": {},
   "outputs": [],
   "source": [
    "ul = bs_obj.find_all('ul', {'data-ke-list-type': 'disc', \n",
    "                            'style': 'list-style-type: disc;'})"
   ]
  },
  {
   "cell_type": "code",
   "execution_count": 31,
   "id": "c62ecd75",
   "metadata": {},
   "outputs": [
    {
     "data": {
      "text/plain": [
       "[<ul data-ke-list-type=\"disc\" style=\"list-style-type: disc;\">\n",
       " <li>모니터</li>\n",
       " <li>CPU</li>\n",
       " <li>메모리</li>\n",
       " <li>그래픽카드</li>\n",
       " <li>하드디스크</li>\n",
       " <li>키보드</li>\n",
       " <li>마우스</li>\n",
       " </ul>]"
      ]
     },
     "execution_count": 31,
     "metadata": {},
     "output_type": "execute_result"
    }
   ],
   "source": [
    "ul"
   ]
  },
  {
   "cell_type": "markdown",
   "id": "6534e71d",
   "metadata": {},
   "source": [
    "- <span style = 'font-size:1.2em;line-height:1.5em'>우리가 원하는건 목록 내의 개별 텍스트들</span>\n",
    "    - <span style = 'font-size:1.0em;line-height:1.5em'>더 정확하게는 <b>\\<li></b>태그 내의 텍스트들</span>"
   ]
  },
  {
   "cell_type": "code",
   "execution_count": 32,
   "id": "4d06e5dc",
   "metadata": {},
   "outputs": [
    {
     "name": "stdout",
     "output_type": "stream",
     "text": [
      "모니터\n",
      "CPU\n",
      "메모리\n",
      "그래픽카드\n",
      "하드디스크\n",
      "키보드\n",
      "마우스\n"
     ]
    }
   ],
   "source": [
    "li = ul[0].find_all('li')\n",
    "for x in li:\n",
    "    print(x.text)"
   ]
  }
 ],
 "metadata": {
  "kernelspec": {
   "display_name": "Python 3 (ipykernel)",
   "language": "python",
   "name": "python3"
  },
  "language_info": {
   "codemirror_mode": {
    "name": "ipython",
    "version": 3
   },
   "file_extension": ".py",
   "mimetype": "text/x-python",
   "name": "python",
   "nbconvert_exporter": "python",
   "pygments_lexer": "ipython3",
   "version": "3.9.12"
  }
 },
 "nbformat": 4,
 "nbformat_minor": 5
}
