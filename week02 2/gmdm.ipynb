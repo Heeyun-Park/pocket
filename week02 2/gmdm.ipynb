{
 "cells": [
  {
   "cell_type": "code",
   "execution_count": 4,
   "metadata": {},
   "outputs": [
    {
     "name": "stderr",
     "output_type": "stream",
     "text": [
      "JSON Query to explore/tags/study/: 404 Not Found when accessing https://www.instagram.com/explore/tags/study/?__a=1&__d=dis [retrying; skip with ^C]\n",
      "JSON Query to explore/tags/study/: 404 Not Found when accessing https://www.instagram.com/explore/tags/study/?__a=1&__d=dis [retrying; skip with ^C]\n"
     ]
    },
    {
     "ename": "QueryReturnedNotFoundException",
     "evalue": "JSON Query to explore/tags/study/: 404 Not Found when accessing https://www.instagram.com/explore/tags/study/?__a=1&__d=dis",
     "output_type": "error",
     "traceback": [
      "\u001b[0;31m---------------------------------------------------------------------------\u001b[0m",
      "\u001b[0;31mQueryReturnedNotFoundException\u001b[0m            Traceback (most recent call last)",
      "File \u001b[0;32m/opt/anaconda3/lib/python3.12/site-packages/instaloader/instaloadercontext.py:452\u001b[0m, in \u001b[0;36mInstaloaderContext.get_json\u001b[0;34m(self, path, params, host, session, _attempt, response_headers, use_post)\u001b[0m\n\u001b[1;32m    451\u001b[0m \u001b[38;5;28;01mif\u001b[39;00m resp\u001b[38;5;241m.\u001b[39mstatus_code \u001b[38;5;241m==\u001b[39m \u001b[38;5;241m404\u001b[39m:\n\u001b[0;32m--> 452\u001b[0m     \u001b[38;5;28;01mraise\u001b[39;00m QueryReturnedNotFoundException(\u001b[38;5;28mself\u001b[39m\u001b[38;5;241m.\u001b[39m_response_error(resp))\n\u001b[1;32m    453\u001b[0m \u001b[38;5;28;01mif\u001b[39;00m resp\u001b[38;5;241m.\u001b[39mstatus_code \u001b[38;5;241m==\u001b[39m \u001b[38;5;241m429\u001b[39m:\n",
      "\u001b[0;31mQueryReturnedNotFoundException\u001b[0m: 404 Not Found when accessing https://www.instagram.com/explore/tags/study/?__a=1&__d=dis",
      "\nDuring handling of the above exception, another exception occurred:\n",
      "\u001b[0;31mQueryReturnedNotFoundException\u001b[0m            Traceback (most recent call last)",
      "File \u001b[0;32m/opt/anaconda3/lib/python3.12/site-packages/instaloader/instaloadercontext.py:452\u001b[0m, in \u001b[0;36mInstaloaderContext.get_json\u001b[0;34m(self, path, params, host, session, _attempt, response_headers, use_post)\u001b[0m\n\u001b[1;32m    451\u001b[0m \u001b[38;5;28;01mif\u001b[39;00m resp\u001b[38;5;241m.\u001b[39mstatus_code \u001b[38;5;241m==\u001b[39m \u001b[38;5;241m404\u001b[39m:\n\u001b[0;32m--> 452\u001b[0m     \u001b[38;5;28;01mraise\u001b[39;00m QueryReturnedNotFoundException(\u001b[38;5;28mself\u001b[39m\u001b[38;5;241m.\u001b[39m_response_error(resp))\n\u001b[1;32m    453\u001b[0m \u001b[38;5;28;01mif\u001b[39;00m resp\u001b[38;5;241m.\u001b[39mstatus_code \u001b[38;5;241m==\u001b[39m \u001b[38;5;241m429\u001b[39m:\n",
      "\u001b[0;31mQueryReturnedNotFoundException\u001b[0m: 404 Not Found when accessing https://www.instagram.com/explore/tags/study/?__a=1&__d=dis",
      "\nDuring handling of the above exception, another exception occurred:\n",
      "\u001b[0;31mQueryReturnedNotFoundException\u001b[0m            Traceback (most recent call last)",
      "File \u001b[0;32m/opt/anaconda3/lib/python3.12/site-packages/instaloader/instaloadercontext.py:452\u001b[0m, in \u001b[0;36mInstaloaderContext.get_json\u001b[0;34m(self, path, params, host, session, _attempt, response_headers, use_post)\u001b[0m\n\u001b[1;32m    451\u001b[0m \u001b[38;5;28;01mif\u001b[39;00m resp\u001b[38;5;241m.\u001b[39mstatus_code \u001b[38;5;241m==\u001b[39m \u001b[38;5;241m404\u001b[39m:\n\u001b[0;32m--> 452\u001b[0m     \u001b[38;5;28;01mraise\u001b[39;00m QueryReturnedNotFoundException(\u001b[38;5;28mself\u001b[39m\u001b[38;5;241m.\u001b[39m_response_error(resp))\n\u001b[1;32m    453\u001b[0m \u001b[38;5;28;01mif\u001b[39;00m resp\u001b[38;5;241m.\u001b[39mstatus_code \u001b[38;5;241m==\u001b[39m \u001b[38;5;241m429\u001b[39m:\n",
      "\u001b[0;31mQueryReturnedNotFoundException\u001b[0m: 404 Not Found when accessing https://www.instagram.com/explore/tags/study/?__a=1&__d=dis",
      "\nThe above exception was the direct cause of the following exception:\n",
      "\u001b[0;31mQueryReturnedNotFoundException\u001b[0m            Traceback (most recent call last)",
      "Cell \u001b[0;32mIn[4], line 19\u001b[0m\n\u001b[1;32m     16\u001b[0m writer\u001b[38;5;241m.\u001b[39mwriterow([\u001b[38;5;124m\"\u001b[39m\u001b[38;5;124mPhoto URL\u001b[39m\u001b[38;5;124m\"\u001b[39m, \u001b[38;5;124m\"\u001b[39m\u001b[38;5;124mCaption\u001b[39m\u001b[38;5;124m\"\u001b[39m])\n\u001b[1;32m     18\u001b[0m \u001b[38;5;66;03m# 해시태그로 게시물 검색\u001b[39;00m\n\u001b[0;32m---> 19\u001b[0m posts \u001b[38;5;241m=\u001b[39m instaloader\u001b[38;5;241m.\u001b[39mHashtag\u001b[38;5;241m.\u001b[39mfrom_name(L\u001b[38;5;241m.\u001b[39mcontext, keyword)\u001b[38;5;241m.\u001b[39mget_posts()\n\u001b[1;32m     21\u001b[0m \u001b[38;5;28;01mfor\u001b[39;00m post \u001b[38;5;129;01min\u001b[39;00m posts:\n\u001b[1;32m     22\u001b[0m     \u001b[38;5;66;03m# 게시물 URL 및 설명 캡션 가져오기\u001b[39;00m\n\u001b[1;32m     23\u001b[0m     photo_url \u001b[38;5;241m=\u001b[39m post\u001b[38;5;241m.\u001b[39murl\n",
      "File \u001b[0;32m/opt/anaconda3/lib/python3.12/site-packages/instaloader/structures.py:1818\u001b[0m, in \u001b[0;36mHashtag.from_name\u001b[0;34m(cls, context, name)\u001b[0m\n\u001b[1;32m   1816\u001b[0m \u001b[38;5;66;03m# pylint:disable=protected-access\u001b[39;00m\n\u001b[1;32m   1817\u001b[0m hashtag \u001b[38;5;241m=\u001b[39m \u001b[38;5;28mcls\u001b[39m(context, {\u001b[38;5;124m'\u001b[39m\u001b[38;5;124mname\u001b[39m\u001b[38;5;124m'\u001b[39m: name\u001b[38;5;241m.\u001b[39mlower()})\n\u001b[0;32m-> 1818\u001b[0m hashtag\u001b[38;5;241m.\u001b[39m_obtain_metadata()\n\u001b[1;32m   1819\u001b[0m \u001b[38;5;28;01mreturn\u001b[39;00m hashtag\n",
      "File \u001b[0;32m/opt/anaconda3/lib/python3.12/site-packages/instaloader/structures.py:1832\u001b[0m, in \u001b[0;36mHashtag._obtain_metadata\u001b[0;34m(self)\u001b[0m\n\u001b[1;32m   1830\u001b[0m \u001b[38;5;28;01mdef\u001b[39;00m \u001b[38;5;21m_obtain_metadata\u001b[39m(\u001b[38;5;28mself\u001b[39m):\n\u001b[1;32m   1831\u001b[0m     \u001b[38;5;28;01mif\u001b[39;00m \u001b[38;5;129;01mnot\u001b[39;00m \u001b[38;5;28mself\u001b[39m\u001b[38;5;241m.\u001b[39m_has_full_metadata:\n\u001b[0;32m-> 1832\u001b[0m         \u001b[38;5;28mself\u001b[39m\u001b[38;5;241m.\u001b[39m_node \u001b[38;5;241m=\u001b[39m \u001b[38;5;28mself\u001b[39m\u001b[38;5;241m.\u001b[39m_query({\u001b[38;5;124m\"\u001b[39m\u001b[38;5;124m__a\u001b[39m\u001b[38;5;124m\"\u001b[39m: \u001b[38;5;241m1\u001b[39m, \u001b[38;5;124m\"\u001b[39m\u001b[38;5;124m__d\u001b[39m\u001b[38;5;124m\"\u001b[39m: \u001b[38;5;124m\"\u001b[39m\u001b[38;5;124mdis\u001b[39m\u001b[38;5;124m\"\u001b[39m})\n\u001b[1;32m   1833\u001b[0m         \u001b[38;5;28mself\u001b[39m\u001b[38;5;241m.\u001b[39m_has_full_metadata \u001b[38;5;241m=\u001b[39m \u001b[38;5;28;01mTrue\u001b[39;00m\n",
      "File \u001b[0;32m/opt/anaconda3/lib/python3.12/site-packages/instaloader/structures.py:1827\u001b[0m, in \u001b[0;36mHashtag._query\u001b[0;34m(self, params)\u001b[0m\n\u001b[1;32m   1826\u001b[0m \u001b[38;5;28;01mdef\u001b[39;00m \u001b[38;5;21m_query\u001b[39m(\u001b[38;5;28mself\u001b[39m, params):\n\u001b[0;32m-> 1827\u001b[0m     json_response \u001b[38;5;241m=\u001b[39m \u001b[38;5;28mself\u001b[39m\u001b[38;5;241m.\u001b[39m_context\u001b[38;5;241m.\u001b[39mget_json(\u001b[38;5;124m\"\u001b[39m\u001b[38;5;124mexplore/tags/\u001b[39m\u001b[38;5;132;01m{0}\u001b[39;00m\u001b[38;5;124m/\u001b[39m\u001b[38;5;124m\"\u001b[39m\u001b[38;5;241m.\u001b[39mformat(\u001b[38;5;28mself\u001b[39m\u001b[38;5;241m.\u001b[39mname), params)\n\u001b[1;32m   1828\u001b[0m     \u001b[38;5;28;01mreturn\u001b[39;00m json_response[\u001b[38;5;124m\"\u001b[39m\u001b[38;5;124mgraphql\u001b[39m\u001b[38;5;124m\"\u001b[39m][\u001b[38;5;124m\"\u001b[39m\u001b[38;5;124mhashtag\u001b[39m\u001b[38;5;124m\"\u001b[39m] \u001b[38;5;28;01mif\u001b[39;00m \u001b[38;5;124m\"\u001b[39m\u001b[38;5;124mgraphql\u001b[39m\u001b[38;5;124m\"\u001b[39m \u001b[38;5;129;01min\u001b[39;00m json_response \u001b[38;5;28;01melse\u001b[39;00m json_response[\u001b[38;5;124m\"\u001b[39m\u001b[38;5;124mdata\u001b[39m\u001b[38;5;124m\"\u001b[39m]\n",
      "File \u001b[0;32m/opt/anaconda3/lib/python3.12/site-packages/instaloader/instaloadercontext.py:480\u001b[0m, in \u001b[0;36mInstaloaderContext.get_json\u001b[0;34m(self, path, params, host, session, _attempt, response_headers, use_post)\u001b[0m\n\u001b[1;32m    478\u001b[0m         \u001b[38;5;28;01mif\u001b[39;00m is_other_query:\n\u001b[1;32m    479\u001b[0m             \u001b[38;5;28mself\u001b[39m\u001b[38;5;241m.\u001b[39m_rate_controller\u001b[38;5;241m.\u001b[39mhandle_429(\u001b[38;5;124m'\u001b[39m\u001b[38;5;124mother\u001b[39m\u001b[38;5;124m'\u001b[39m)\n\u001b[0;32m--> 480\u001b[0m     \u001b[38;5;28;01mreturn\u001b[39;00m \u001b[38;5;28mself\u001b[39m\u001b[38;5;241m.\u001b[39mget_json(path\u001b[38;5;241m=\u001b[39mpath, params\u001b[38;5;241m=\u001b[39mparams, host\u001b[38;5;241m=\u001b[39mhost, session\u001b[38;5;241m=\u001b[39msess, _attempt\u001b[38;5;241m=\u001b[39m_attempt \u001b[38;5;241m+\u001b[39m \u001b[38;5;241m1\u001b[39m,\n\u001b[1;32m    481\u001b[0m                          response_headers\u001b[38;5;241m=\u001b[39mresponse_headers)\n\u001b[1;32m    482\u001b[0m \u001b[38;5;28;01mexcept\u001b[39;00m \u001b[38;5;167;01mKeyboardInterrupt\u001b[39;00m:\n\u001b[1;32m    483\u001b[0m     \u001b[38;5;28mself\u001b[39m\u001b[38;5;241m.\u001b[39merror(\u001b[38;5;124m\"\u001b[39m\u001b[38;5;124m[skipped by user]\u001b[39m\u001b[38;5;124m\"\u001b[39m, repeat_at_end\u001b[38;5;241m=\u001b[39m\u001b[38;5;28;01mFalse\u001b[39;00m)\n",
      "File \u001b[0;32m/opt/anaconda3/lib/python3.12/site-packages/instaloader/instaloadercontext.py:480\u001b[0m, in \u001b[0;36mInstaloaderContext.get_json\u001b[0;34m(self, path, params, host, session, _attempt, response_headers, use_post)\u001b[0m\n\u001b[1;32m    478\u001b[0m         \u001b[38;5;28;01mif\u001b[39;00m is_other_query:\n\u001b[1;32m    479\u001b[0m             \u001b[38;5;28mself\u001b[39m\u001b[38;5;241m.\u001b[39m_rate_controller\u001b[38;5;241m.\u001b[39mhandle_429(\u001b[38;5;124m'\u001b[39m\u001b[38;5;124mother\u001b[39m\u001b[38;5;124m'\u001b[39m)\n\u001b[0;32m--> 480\u001b[0m     \u001b[38;5;28;01mreturn\u001b[39;00m \u001b[38;5;28mself\u001b[39m\u001b[38;5;241m.\u001b[39mget_json(path\u001b[38;5;241m=\u001b[39mpath, params\u001b[38;5;241m=\u001b[39mparams, host\u001b[38;5;241m=\u001b[39mhost, session\u001b[38;5;241m=\u001b[39msess, _attempt\u001b[38;5;241m=\u001b[39m_attempt \u001b[38;5;241m+\u001b[39m \u001b[38;5;241m1\u001b[39m,\n\u001b[1;32m    481\u001b[0m                          response_headers\u001b[38;5;241m=\u001b[39mresponse_headers)\n\u001b[1;32m    482\u001b[0m \u001b[38;5;28;01mexcept\u001b[39;00m \u001b[38;5;167;01mKeyboardInterrupt\u001b[39;00m:\n\u001b[1;32m    483\u001b[0m     \u001b[38;5;28mself\u001b[39m\u001b[38;5;241m.\u001b[39merror(\u001b[38;5;124m\"\u001b[39m\u001b[38;5;124m[skipped by user]\u001b[39m\u001b[38;5;124m\"\u001b[39m, repeat_at_end\u001b[38;5;241m=\u001b[39m\u001b[38;5;28;01mFalse\u001b[39;00m)\n",
      "File \u001b[0;32m/opt/anaconda3/lib/python3.12/site-packages/instaloader/instaloadercontext.py:466\u001b[0m, in \u001b[0;36mInstaloaderContext.get_json\u001b[0;34m(self, path, params, host, session, _attempt, response_headers, use_post)\u001b[0m\n\u001b[1;32m    464\u001b[0m \u001b[38;5;28;01mif\u001b[39;00m _attempt \u001b[38;5;241m==\u001b[39m \u001b[38;5;28mself\u001b[39m\u001b[38;5;241m.\u001b[39mmax_connection_attempts:\n\u001b[1;32m    465\u001b[0m     \u001b[38;5;28;01mif\u001b[39;00m \u001b[38;5;28misinstance\u001b[39m(err, QueryReturnedNotFoundException):\n\u001b[0;32m--> 466\u001b[0m         \u001b[38;5;28;01mraise\u001b[39;00m QueryReturnedNotFoundException(error_string) \u001b[38;5;28;01mfrom\u001b[39;00m \u001b[38;5;21;01merr\u001b[39;00m\n\u001b[1;32m    467\u001b[0m     \u001b[38;5;28;01melse\u001b[39;00m:\n\u001b[1;32m    468\u001b[0m         \u001b[38;5;28;01mraise\u001b[39;00m ConnectionException(error_string) \u001b[38;5;28;01mfrom\u001b[39;00m \u001b[38;5;21;01merr\u001b[39;00m\n",
      "\u001b[0;31mQueryReturnedNotFoundException\u001b[0m: JSON Query to explore/tags/study/: 404 Not Found when accessing https://www.instagram.com/explore/tags/study/?__a=1&__d=dis"
     ]
    }
   ],
   "source": [
    "import instaloader\n",
    "import csv\n",
    "\n",
    "# Instaloader 객체 생성\n",
    "L = instaloader.Instaloader()\n",
    "\n",
    "# 키워드 해시태그 설정\n",
    "keyword = \"study\"  # 키워드 입력\n",
    "\n",
    "# 결과 저장할 CSV 파일 경로\n",
    "csv_file = \"instagram_posts.csv\"\n",
    "\n",
    "# CSV 파일 열기\n",
    "with open(csv_file, mode='w', newline='', encoding='utf-8') as file:\n",
    "    writer = csv.writer(file)\n",
    "    writer.writerow([\"Photo URL\", \"Caption\"])\n",
    "\n",
    "    # 해시태그로 게시물 검색\n",
    "    posts = instaloader.Hashtag.from_name(L.context, keyword).get_posts()\n",
    "\n",
    "    for post in posts:\n",
    "        # 게시물 URL 및 설명 캡션 가져오기\n",
    "        photo_url = post.url\n",
    "        caption = post.caption if post.caption else \"\"\n",
    "\n",
    "        # CSV에 작성\n",
    "        writer.writerow([photo_url, caption])\n",
    "\n",
    "        # 지정된 양만큼 크롤링 후 중단 (예: 10개)\n",
    "        if posts.count == 10:  # 원하는 수량으로 조정\n",
    "            break\n",
    "\n",
    "print(f\"크롤링 완료! {csv_file}에 저장되었습니다.\")\n"
   ]
  },
  {
   "cell_type": "code",
   "execution_count": 2,
   "metadata": {},
   "outputs": [
    {
     "name": "stdout",
     "output_type": "stream",
     "text": [
      "Requirement already satisfied: instaloader in /opt/anaconda3/lib/python3.12/site-packages (4.13.1)\n",
      "Requirement already satisfied: requests>=2.4 in /opt/anaconda3/lib/python3.12/site-packages (from instaloader) (2.32.2)\n",
      "Requirement already satisfied: charset-normalizer<4,>=2 in /opt/anaconda3/lib/python3.12/site-packages (from requests>=2.4->instaloader) (2.0.4)\n",
      "Requirement already satisfied: idna<4,>=2.5 in /opt/anaconda3/lib/python3.12/site-packages (from requests>=2.4->instaloader) (3.7)\n",
      "Requirement already satisfied: urllib3<3,>=1.21.1 in /opt/anaconda3/lib/python3.12/site-packages (from requests>=2.4->instaloader) (2.2.2)\n",
      "Requirement already satisfied: certifi>=2017.4.17 in /opt/anaconda3/lib/python3.12/site-packages (from requests>=2.4->instaloader) (2024.7.4)\n",
      "Note: you may need to restart the kernel to use updated packages.\n"
     ]
    }
   ],
   "source": [
    "pip install --upgrade instaloader\n"
   ]
  },
  {
   "cell_type": "code",
   "execution_count": null,
   "metadata": {},
   "outputs": [],
   "source": []
  }
 ],
 "metadata": {
  "kernelspec": {
   "display_name": "base",
   "language": "python",
   "name": "python3"
  },
  "language_info": {
   "codemirror_mode": {
    "name": "ipython",
    "version": 3
   },
   "file_extension": ".py",
   "mimetype": "text/x-python",
   "name": "python",
   "nbconvert_exporter": "python",
   "pygments_lexer": "ipython3",
   "version": "3.12.4"
  }
 },
 "nbformat": 4,
 "nbformat_minor": 2
}
