{
 "cells": [
  {
   "cell_type": "markdown",
   "id": "5fb64d9d",
   "metadata": {},
   "source": [
    "# BeautifulSoup import하기"
   ]
  },
  {
   "cell_type": "code",
   "execution_count": 31,
   "id": "f0f51301",
   "metadata": {},
   "outputs": [],
   "source": [
    "from bs4 import BeautifulSoup"
   ]
  },
  {
   "cell_type": "code",
   "execution_count": 32,
   "id": "242e4711",
   "metadata": {},
   "outputs": [],
   "source": [
    "# # 위의 코드가 실행이 안되면 여기를 주석 해제하고, 밑에 코드를 실행시키세요\n",
    "# !pip install beautifulsoup4"
   ]
  },
  {
   "cell_type": "markdown",
   "id": "bcfe4414",
   "metadata": {},
   "source": [
    "# 예제 1"
   ]
  },
  {
   "cell_type": "code",
   "execution_count": 33,
   "id": "86d917a8",
   "metadata": {},
   "outputs": [],
   "source": [
    "html_str = \"\"\"\n",
    "<html>\n",
    "    <head>\n",
    "        <title>Intro to Web Scraping</title>\n",
    "    </head>\n",
    "    <body>\n",
    "        Life is short. You need Python.\n",
    "    </body>\n",
    "</html>\n",
    "\"\"\""
   ]
  },
  {
   "cell_type": "code",
   "execution_count": 34,
   "id": "0cac3a53",
   "metadata": {},
   "outputs": [
    {
     "data": {
      "text/plain": [
       "str"
      ]
     },
     "execution_count": 34,
     "metadata": {},
     "output_type": "execute_result"
    }
   ],
   "source": [
    "type(html_str)"
   ]
  },
  {
   "cell_type": "markdown",
   "id": "0cce6a59",
   "metadata": {},
   "source": [
    "- <span style = 'font-size:1.1em;line-height:1.5em'>현재까지 위의 html_str에 저장되어있는 값은 단순 문자열일뿐</span>\n",
    "- <span style = 'font-size:1.1em;line-height:1.5em'>이제 이를 parsing하기 위해서 이 문자열이 HTML문서라는 것을 알게 해줘야 함</span>\n",
    "    - <span style = 'font-size:1.0em;line-height:1.5em'><b>파싱(parsing): </b>텍스트의 구성 성분을 분해한다는 의미</span>\n",
    "    - <span style = 'font-size:1.0em;line-height:1.5em'><b>예제: </b>You need Python -> You/need/Python</span>"
   ]
  },
  {
   "cell_type": "markdown",
   "id": "cdc09ca7",
   "metadata": {},
   "source": [
    "## Find \\<head\\> tag"
   ]
  },
  {
   "cell_type": "code",
   "execution_count": 35,
   "id": "e32e8147",
   "metadata": {},
   "outputs": [],
   "source": [
    "bs_obj = BeautifulSoup(html_str, 'html.parser')"
   ]
  },
  {
   "cell_type": "code",
   "execution_count": 36,
   "id": "9109359d",
   "metadata": {
    "scrolled": true
   },
   "outputs": [
    {
     "name": "stdout",
     "output_type": "stream",
     "text": [
      "<head>\n",
      "<title>Intro to Web Scraping</title>\n",
      "</head>\n"
     ]
    }
   ],
   "source": [
    "# bs_obj = BeautifulSoup(html_str, 'html.parser')\n",
    "head = bs_obj.find('head')\n",
    "print(head)"
   ]
  },
  {
   "cell_type": "markdown",
   "id": "80779f1c",
   "metadata": {},
   "source": [
    "- <span style = 'font-size:1.1em;line-height:1.5em'>find()로 생성된 결과물은 Tag라는 클래스의 객체(object)</span>"
   ]
  },
  {
   "cell_type": "code",
   "execution_count": 37,
   "id": "7738efdd",
   "metadata": {},
   "outputs": [
    {
     "name": "stdout",
     "output_type": "stream",
     "text": [
      "<class 'bs4.element.Tag'>\n",
      "Tag\n"
     ]
    }
   ],
   "source": [
    "print(type(head))\n",
    "print(head.__class__.__name__)"
   ]
  },
  {
   "cell_type": "markdown",
   "id": "1a5e94d9",
   "metadata": {},
   "source": [
    "- <span style = 'font-size:1.1em;line-height:1.5em'>이 객체의 속성(attribute)를 사용할 수 있다.</span>\n",
    "    - <span style = 'font-size:1.0em;line-height:1.5em'>이 객체의 text라는 속성을 사용하면 내부 문자열만 추출 가능</span>"
   ]
  },
  {
   "cell_type": "code",
   "execution_count": 38,
   "id": "d0d08ed7",
   "metadata": {},
   "outputs": [
    {
     "data": {
      "text/plain": [
       "'\\nIntro to Web Scraping\\n'"
      ]
     },
     "execution_count": 38,
     "metadata": {},
     "output_type": "execute_result"
    }
   ],
   "source": [
    "head.text"
   ]
  },
  {
   "cell_type": "code",
   "execution_count": 39,
   "id": "25b70604",
   "metadata": {},
   "outputs": [
    {
     "name": "stdout",
     "output_type": "stream",
     "text": [
      "\n",
      "Intro to Web Scraping\n",
      "\n"
     ]
    }
   ],
   "source": [
    "print(head.text)"
   ]
  },
  {
   "cell_type": "markdown",
   "id": "378ccf10",
   "metadata": {},
   "source": [
    "## \\<body\\>부분 찾기"
   ]
  },
  {
   "cell_type": "code",
   "execution_count": 40,
   "id": "313f22c2",
   "metadata": {},
   "outputs": [
    {
     "name": "stdout",
     "output_type": "stream",
     "text": [
      "<body>\n",
      "        Life is short. You need Python.\n",
      "    </body>\n"
     ]
    }
   ],
   "source": [
    "body = bs_obj.find('body')\n",
    "print(body)"
   ]
  },
  {
   "cell_type": "code",
   "execution_count": 41,
   "id": "a22feaa0",
   "metadata": {},
   "outputs": [
    {
     "name": "stdout",
     "output_type": "stream",
     "text": [
      "\n",
      "        Life is short. You need Python.\n",
      "    \n"
     ]
    }
   ],
   "source": [
    "print(body.text)"
   ]
  },
  {
   "cell_type": "code",
   "execution_count": 42,
   "id": "4d7af4bd",
   "metadata": {},
   "outputs": [
    {
     "data": {
      "text/plain": [
       "'\\n        Life is short. You need Python.\\n    '"
      ]
     },
     "execution_count": 42,
     "metadata": {},
     "output_type": "execute_result"
    }
   ],
   "source": [
    "body.text"
   ]
  },
  {
   "cell_type": "code",
   "execution_count": 43,
   "id": "9970b803",
   "metadata": {},
   "outputs": [
    {
     "data": {
      "text/plain": [
       "'Life is short. You need Python.'"
      ]
     },
     "execution_count": 43,
     "metadata": {},
     "output_type": "execute_result"
    }
   ],
   "source": [
    "body.text.strip()"
   ]
  },
  {
   "cell_type": "code",
   "execution_count": 44,
   "id": "6c77bf83",
   "metadata": {},
   "outputs": [
    {
     "name": "stdout",
     "output_type": "stream",
     "text": [
      "aa  a\n"
     ]
    }
   ],
   "source": [
    "# strip(): 문자열(str)에서 양 끝에 존재하는 공백을 제거하는 함수\n",
    "print('   aa  a '.strip())"
   ]
  },
  {
   "cell_type": "markdown",
   "id": "e7d63a65",
   "metadata": {},
   "source": [
    "# Example 2"
   ]
  },
  {
   "cell_type": "code",
   "execution_count": 45,
   "id": "c343fd00",
   "metadata": {},
   "outputs": [],
   "source": [
    "html_str = \"\"\"\n",
    "<html>\n",
    "    <head>\n",
    "        <title>Intro to Web Scraping</title>\n",
    "    </head>\n",
    "    <body>\n",
    "        <div>First div</div>\n",
    "        <div>Second div</div>\n",
    "    </body>\n",
    "</html>\n",
    "\"\"\""
   ]
  },
  {
   "cell_type": "markdown",
   "id": "6b9f1649",
   "metadata": {},
   "source": [
    "## \\<body\\>부분 찾기"
   ]
  },
  {
   "cell_type": "code",
   "execution_count": 46,
   "id": "f01793ae",
   "metadata": {},
   "outputs": [],
   "source": [
    "bs_obj = BeautifulSoup(html_str, 'html.parser')"
   ]
  },
  {
   "cell_type": "code",
   "execution_count": 47,
   "id": "e7a56840",
   "metadata": {},
   "outputs": [
    {
     "data": {
      "text/plain": [
       "\n",
       "<html>\n",
       "<head>\n",
       "<title>Intro to Web Scraping</title>\n",
       "</head>\n",
       "<body>\n",
       "<div>First div</div>\n",
       "<div>Second div</div>\n",
       "</body>\n",
       "</html>"
      ]
     },
     "execution_count": 47,
     "metadata": {},
     "output_type": "execute_result"
    }
   ],
   "source": [
    "bs_obj"
   ]
  },
  {
   "cell_type": "code",
   "execution_count": 48,
   "id": "cf9a2eff",
   "metadata": {},
   "outputs": [
    {
     "name": "stdout",
     "output_type": "stream",
     "text": [
      "<body>\n",
      "<div>First div</div>\n",
      "<div>Second div</div>\n",
      "</body>\n"
     ]
    }
   ],
   "source": [
    "bs_obj = BeautifulSoup(html_str, 'html.parser')\n",
    "body = bs_obj.find('body')\n",
    "print(body)"
   ]
  },
  {
   "cell_type": "code",
   "execution_count": 49,
   "id": "a7d2774b",
   "metadata": {},
   "outputs": [
    {
     "data": {
      "text/plain": [
       "'\\nFirst div\\nSecond div\\n'"
      ]
     },
     "execution_count": 49,
     "metadata": {},
     "output_type": "execute_result"
    }
   ],
   "source": [
    "body.text"
   ]
  },
  {
   "cell_type": "markdown",
   "id": "f28a104b",
   "metadata": {},
   "source": [
    "## \\<div\\>부분 전부 찾기"
   ]
  },
  {
   "cell_type": "markdown",
   "id": "fcdc1fe0",
   "metadata": {},
   "source": [
    "- <span style = 'font-size:1.1em;line-height:1.5em'><b>[KOR]</b> div부분이 여러 개 있는데, find 메소드를 사용하면 첫번째 결과만 반환합니다.</span>"
   ]
  },
  {
   "cell_type": "code",
   "execution_count": 50,
   "id": "76ed4b7e",
   "metadata": {},
   "outputs": [
    {
     "name": "stdout",
     "output_type": "stream",
     "text": [
      "<div>First div</div>\n"
     ]
    }
   ],
   "source": [
    "div = bs_obj.find('div')\n",
    "print(div)"
   ]
  },
  {
   "cell_type": "markdown",
   "id": "533b8b41",
   "metadata": {},
   "source": [
    "- <span style = 'font-size:1.1em;line-height:1.5em'><b>[KOR]</b>find_all 메소드를 사용하여 모든 결과를 반환하도록 합니다.</span>\n",
    "- <span style = 'font-size:1.1em;line-height:1.5em'><b>[ENG]</b>You can get all the results by using find_all() method.</span>"
   ]
  },
  {
   "cell_type": "code",
   "execution_count": 51,
   "id": "6b0583b0",
   "metadata": {},
   "outputs": [
    {
     "name": "stdout",
     "output_type": "stream",
     "text": [
      "[<div>First div</div>, <div>Second div</div>]\n"
     ]
    }
   ],
   "source": [
    "div = bs_obj.find_all('div')\n",
    "print(div)"
   ]
  },
  {
   "cell_type": "code",
   "execution_count": 52,
   "id": "4cca1450",
   "metadata": {},
   "outputs": [
    {
     "data": {
      "text/plain": [
       "<div>Second div</div>"
      ]
     },
     "execution_count": 52,
     "metadata": {},
     "output_type": "execute_result"
    }
   ],
   "source": [
    "div[1]"
   ]
  },
  {
   "cell_type": "code",
   "execution_count": 53,
   "id": "7d54677c",
   "metadata": {},
   "outputs": [
    {
     "name": "stdout",
     "output_type": "stream",
     "text": [
      "First div\n",
      "Second div\n"
     ]
    }
   ],
   "source": [
    "print(div[0].text)\n",
    "print(div[1].text)"
   ]
  },
  {
   "cell_type": "markdown",
   "id": "7aadf460",
   "metadata": {},
   "source": [
    "# Example 3"
   ]
  },
  {
   "cell_type": "code",
   "execution_count": 54,
   "id": "86dcf23a",
   "metadata": {},
   "outputs": [],
   "source": [
    "bs_obj = BeautifulSoup(open(\"examples/practice05.html\", encoding=\"utf8\"), \"html.parser\")"
   ]
  },
  {
   "cell_type": "code",
   "execution_count": 55,
   "id": "aaea575e",
   "metadata": {
    "scrolled": true
   },
   "outputs": [
    {
     "data": {
      "text/plain": [
       "<!DOCTYPE html>\n",
       "\n",
       "<html>\n",
       "<head>\n",
       "<title>초간단 테이블</title>\n",
       "</head>\n",
       "<body>\n",
       "<table border=\"1\">\n",
       "<caption>첫번째 표</caption>\n",
       "<tr>\n",
       "<th>상품</th>\n",
       "<th>가격</th>\n",
       "</tr>\n",
       "<tr>\n",
       "<td>item 01</td>\n",
       "<td>1000</td>\n",
       "</tr>\n",
       "<tr>\n",
       "<td>item 02</td>\n",
       "<td>2000</td>\n",
       "</tr>\n",
       "</table>\n",
       "<table border=\"2\">\n",
       "<caption>두번째 표</caption>\n",
       "<tr>\n",
       "<th>상품</th>\n",
       "<th>가격</th>\n",
       "</tr>\n",
       "<tr>\n",
       "<td>item 03</td>\n",
       "<td>3000</td>\n",
       "</tr>\n",
       "<tr>\n",
       "<td>item 04</td>\n",
       "<td>4000</td>\n",
       "</tr>\n",
       "</table>\n",
       "</body>\n",
       "</html>"
      ]
     },
     "execution_count": 55,
     "metadata": {},
     "output_type": "execute_result"
    }
   ],
   "source": [
    "bs_obj"
   ]
  },
  {
   "cell_type": "markdown",
   "id": "841612e2",
   "metadata": {},
   "source": [
    "## table내의 내용 추출\n",
    "## Extract the contents in the table"
   ]
  },
  {
   "cell_type": "code",
   "execution_count": 56,
   "id": "3276e548",
   "metadata": {},
   "outputs": [],
   "source": [
    "table = bs_obj.find_all('table')"
   ]
  },
  {
   "cell_type": "code",
   "execution_count": 57,
   "id": "4dd933fe",
   "metadata": {},
   "outputs": [
    {
     "data": {
      "text/plain": [
       "[<table border=\"1\">\n",
       " <caption>첫번째 표</caption>\n",
       " <tr>\n",
       " <th>상품</th>\n",
       " <th>가격</th>\n",
       " </tr>\n",
       " <tr>\n",
       " <td>item 01</td>\n",
       " <td>1000</td>\n",
       " </tr>\n",
       " <tr>\n",
       " <td>item 02</td>\n",
       " <td>2000</td>\n",
       " </tr>\n",
       " </table>,\n",
       " <table border=\"2\">\n",
       " <caption>두번째 표</caption>\n",
       " <tr>\n",
       " <th>상품</th>\n",
       " <th>가격</th>\n",
       " </tr>\n",
       " <tr>\n",
       " <td>item 03</td>\n",
       " <td>3000</td>\n",
       " </tr>\n",
       " <tr>\n",
       " <td>item 04</td>\n",
       " <td>4000</td>\n",
       " </tr>\n",
       " </table>]"
      ]
     },
     "execution_count": 57,
     "metadata": {},
     "output_type": "execute_result"
    }
   ],
   "source": [
    "table"
   ]
  },
  {
   "cell_type": "code",
   "execution_count": 58,
   "id": "274f44b6",
   "metadata": {},
   "outputs": [
    {
     "name": "stdout",
     "output_type": "stream",
     "text": [
      "table 수: 2\n",
      "\n",
      "[<table border=\"1\">\n",
      "<caption>첫번째 표</caption>\n",
      "<tr>\n",
      "<th>상품</th>\n",
      "<th>가격</th>\n",
      "</tr>\n",
      "<tr>\n",
      "<td>item 01</td>\n",
      "<td>1000</td>\n",
      "</tr>\n",
      "<tr>\n",
      "<td>item 02</td>\n",
      "<td>2000</td>\n",
      "</tr>\n",
      "</table>, <table border=\"2\">\n",
      "<caption>두번째 표</caption>\n",
      "<tr>\n",
      "<th>상품</th>\n",
      "<th>가격</th>\n",
      "</tr>\n",
      "<tr>\n",
      "<td>item 03</td>\n",
      "<td>3000</td>\n",
      "</tr>\n",
      "<tr>\n",
      "<td>item 04</td>\n",
      "<td>4000</td>\n",
      "</tr>\n",
      "</table>]\n"
     ]
    }
   ],
   "source": [
    "print(f'table 수: {len(table)}')\n",
    "print()\n",
    "print(table)"
   ]
  },
  {
   "cell_type": "markdown",
   "id": "ddddb3e6",
   "metadata": {},
   "source": [
    "## 태그와 속성을 함께 이용해 추출 가능"
   ]
  },
  {
   "cell_type": "code",
   "execution_count": 59,
   "id": "8b44c0a7",
   "metadata": {},
   "outputs": [],
   "source": [
    "table = bs_obj.find_all('table', {'border':'2'})"
   ]
  },
  {
   "cell_type": "code",
   "execution_count": 60,
   "id": "74ffcbf7",
   "metadata": {},
   "outputs": [
    {
     "data": {
      "text/plain": [
       "[<table border=\"2\">\n",
       " <caption>두번째 표</caption>\n",
       " <tr>\n",
       " <th>상품</th>\n",
       " <th>가격</th>\n",
       " </tr>\n",
       " <tr>\n",
       " <td>item 03</td>\n",
       " <td>3000</td>\n",
       " </tr>\n",
       " <tr>\n",
       " <td>item 04</td>\n",
       " <td>4000</td>\n",
       " </tr>\n",
       " </table>]"
      ]
     },
     "execution_count": 60,
     "metadata": {},
     "output_type": "execute_result"
    }
   ],
   "source": [
    "table"
   ]
  },
  {
   "cell_type": "code",
   "execution_count": null,
   "id": "bd6bfe6a",
   "metadata": {},
   "outputs": [],
   "source": []
  }
 ],
 "metadata": {
  "kernelspec": {
   "display_name": "Python 3 (ipykernel)",
   "language": "python",
   "name": "python3"
  },
  "language_info": {
   "codemirror_mode": {
    "name": "ipython",
    "version": 3
   },
   "file_extension": ".py",
   "mimetype": "text/x-python",
   "name": "python",
   "nbconvert_exporter": "python",
   "pygments_lexer": "ipython3",
   "version": "3.9.12"
  }
 },
 "nbformat": 4,
 "nbformat_minor": 5
}
