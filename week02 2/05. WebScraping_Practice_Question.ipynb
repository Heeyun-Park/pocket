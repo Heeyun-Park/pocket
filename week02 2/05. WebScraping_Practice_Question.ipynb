{
 "cells": [
  {
   "cell_type": "markdown",
   "id": "74c987b2",
   "metadata": {},
   "source": [
    "<span style = 'font-size:1.5em;line-height:1.5em'><b>1. </b>국민대학교 경영대학 AI빅데이터융합경영학과 소개 페이지에서 다음과 같은 텍스트를 추출하라.</span>\n",
    "\n",
    "\"AI빅데이터 역량과 비즈니스 마인드를 겸비한 디지털 경영 전문인력 양성\"\n",
    "\n",
    "\"AI와 빅데이터를 활용한 업무 자동화와 효율화는 기업 운영 전반에 비용 절감을 이끌고 있으며 이를 활용한 새로운 비즈니스 영역이 빠르게 확장되고 있습니다. 이에 따라 마케팅, 인사조직, 금융, 생산관리 등 현장 실무와 경영 환경이 빅데이터와 AI를 응용하는 방식으로 변화하고 있습니다. AI빅데이터융합경영학과는 산업 현장에 대응하는 비즈니스 이해와 협업 능력을 갖춘 창의적 혁신가, 빅데이터 기반의 문제해결 역량을 갖춘 분석 전문가, AI를 응용하고 활용할 줄 아는 융합형 전문가를 양성하는 것을 목표로 합니다.\""
   ]
  },
  {
   "cell_type": "code",
   "execution_count": 1,
   "id": "4bcbc156",
   "metadata": {},
   "outputs": [],
   "source": [
    "from bs4 import BeautifulSoup\n",
    "from urllib.request import urlopen\n",
    "# import urllib"
   ]
  },
  {
   "cell_type": "code",
   "execution_count": 2,
   "id": "f873b484",
   "metadata": {},
   "outputs": [],
   "source": [
    "url = 'https://biz.kookmin.ac.kr/undergraduate/ai/intro'\n",
    "html = urlopen(url)\n",
    "bs_obj = BeautifulSoup(html)"
   ]
  },
  {
   "cell_type": "markdown",
   "id": "ceee472c",
   "metadata": {},
   "source": [
    "- <span style = 'font-size:1.1em;line-height:1.5em'>첫번째 텍스트</span>"
   ]
  },
  {
   "cell_type": "code",
   "execution_count": null,
   "id": "179bcf2b",
   "metadata": {},
   "outputs": [],
   "source": [
    "# 여기에 코드를 입력하세요."
   ]
  },
  {
   "cell_type": "code",
   "execution_count": 6,
   "id": "29d9de99",
   "metadata": {},
   "outputs": [
    {
     "name": "stdout",
     "output_type": "stream",
     "text": [
      "AI빅데이터 역량과 비즈니스 마인드를  겸비한 디지털 경영 전문인력 양성\n"
     ]
    }
   ],
   "source": [
    "print(text1)"
   ]
  },
  {
   "cell_type": "markdown",
   "id": "0b2c19e9",
   "metadata": {},
   "source": [
    "- <span style = 'font-size:1.1em;line-height:1.5em'>두번째 텍스트</span>"
   ]
  },
  {
   "cell_type": "code",
   "execution_count": null,
   "id": "e45dd9a2",
   "metadata": {},
   "outputs": [],
   "source": [
    "# 여기에 코드를 입력하세요."
   ]
  },
  {
   "cell_type": "code",
   "execution_count": 10,
   "id": "1ed2452c",
   "metadata": {},
   "outputs": [
    {
     "data": {
      "text/plain": [
       "'AI와 빅데이터를 활용한 업무 자동화와 효율화는 기업 운영 전반에 비용 절감을 이끌고 있으며 이를 활용한 새로운 비즈니스 영역이 빠르게 확장되고 있습니다. 이에 따라 마케팅, 인사조직, 금융, 생산관리 등 현장 실무와 경영 환경이 빅데이터와 AI를 응용하는 방식으로 변화하고 있습니다. AI빅데이터융합경영학과는 산업 현장에 대응하는 비즈니스 이해와 협업 능력을 갖춘 창의적 혁신가, 빅데이터 기반의 문제해결 역량을 갖춘 분석 전문가, AI를 응용하고 활용할 줄 아는 융합형 전문가를 양성하는 것을 목표로 합니다. '"
      ]
     },
     "execution_count": 10,
     "metadata": {},
     "output_type": "execute_result"
    }
   ],
   "source": [
    "text2"
   ]
  },
  {
   "cell_type": "code",
   "execution_count": 11,
   "id": "33522454",
   "metadata": {},
   "outputs": [
    {
     "name": "stdout",
     "output_type": "stream",
     "text": [
      "AI빅데이터 역량과 비즈니스 마인드를  겸비한 디지털 경영 전문인력 양성\n",
      "AI와 빅데이터를 활용한 업무 자동화와 효율화는 기업 운영 전반에 비용 절감을 이끌고 있으며 이를 활용한 새로운 비즈니스 영역이 빠르게 확장되고 있습니다. 이에 따라 마케팅, 인사조직, 금융, 생산관리 등 현장 실무와 경영 환경이 빅데이터와 AI를 응용하는 방식으로 변화하고 있습니다. AI빅데이터융합경영학과는 산업 현장에 대응하는 비즈니스 이해와 협업 능력을 갖춘 창의적 혁신가, 빅데이터 기반의 문제해결 역량을 갖춘 분석 전문가, AI를 응용하고 활용할 줄 아는 융합형 전문가를 양성하는 것을 목표로 합니다. \n"
     ]
    }
   ],
   "source": [
    "print(text1)\n",
    "print(text2)"
   ]
  },
  {
   "cell_type": "markdown",
   "id": "a5bc328a",
   "metadata": {},
   "source": [
    "<span style = 'font-size:1.5em;line-height:1.5em'><b>2. </b>네이버 웹툰에서 '대학원 탈출일지' 175화에 해당하는 베스트 댓글 10개를 수집하세요.</span>"
   ]
  },
  {
   "cell_type": "code",
   "execution_count": 12,
   "id": "be3b451c",
   "metadata": {},
   "outputs": [],
   "source": [
    "from selenium import webdriver\n",
    "driver = webdriver.Chrome('D:\\MyWorkspace\\chromedriver.exe')\n",
    "url = 'https://comic.naver.com/webtoon/detail?titleId=790713&no=176&week=finish'\n",
    "driver.get(url)"
   ]
  },
  {
   "cell_type": "code",
   "execution_count": null,
   "id": "80256190",
   "metadata": {},
   "outputs": [],
   "source": [
    "# 여기에 코드를 입력하세요."
   ]
  },
  {
   "cell_type": "markdown",
   "id": "bdb38334",
   "metadata": {},
   "source": [
    "<span style = 'font-size:1.5em;line-height:1.5em'><b>3. </b>공공데이터포털(www.data.go.kr) 의 '한국부동산원_부동산 거래 현황 통계 조회 서비스' 데이터에서 2021년 한 해동안 월별 외국인의 거래 유형 현황을 추출하는 파이썬 코드를 작성하라. (단, API를 반드시 활용) '외국인거래 건수 조회'테이블을 활용하면 된다. 홈페이지에서 직접 뽑은 데이터와 비교를 해보자.</span>"
   ]
  },
  {
   "cell_type": "markdown",
   "id": "06f7a710",
   "metadata": {},
   "source": [
    "https://api.odcloud.kr/api/RealEstateTradingSvc/v1/getRealEstateTradingCountForeigner?page=1&perPage=10&returnType=JSON&cond%5BRESEARCH_DATE%3A%3ALTE%5D=202112&cond%5BRESEARCH_DATE%3A%3AGTE%5D=202101&cond%5BREGION_CD%3A%3AEQ%5D=11000&cond%5BDEAL_OBJ%3A%3AEQ%5D=01&serviceKey=TDplhvQnUOX1kvdvI7YjnVzaed2aIn%2BkOEhW6zklp4wuUvaj7ZqltJxRCs%2F3QWSurmb5baoUwFU7BNdmm7yaVA%3D%3D\n"
   ]
  },
  {
   "cell_type": "code",
   "execution_count": 15,
   "id": "b3d97671",
   "metadata": {},
   "outputs": [],
   "source": [
    "from bs4 import BeautifulSoup\n",
    "from urllib.request import urlopen"
   ]
  },
  {
   "cell_type": "code",
   "execution_count": null,
   "id": "4d808dc2",
   "metadata": {},
   "outputs": [],
   "source": [
    "# 여기에 코드를 입력하세요"
   ]
  },
  {
   "cell_type": "code",
   "execution_count": 26,
   "id": "d3956ef5",
   "metadata": {},
   "outputs": [
    {
     "name": "stdout",
     "output_type": "stream",
     "text": [
      "202101: 359\n",
      "202102: 370\n",
      "202103: 390\n",
      "202104: 368\n",
      "202105: 385\n",
      "202106: 338\n",
      "202107: 318\n",
      "202108: 333\n",
      "202109: 277\n",
      "202110: 354\n",
      "202111: 312\n",
      "202112: 256\n"
     ]
    }
   ],
   "source": []
  },
  {
   "cell_type": "markdown",
   "id": "a31bbe3a",
   "metadata": {},
   "source": [
    "<span style = 'font-size:1.5em;line-height:1.5em'><b>4. </b> \"3. WebScraping(3).ipynb\"에서는 \"재벌집 막내아들\" 75화에 해당하는 댓글들을 수집하였습니다. 전체 댓글들 중 30개를 수집해보세요.</span>\n",
    "\n",
    "<span style = 'font-size:1.3em;line-height:1.5em'><b>Hint: </b>\"전체댓글\" 탭을 눌러도 15개 댓글밖에 보여지지 않습니다. \"더보기\"를 눌러야 댓글들을 더 볼 수 있습니다. selenium의 \"화면 조작\" 기능을 활용하여 \"전체댓글\"탭과 \"더보기\"탭을 클릭하는 동작을 수행해봅시다</span>\n"
   ]
  },
  {
   "cell_type": "code",
   "execution_count": null,
   "id": "97eb80c5",
   "metadata": {},
   "outputs": [],
   "source": [
    "from selenium.webdriver.common.by import By\n",
    "from selenium import webdriver"
   ]
  },
  {
   "cell_type": "code",
   "execution_count": null,
   "id": "72db32bf",
   "metadata": {},
   "outputs": [],
   "source": [
    "driver = webdriver.Chrome('D:\\MyWorkspace\\chromedriver.exe')\n",
    "\n",
    "# 페이지 로드를 위해 기다리는 시간\n",
    "driver.implicitly_wait(3)\n",
    "\n",
    "# scraping하려는 웹페이지 주소를 get()에 전달\n",
    "url = 'https://comic.naver.com/webtoon/detail?titleId=800770&no=75'\n",
    "driver.get(url)"
   ]
  },
  {
   "cell_type": "code",
   "execution_count": null,
   "id": "2deea6f6",
   "metadata": {},
   "outputs": [],
   "source": [
    "# 여기에 코드를 입력하세요."
   ]
  }
 ],
 "metadata": {
  "kernelspec": {
   "display_name": "Python 3 (ipykernel)",
   "language": "python",
   "name": "python3"
  },
  "language_info": {
   "codemirror_mode": {
    "name": "ipython",
    "version": 3
   },
   "file_extension": ".py",
   "mimetype": "text/x-python",
   "name": "python",
   "nbconvert_exporter": "python",
   "pygments_lexer": "ipython3",
   "version": "3.9.12"
  }
 },
 "nbformat": 4,
 "nbformat_minor": 5
}
